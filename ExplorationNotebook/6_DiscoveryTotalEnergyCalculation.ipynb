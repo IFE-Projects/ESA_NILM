{
 "cells": [
  {
   "cell_type": "markdown",
   "id": "219265b2",
   "metadata": {
    "heading_collapsed": true
   },
   "source": [
    "# Calculation of Total Energy\n",
    "\n",
    "This is the focus in studyingthe calculation of total energy (kWh - kiowatt Watt per hour) usage in NILMTK.   The ***totalenery.py*** file contains the **TotalEnergy(Node)** class and other functions.  Below two functions to need to take note\n",
    "\n",
    "- timedelta64_to_secs(timedelta)\n",
    "- _energy_for_power_series(series, max_sample_period)\n",
    "\n",
    "In summary, it first convert data in **second** (6 Sampling Rate) to Joule unit.\n",
    "**\"joules = watts x seconds\"**.  Then, it sum up the values, then it will be total of joules for the period of time.   Next step, the total value divides by **\"JOULES_PER_KWH = 3600000\"**.   The return value is represent as kWh unit.\n",
    "\n",
    "- 1 [Watt] = 1 [J/s]\n",
    "- 1 kWh = 1000Wh = [1000[J]/1[s]]* 3600[s] = 3,600,000[J]"
   ]
  },
  {
   "cell_type": "markdown",
   "id": "2c618e54",
   "metadata": {
    "heading_collapsed": true
   },
   "source": [
    "# Initialization"
   ]
  },
  {
   "cell_type": "code",
   "execution_count": null,
   "id": "53c7f389",
   "metadata": {
    "hidden": true
   },
   "outputs": [],
   "source": [
    "import dateutil\n",
    "import gc\n",
    "import warnings\n",
    "\n",
    "import matplotlib.pyplot as plt\n",
    "import numpy as np\n",
    "import pandas as pd\n",
    "\n",
    "from datetime import datetime\n",
    "\n",
    "import nilmtk as ntk\n",
    "import util as ut\n",
    "\n",
    "warnings.filterwarnings(\"ignore\")\n",
    "plt.rcParams['figure.figsize'] = [15, 10]\n",
    "\n",
    "RAW_FILENAME = \"../Dataset/ukdale.h5\"\n",
    "\n",
    "START_TS ='2014-12-07 00:00:00'\n",
    "END_TS='2014-12-07 23:59:59'\n",
    "\n",
    "\n",
    "HOUSE_NUMBER = 1\n",
    "\n",
    "# 1 kWh, 3600000 J\n",
    "JOULES_PER_KWH = 3600000"
   ]
  },
  {
   "cell_type": "markdown",
   "id": "a3c5d245",
   "metadata": {
    "heading_collapsed": true
   },
   "source": [
    "# Create Objects and Set Window Timeframe\n",
    "\n",
    "Dataset -> MeterGroup -> Dataframe"
   ]
  },
  {
   "cell_type": "code",
   "execution_count": null,
   "id": "15c0d5e3",
   "metadata": {
    "hidden": true
   },
   "outputs": [],
   "source": [
    "# Create Dataset object for UK-DALE\n",
    "ukdale_ds = ntk.DataSet(RAW_FILENAME)\n",
    "\n",
    "# Set the duration window from START_TS to END_TS\n",
    "ukdale_ds.set_window(start=START_TS,end=END_TS)\n",
    "\n",
    "# Create object for house_data and\n",
    "# using global variable \"HOUSE_NUMBER\"\n",
    "#\n",
    "house_data = ukdale_ds.buildings[HOUSE_NUMBER].elec\n",
    "\n",
    "# Create a 'mains' variable\n",
    "mains = house_data.mains()\n",
    "\n",
    "mains.total_energy()"
   ]
  },
  {
   "cell_type": "markdown",
   "id": "87a9cd5b",
   "metadata": {
    "heading_collapsed": true
   },
   "source": [
    "# Explore **Mains**  Dataset:  2014-12-07 "
   ]
  },
  {
   "cell_type": "code",
   "execution_count": null,
   "id": "ec73b1c0",
   "metadata": {
    "hidden": true
   },
   "outputs": [],
   "source": [
    "mains_df = next(mains.load(sample_period=6))\n",
    "\n",
    "mains_df.plot()"
   ]
  },
  {
   "cell_type": "code",
   "execution_count": null,
   "id": "3f155c25",
   "metadata": {
    "hidden": true
   },
   "outputs": [],
   "source": [
    "mains_in_hour_df = mains_df[\"2014-12-07\"].resample('60min').mean()\n",
    "\n",
    "mains_in_hour_df.plot(kind=\"bar\")"
   ]
  },
  {
   "cell_type": "code",
   "execution_count": null,
   "id": "112cc9eb",
   "metadata": {
    "hidden": true
   },
   "outputs": [],
   "source": [
    "mains_in_hour_df.mean() * 10"
   ]
  },
  {
   "cell_type": "markdown",
   "id": "d4fda059",
   "metadata": {
    "heading_collapsed": true
   },
   "source": [
    "# Calculation of kWh in Joules units with NILMTK\n",
    "\n",
    "**Joule** is a derived units of energy in the International System of Units.  It is equal to the amount of work done when force of 1 newton displaces a mass through distance of 1 metre in the diection of the force applied. [wiki](https://en.wikipedia.org/wiki/Joule)\n",
    "\n",
    "joules = watts x seconds\n",
    "\n",
    "JOULES_PER_KWH = 3600000 "
   ]
  },
  {
   "cell_type": "code",
   "execution_count": null,
   "id": "63041dd3",
   "metadata": {
    "hidden": true
   },
   "outputs": [],
   "source": [
    "def timedelta64_to_secs(timedelta):\n",
    "    \"\"\"Convert `timedelta` to seconds.\n",
    "\n",
    "    Parameters\n",
    "    ----------\n",
    "    timedelta : np.timedelta64\n",
    "\n",
    "    Returns\n",
    "    -------\n",
    "    float : seconds\n",
    "    \"\"\"\n",
    "    if len(timedelta) == 0:\n",
    "        return np.array([])\n",
    "    else:\n",
    "        return timedelta / np.timedelta64(1, 's')"
   ]
  },
  {
   "cell_type": "code",
   "execution_count": null,
   "id": "b7c63efd",
   "metadata": {
    "hidden": true
   },
   "outputs": [],
   "source": [
    "def _energy_for_power_series(series, max_sample_period):\n",
    "    \"\"\"\n",
    "    Parameters\n",
    "    ----------\n",
    "    series : pd.Series\n",
    "    max_sample_period : float or int\n",
    "\n",
    "    Returns\n",
    "    -------\n",
    "    energy : float\n",
    "        kWh\n",
    "    \"\"\"\n",
    "    series = series.dropna()\n",
    "    timedelta = np.diff(series.index.values)\n",
    "    print(\"Data Type of timedelta - {}\".format(type(timedelta)))\n",
    "    timedelta_secs = timedelta64_to_secs(timedelta)\n",
    "    del timedelta\n",
    "    gc.collect()\n",
    "    timedelta_secs = timedelta_secs.clip(max=max_sample_period)\n",
    "    joules = (timedelta_secs * series.values[:-1]).sum()\n",
    "    kwh = joules / JOULES_PER_KWH\n",
    "    return kwh"
   ]
  },
  {
   "cell_type": "code",
   "execution_count": null,
   "id": "b3b616e5",
   "metadata": {
    "hidden": true
   },
   "outputs": [],
   "source": [
    "sr_mains_apparent = mains_df[('power', 'apparent')]"
   ]
  },
  {
   "cell_type": "code",
   "execution_count": null,
   "id": "654f45be",
   "metadata": {
    "hidden": true,
    "scrolled": true
   },
   "outputs": [],
   "source": [
    "mains_aday_energy_custom = _energy_for_power_series(sr_mains_apparent, 6)\n",
    "\n",
    "mains_aday_energy_api = mains.total_energy()\n",
    "\n",
    "print(\"\\nTotal Energy Usage (apparent) for a day kWh at 2014-12-07\")\n",
    "print(\"Custom          - {:.3f} \".format(mains_aday_energy_custom))\n",
    "print(\"From NILMTK API - {:.3f} \".format(mains_aday_energy_api['apparent']))"
   ]
  },
  {
   "cell_type": "markdown",
   "id": "b3125658",
   "metadata": {
    "hidden": true
   },
   "source": [
    "## Function Break Down Analysis"
   ]
  },
  {
   "cell_type": "code",
   "execution_count": null,
   "id": "cdee6bd5",
   "metadata": {
    "hidden": true
   },
   "outputs": [],
   "source": [
    "# Raw mains data for a day\n",
    "sr_raw = mains_df[('power', 'apparent')]\n",
    "\n",
    "# There is no null, anywhere, drop those null value\n",
    "sr = sr_raw.dropna()\n",
    "\n",
    "sr.count"
   ]
  },
  {
   "cell_type": "code",
   "execution_count": null,
   "id": "1c09c16d",
   "metadata": {
    "hidden": true
   },
   "outputs": [],
   "source": [
    "timedelta = np.diff(sr.index.values)\n",
    "\n",
    "print(type(timedelta))\n",
    "print(len(timedelta))"
   ]
  },
  {
   "cell_type": "code",
   "execution_count": null,
   "id": "44a8a0ec",
   "metadata": {
    "hidden": true
   },
   "outputs": [],
   "source": [
    "timedelta"
   ]
  },
  {
   "cell_type": "code",
   "execution_count": null,
   "id": "ac33d46e",
   "metadata": {
    "hidden": true
   },
   "outputs": [],
   "source": [
    "timedelta_secs = timedelta64_to_secs(timedelta)\n",
    "\n",
    "print(type(timedelta_secs))\n",
    "print(len(timedelta_secs))\n",
    "timedelta_secs"
   ]
  },
  {
   "cell_type": "code",
   "execution_count": null,
   "id": "a1c46467",
   "metadata": {
    "hidden": true
   },
   "outputs": [],
   "source": [
    "timedelta_secs = timedelta_secs.clip(max=6)\n",
    "\n",
    "print(type(timedelta_secs))\n",
    "print(len(timedelta_secs))\n",
    "timedelta_secs"
   ]
  },
  {
   "cell_type": "code",
   "execution_count": null,
   "id": "594dd443",
   "metadata": {
    "hidden": true
   },
   "outputs": [],
   "source": [
    "joules = (timedelta_secs * sr.values[:-1]).sum()"
   ]
  },
  {
   "cell_type": "code",
   "execution_count": null,
   "id": "dc622c92",
   "metadata": {
    "hidden": true
   },
   "outputs": [],
   "source": [
    "print(type(joules))\n",
    "print(len(sr.values[:-1]))"
   ]
  },
  {
   "cell_type": "code",
   "execution_count": null,
   "id": "f60f5830",
   "metadata": {
    "hidden": true
   },
   "outputs": [],
   "source": [
    "joules"
   ]
  },
  {
   "cell_type": "code",
   "execution_count": null,
   "id": "52569c62",
   "metadata": {
    "hidden": true
   },
   "outputs": [],
   "source": [
    "arr1 = np.array([1, 2, 3, 4, 5])\n",
    "arr2 = np.array([10, 20, 30, 40, 50])\n",
    "tot = (arr1 * arr2).sum()\n",
    "tot"
   ]
  },
  {
   "cell_type": "markdown",
   "id": "662f5bf9",
   "metadata": {
    "heading_collapsed": true
   },
   "source": [
    "# Workout & Findings\n",
    "\n",
    "After the completion this notebook, prepare a simple presentation slide to express your summary and new discovery information from here.\n",
    "\n",
    "Suggestion: \n",
    "- May design a loop to get kWh for daily of mains\n",
    "- May design a loop to get appliances"
   ]
  }
 ],
 "metadata": {
  "kernelspec": {
   "display_name": "Python 3",
   "language": "python",
   "name": "python3"
  },
  "language_info": {
   "codemirror_mode": {
    "name": "ipython",
    "version": 3
   },
   "file_extension": ".py",
   "mimetype": "text/x-python",
   "name": "python",
   "nbconvert_exporter": "python",
   "pygments_lexer": "ipython3",
   "version": "3.6.10"
  },
  "toc": {
   "base_numbering": 1,
   "nav_menu": {},
   "number_sections": true,
   "sideBar": true,
   "skip_h1_title": false,
   "title_cell": "Table of Contents",
   "title_sidebar": "Contents",
   "toc_cell": false,
   "toc_position": {},
   "toc_section_display": true,
   "toc_window_display": false
  }
 },
 "nbformat": 4,
 "nbformat_minor": 5
}
