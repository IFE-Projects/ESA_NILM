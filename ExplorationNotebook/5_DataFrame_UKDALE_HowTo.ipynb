{
 "cells": [
  {
   "cell_type": "markdown",
   "id": "b4f28b8f",
   "metadata": {
    "heading_collapsed": true
   },
   "source": [
    "# Dataframe HowTo with UK-DALE - Daily Analysis\n",
    "\n",
    "Series and DataFrame objects in pandas are very powerful tools for exploring and analyzing data. Part of their power comes from a multifaceted approach to combining separate datasets, and also performing query for the filter data.\n",
    "\n",
    "This ipynb is aim to support \"daily\" UK-DALE analysis, it targets to break down into day, minute(s) or second(s).\n",
    "\n",
    "**Reference:**\n",
    "- [Pandas Documentation 0.25.3](https://pandas.pydata.org/pandas-docs/version/0.25.3/getting_started/comparison/comparison_with_sql.html)\n",
    "- [Pandas Query w3schools](https://www.w3schools.com/python/pandas/ref_df_query.asp)\n",
    "- [Concatnate Pandas Series](https://www.w3resource.com/pandas/series/series-append.php)\n",
    "- [Dealing with DateTime Index with Pandas](https://www.sergilehkyi.com/tips-on-working-with-datetime-index-in-pandas/)\n",
    "        "
   ]
  },
  {
   "cell_type": "code",
   "execution_count": null,
   "id": "293b6ba6",
   "metadata": {
    "hidden": true
   },
   "outputs": [],
   "source": [
    "import dateutil\n",
    "import warnings\n",
    "\n",
    "import matplotlib.pyplot as plt\n",
    "import numpy as np\n",
    "import pandas as pd\n",
    "\n",
    "from datetime import datetime\n",
    "\n",
    "import nilmtk as ntk\n",
    "import util as ut\n",
    "\n",
    "print(\"Pandas version: {}\".format(pd.__version__))"
   ]
  },
  {
   "cell_type": "code",
   "execution_count": null,
   "id": "83d4de5f",
   "metadata": {
    "hidden": true
   },
   "outputs": [],
   "source": [
    "plt.rcParams['figure.figsize'] = [15, 10]\n",
    "RAW_FILENAME = \"../Dataset/ukdale.h5\"\n",
    "\n",
    "START_TS ='2013-08-01 00:00:00'\n",
    "END_TS='2013-08-01 23:59:59'\n",
    "\n",
    "STR_TITLE_TS = START_TS + \" To \" + END_TS\n",
    "\n",
    "HOUSE_NUMBER = 1\n",
    "\n",
    "# Create object for ukdale\n",
    "train_ds = ntk.DataSet(RAW_FILENAME)\n",
    "train_ds.set_window(start=START_TS,end=END_TS)\n",
    "\n",
    "# Create object for house_data and\n",
    "# using global variable \"HOUSE_NUMBER\"\n",
    "train_house_data = train_ds.buildings[HOUSE_NUMBER].elec"
   ]
  },
  {
   "cell_type": "markdown",
   "id": "431b6a16",
   "metadata": {
    "heading_collapsed": true
   },
   "source": [
    "# Mains and Top 5 Appliances\n",
    "\n",
    "This is to breakdown individual analysis to perform data summary with generating two materialized dataframes."
   ]
  },
  {
   "cell_type": "markdown",
   "id": "40f0890b",
   "metadata": {
    "heading_collapsed": true,
    "hidden": true
   },
   "source": [
    "## Mains - mains_df"
   ]
  },
  {
   "cell_type": "markdown",
   "id": "1e40f7cf",
   "metadata": {
    "heading_collapsed": true,
    "hidden": true
   },
   "source": [
    "### Get mains and load to dataframe - mains_df "
   ]
  },
  {
   "cell_type": "code",
   "execution_count": null,
   "id": "64de6d32",
   "metadata": {
    "hidden": true
   },
   "outputs": [],
   "source": [
    "mains = train_house_data.mains()\n",
    "raw_df_mains = next(mains.load(sample_period=6))\n",
    "\n",
    "raw_df_mains.shape"
   ]
  },
  {
   "cell_type": "code",
   "execution_count": null,
   "id": "e1d7b1d7",
   "metadata": {
    "hidden": true
   },
   "outputs": [],
   "source": [
    "raw_df_mains.columns"
   ]
  },
  {
   "cell_type": "code",
   "execution_count": null,
   "id": "1fe49421",
   "metadata": {
    "hidden": true
   },
   "outputs": [],
   "source": [
    "raw_df_mains.head()"
   ]
  },
  {
   "cell_type": "markdown",
   "id": "d442e9a2",
   "metadata": {
    "heading_collapsed": true,
    "hidden": true
   },
   "source": [
    "### Flatten Multi-Index columns header and change header name - view_df_main"
   ]
  },
  {
   "cell_type": "code",
   "execution_count": null,
   "id": "9ab80a85",
   "metadata": {
    "hidden": true,
    "scrolled": false
   },
   "outputs": [],
   "source": [
    "view_df_mains = raw_df_mains.copy()\n",
    "\n",
    "view_df_mains.columns = [\"_\".join(pair) for pair in view_df_mains.columns]\n",
    "\n",
    "#view_df_main\n",
    "\n",
    "# change column name \n",
    "view_df_mains = view_df_mains.rename(columns={\"power_active\":\"m_active\"})\n",
    "view_df_mains = view_df_mains.rename(columns={\"voltage_\":\"m_voltage\"})\n",
    "view_df_mains = view_df_mains.rename(columns={\"power_apparent\":\"m_apparent\"})\n",
    "\n",
    "view_df_mains.describe()"
   ]
  },
  {
   "cell_type": "markdown",
   "id": "7cc5343f",
   "metadata": {
    "heading_collapsed": true,
    "hidden": true
   },
   "source": [
    "### Analysis mains Hourly with Boxplot"
   ]
  },
  {
   "cell_type": "code",
   "execution_count": null,
   "id": "143c3057",
   "metadata": {
    "hidden": true
   },
   "outputs": [],
   "source": [
    "fig, axes = plt.subplots(nrows=3, ncols=1, figsize=(16, 23))\n",
    "\n",
    "plot_df_bp = view_df_mains.copy()\n",
    "\n",
    "plot_df_bp['InHour'] = plot_df_bp.index.strftime('%H')\n",
    "plot_df_bp = plot_df_bp.set_index('InHour')\n",
    "\n",
    "plot_df_bp.boxplot(by='InHour', column=['m_active'], ax = axes[0])\n",
    "plot_df_bp.boxplot(by='InHour', column=['m_voltage'], ax = axes[1])\n",
    "plot_df_bp.boxplot(by='InHour', column=['m_apparent'], ax = axes[2])"
   ]
  },
  {
   "cell_type": "markdown",
   "id": "9083091a",
   "metadata": {
    "heading_collapsed": true,
    "hidden": true
   },
   "source": [
    "### Resample to Minute & Plot"
   ]
  },
  {
   "cell_type": "code",
   "execution_count": null,
   "id": "d6832279",
   "metadata": {
    "hidden": true
   },
   "outputs": [],
   "source": [
    "# Duplicate dataframe for plotting\n",
    "plot_df_resample = view_df_mains.resample('1min').mean()\n",
    "\n",
    "# Handling xtickslabel datetime format\n",
    "plot_df_resample[\"TS\"] = plot_df_resample.index.strftime('%H:%M:%S')\n",
    "plot_df_resample = plot_df_resample.set_index('TS')\n",
    "\n",
    "plot_df_resample.plot(subplots=True, x_compat=True, grid=True)"
   ]
  },
  {
   "cell_type": "code",
   "execution_count": null,
   "id": "fc16a111",
   "metadata": {
    "hidden": true
   },
   "outputs": [],
   "source": [
    "plot_df_resample.describe(include = 'all')"
   ]
  },
  {
   "cell_type": "markdown",
   "id": "1eb592db",
   "metadata": {
    "heading_collapsed": true,
    "hidden": true
   },
   "source": [
    "### Check whether any null values in columns"
   ]
  },
  {
   "cell_type": "code",
   "execution_count": null,
   "id": "a167e94a",
   "metadata": {
    "hidden": true
   },
   "outputs": [],
   "source": [
    "cnt = 0\n",
    "for column in view_df_main:\n",
    "    cnt_null = view_df_mains[column].isnull().sum()\n",
    "    if cnt_null > 0:\n",
    "        print(\"{} has {} null row(s).\".format(column, cnt_null))\n",
    "        cnt=+1\n",
    "\n",
    "if cnt == 0:\n",
    "    print(\"Hurray! No null value found in mains_df.\")"
   ]
  },
  {
   "cell_type": "markdown",
   "id": "5044a82b",
   "metadata": {
    "heading_collapsed": true,
    "hidden": true
   },
   "source": [
    "## Top 5 Appliances"
   ]
  },
  {
   "cell_type": "markdown",
   "id": "38341dac",
   "metadata": {
    "heading_collapsed": true,
    "hidden": true
   },
   "source": [
    "### Get Top 5 appliances and load to dataframe - top_5_appliances_df"
   ]
  },
  {
   "cell_type": "code",
   "execution_count": null,
   "id": "9149f35c",
   "metadata": {
    "hidden": true
   },
   "outputs": [],
   "source": [
    "## Select Top-5 Appliances\n",
    "top_5_house_data = train_house_data.submeters().select_top_k(k=5)\n",
    "\n",
    "print(\"\\n\\nData Type of mg_top is {}.\".format(type(top_5_house_data))) \n",
    "\n",
    "# Show the selected MeterGroup values\n",
    "top_5_house_data"
   ]
  },
  {
   "cell_type": "code",
   "execution_count": null,
   "id": "98cf2192",
   "metadata": {
    "hidden": true
   },
   "outputs": [],
   "source": [
    "# Load data to dataframe from MeterGroup\n",
    "raw_df_appliances_top5 = top_5_house_data.dataframe_of_meters()\n",
    "\n",
    "print(\"Is there any null value in dataframe = {}.\\n\".format(raw_df_appliances_top5.isnull().values.any()))\n",
    "\n",
    "# Change readable column name\n",
    "raw_df_appliances_top5.columns = train_house_data.get_labels(raw_df_appliances_top5.columns)\n",
    "\n",
    "# Show dataframe info for MeterGroup\n",
    "raw_df_appliances_top5.describe()"
   ]
  },
  {
   "cell_type": "code",
   "execution_count": null,
   "id": "271ec7ec",
   "metadata": {
    "hidden": true
   },
   "outputs": [],
   "source": [
    "raw_df_appliances_top5.shape"
   ]
  },
  {
   "cell_type": "code",
   "execution_count": null,
   "id": "17fbca63",
   "metadata": {
    "hidden": true
   },
   "outputs": [],
   "source": [
    "totcolrow = raw_df_appliances_top5.shape\n",
    "print(\"There are totla of {} columns and {} rows in the top5 dataframe.\".format(totcolrow[1], totcolrow[0]))\n",
    "\n",
    "for column in raw_df_appliances_top5:\n",
    "    cnt_null = raw_df_appliances_top5[column].isnull().sum()\n",
    "    if cnt_null > 0:\n",
    "        print(\"{} has {} null row(s).\".format(column, cnt_null))"
   ]
  },
  {
   "cell_type": "markdown",
   "id": "8aafbddf",
   "metadata": {
    "code_folding": [],
    "heading_collapsed": true,
    "hidden": true
   },
   "source": [
    "### Check whether any missing data and Fix"
   ]
  },
  {
   "cell_type": "code",
   "execution_count": null,
   "id": "78a3523c",
   "metadata": {
    "hidden": true
   },
   "outputs": [],
   "source": [
    "raw_df_appliances_top5[raw_df_appliances_top5.isnull().any(axis=1)]"
   ]
  },
  {
   "cell_type": "code",
   "execution_count": null,
   "id": "e30e4da6",
   "metadata": {
    "hidden": true
   },
   "outputs": [],
   "source": [
    "# Duplicate raw top5 appliance dataframe to new fix\n",
    "top5_fix_df = raw_df_appliances_top5.copy()\n",
    "\n",
    "# Fix by replacing null to zero\n",
    "top5_fix_df['Kettle'] = top5_fix_df['Kettle'].fillna(0)"
   ]
  },
  {
   "cell_type": "markdown",
   "id": "ab9dd1d7",
   "metadata": {
    "heading_collapsed": true,
    "hidden": true
   },
   "source": [
    "### Plot Top 5 Appliances"
   ]
  },
  {
   "cell_type": "code",
   "execution_count": null,
   "id": "805e9df2",
   "metadata": {
    "hidden": true
   },
   "outputs": [],
   "source": [
    "# Make a copy of dataframe and materialize for plotting\n",
    "\n",
    "plot_top5_df = top5_fix_df.copy()\n",
    "\n",
    "plot_top5_df[\"TS\"] = plot_top5_df.index.strftime('%H:%M:%S')\n",
    "\n",
    "plot_top5_df = plot_top5_df.set_index('TS')\n",
    "\n",
    "mytitle = \"Analysis of Appliances Power Usage for a day \\n\" + STR_TITLE_TS\n",
    "plot_top5_df.plot(title=mytitle, subplots=True)"
   ]
  },
  {
   "cell_type": "markdown",
   "id": "2d279930",
   "metadata": {
    "heading_collapsed": true,
    "hidden": true
   },
   "source": [
    "## Initial Data Analysis Mains and Top 5 Appliances - top5_summary_df"
   ]
  },
  {
   "cell_type": "markdown",
   "id": "6b29b4d9",
   "metadata": {
    "heading_collapsed": true,
    "hidden": true
   },
   "source": [
    "### Summarize top5_appliances_df"
   ]
  },
  {
   "cell_type": "code",
   "execution_count": null,
   "id": "b06563d6",
   "metadata": {
    "hidden": true
   },
   "outputs": [],
   "source": [
    "# Initialize a dataframe to store summary\n",
    "top5_summary_df = pd.DataFrame(columns=['Name', 'MIN', 'AVG', 'MAX', 'SUM'])\n",
    "\n",
    "# Get values row by row for top 5 appliances\n",
    "for column in top5_appliances_df:\n",
    "    tmprow = {'Name' : column, \n",
    "              'MIN' : top5_fix_df[column].min(), \n",
    "              'AVG' : top5_fix_df[column].mean(),\n",
    "              'MAX' : top5_fix_df[column].max(),\n",
    "              'SUM' : top5_fix_df[column].sum()\n",
    "             }\n",
    "    \n",
    "    top5_summary_df = top5_summary_df.append(tmprow, ignore_index=True)\n",
    "\n",
    " # Show all data   \n",
    "top5_summary_df.head((top5_summary_df.shape)[0])"
   ]
  },
  {
   "cell_type": "markdown",
   "id": "51f82f4c",
   "metadata": {
    "heading_collapsed": true,
    "hidden": true
   },
   "source": [
    "### Summarize  view_df_mains"
   ]
  },
  {
   "cell_type": "code",
   "execution_count": null,
   "id": "7d82e445",
   "metadata": {
    "hidden": true
   },
   "outputs": [],
   "source": [
    "for column in view_df_mains:\n",
    "    tmprow = {'Name' : column, \n",
    "              'MIN' : view_df_mains[column].min(), \n",
    "              'AVG' : view_df_mains[column].mean(),\n",
    "              'MAX' : view_df_mains[column].max(),\n",
    "              'SUM' : view_df_mains[column].sum()\n",
    "             }\n",
    "    top5_summary_df = top5_summary_df.append(tmprow, ignore_index=True)\n",
    "\n",
    " # Show all data   \n",
    "top5_summary_df.head((top5_summary_df.shape)[0])"
   ]
  },
  {
   "cell_type": "markdown",
   "id": "e7ecdce3",
   "metadata": {
    "heading_collapsed": true,
    "hidden": true
   },
   "source": [
    "### Findings\n",
    "\n",
    "Found out that the max value of Washer dryer is 3640, and apparent of mains os 3053.  This is abnormal, as mains max value should be higher than all appliances's max value.\n",
    "\n",
    "Further investigation is needed to find out the particular records."
   ]
  },
  {
   "cell_type": "markdown",
   "id": "dba80f97",
   "metadata": {
    "heading_collapsed": true,
    "hidden": true
   },
   "source": [
    "### Study record on appliance 2013-08-01 12:21:54+01:00"
   ]
  },
  {
   "cell_type": "code",
   "execution_count": null,
   "id": "dac15087",
   "metadata": {
    "hidden": true
   },
   "outputs": [],
   "source": [
    "# Filter Washer dryer max value\n",
    "ret_max_rec_app_df = top5_appliances_df.query(\"`Washer dryer` >= 3640\")\n",
    "\n",
    "ret_max_rec_app_df"
   ]
  },
  {
   "cell_type": "code",
   "execution_count": null,
   "id": "18f8b6d6",
   "metadata": {
    "hidden": true
   },
   "outputs": [],
   "source": [
    "# Appliance record on 2013-08-01 12:21:54+01:00\n",
    "top5_appliances_df.loc['2013-08-01 12:21:54+01:00']"
   ]
  },
  {
   "cell_type": "markdown",
   "id": "ef04d251",
   "metadata": {
    "heading_collapsed": true,
    "hidden": true
   },
   "source": [
    "### Study record on mains 2013-08-01 12:21:54+01:00"
   ]
  },
  {
   "cell_type": "code",
   "execution_count": null,
   "id": "ee836a08",
   "metadata": {
    "hidden": true
   },
   "outputs": [],
   "source": [
    "ret_max_rec_m_df = view_df_mains.query(\"`m_apparent` >= 3053\")\n",
    "ret_max_rec_m_df"
   ]
  },
  {
   "cell_type": "code",
   "execution_count": null,
   "id": "47388a23",
   "metadata": {
    "hidden": true
   },
   "outputs": [],
   "source": [
    "# Appliance record on 2013-08-01 12:21:54+01:00\n",
    "view_df_mains.loc['2013-08-01 12:31:54+01:00']"
   ]
  },
  {
   "cell_type": "markdown",
   "id": "e8c4b611",
   "metadata": {
    "heading_collapsed": true
   },
   "source": [
    "# Merging Dataframe \n",
    "\n",
    "This is to merge both dataframe of mains and top5_appliances, it named 'merge_df'.  Then, it follows with comparison analysis."
   ]
  },
  {
   "cell_type": "markdown",
   "id": "b519c485",
   "metadata": {
    "heading_collapsed": true,
    "hidden": true
   },
   "source": [
    "## Validate two index columns "
   ]
  },
  {
   "cell_type": "code",
   "execution_count": null,
   "id": "e984933f",
   "metadata": {
    "hidden": true
   },
   "outputs": [],
   "source": [
    "index_list_mains = list(tmpdf_mains.index.values)\n",
    "index_list_top5 = list(tmpdf_top5.index.values)\n",
    "\n",
    "if(index_list_mains==index_list_top5):\n",
    "  print(\"Equal\")\n",
    "else:\n",
    "  print(\"Non equal\")"
   ]
  },
  {
   "cell_type": "markdown",
   "id": "bdf40e75",
   "metadata": {
    "heading_collapsed": true,
    "hidden": true
   },
   "source": [
    "## Merge two dataframe - merge_df"
   ]
  },
  {
   "cell_type": "code",
   "execution_count": null,
   "id": "41edecdc",
   "metadata": {
    "hidden": true
   },
   "outputs": [],
   "source": [
    "# Duplicate dataframe\n",
    "tmpdf_mains = view_df_mains.copy()\n",
    "tmpdf_top5 = top5_fix_df.copy()\n",
    "\n",
    "# Create a new column and sum of all appliance\n",
    "tmpdf_top5['TotApp'] =  tmpdf_top5.sum(axis=1)\n",
    "\n",
    "merge_df = tmpdf_mains.join(tmpdf_top5)\n",
    "\n",
    "merge_df.shape"
   ]
  },
  {
   "cell_type": "code",
   "execution_count": null,
   "id": "d0f3d5ab",
   "metadata": {
    "hidden": true
   },
   "outputs": [],
   "source": [
    "merge_df"
   ]
  },
  {
   "cell_type": "markdown",
   "id": "9c33eb7b",
   "metadata": {
    "heading_collapsed": true,
    "hidden": true
   },
   "source": [
    "## Plot the overview of merge_df with custom columns"
   ]
  },
  {
   "cell_type": "code",
   "execution_count": null,
   "id": "6cf555ac",
   "metadata": {
    "hidden": true
   },
   "outputs": [],
   "source": [
    "tmpplot_df = merge_df.copy()\n",
    "tmpplot_df[\"TS\"] = tmpplot_df.index.strftime('%H:%M:%S')\n",
    "tmpplot_df = tmpplot_df.set_index('TS')\n",
    "\n",
    "tmpplot_df.plot(title=\"Power Usage of Active vs Apparent vs Total of Appliances\",\n",
    "              y=[\"m_active\", \"m_apparent\", \"TotApp\"])"
   ]
  },
  {
   "cell_type": "markdown",
   "id": "5bdb0a85",
   "metadata": {
    "heading_collapsed": true,
    "hidden": true
   },
   "source": [
    "## Total up the columns of datafame"
   ]
  },
  {
   "cell_type": "code",
   "execution_count": null,
   "id": "41aa01b6",
   "metadata": {
    "hidden": true
   },
   "outputs": [],
   "source": [
    "sumtot_sr = tmpplot_df.select_dtypes(pd.np.number).sum()\n",
    "\n",
    "# Return in Series data type\n",
    "sumtot_sr"
   ]
  },
  {
   "cell_type": "code",
   "execution_count": null,
   "id": "b8131982",
   "metadata": {
    "hidden": true
   },
   "outputs": [],
   "source": [
    "mytitle = \"Mains of Active and Apparent vs Top 5 Appliances\\n\" + STR_TITLE_TS\n",
    "\n",
    "sumtot_sr[['m_active', 'm_apparent', 'TotApp']].plot(kind='bar',\n",
    "                                                     title=mytitle)"
   ]
  },
  {
   "cell_type": "markdown",
   "id": "fa72888b",
   "metadata": {
    "heading_collapsed": true,
    "hidden": true
   },
   "source": [
    "## Ratio of Top 5 Appliances with Others"
   ]
  },
  {
   "cell_type": "code",
   "execution_count": null,
   "id": "822c4618",
   "metadata": {
    "hidden": true
   },
   "outputs": [],
   "source": [
    "fig, axes = plt.subplots(nrows=1, ncols=2, figsize=(16, 6))\n",
    "\n",
    "sumtot_sr['TotOtherAppWithApperent'] = sumtot_sr['m_apparent'] - sumtot_sr['TotApp']\n",
    "\n",
    "mytitle = \"Ratio of Mains (Apperent) for Top 5 vs Others Appliances \\n\" + STR_TITLE_TS\n",
    "mylabel = ['Others Appliances', 'Top 5 Appliances']\n",
    "\n",
    "sumtot_sr[['TotOtherAppWithApperent', 'TotApp']].plot(kind='pie',\n",
    "                                                      labels=mylabel, \n",
    "                                                      autopct='%1.1f%%',\n",
    "                                                      explode=[0,0.1],\n",
    "                                                      shadow=True,\n",
    "                                                      title=mytitle,\n",
    "                                                      ax = axes[0])\n",
    "\n",
    "mytitle = \"Ratio of Mains (Active) for Top 5 vs Others Appliances \\n\" + STR_TITLE_TS\n",
    "sumtot_sr['TotOtherAppWithActive'] = sumtot_sr['m_active'] - sumtot_sr['TotApp']\n",
    "sumtot_sr[['TotOtherAppWithActive', 'TotApp']].plot(kind='pie',\n",
    "                                                    labels=mylabel, \n",
    "                                                    autopct='%1.1f%%',\n",
    "                                                    explode=[0,0.1],\n",
    "                                                    shadow=True,\n",
    "                                                    title=mytitle,\n",
    "                                                    ax = axes[1])\n",
    "\n",
    "plt.show()"
   ]
  },
  {
   "cell_type": "markdown",
   "id": "42442262",
   "metadata": {
    "heading_collapsed": true,
    "hidden": true
   },
   "source": [
    "## Get records of Min and Max"
   ]
  },
  {
   "cell_type": "code",
   "execution_count": null,
   "id": "323f5186",
   "metadata": {
    "hidden": true
   },
   "outputs": [],
   "source": [
    "# This method return in pandas.core.series.Series structure\n",
    "merge_df.loc[merge_df['m_active'].idxmin()]"
   ]
  },
  {
   "cell_type": "code",
   "execution_count": null,
   "id": "46b80e76",
   "metadata": {
    "hidden": true
   },
   "outputs": [],
   "source": [
    "# This method return in pandas.core.frame.DataFrame\n",
    "merge_df.query('m_active == m_active.max()')"
   ]
  },
  {
   "cell_type": "code",
   "execution_count": null,
   "id": "cafd265f",
   "metadata": {
    "hidden": true
   },
   "outputs": [],
   "source": [
    "# This method return in pandas.core.frame.DataFrame\n",
    "merge_df.query('m_voltage == m_voltage.min()')"
   ]
  },
  {
   "cell_type": "code",
   "execution_count": null,
   "id": "8b59ef3c",
   "metadata": {
    "hidden": true
   },
   "outputs": [],
   "source": [
    "# This method return in pandas.core.frame.DataFrame\n",
    "merge_df.query('m_voltage == m_voltage.max()')"
   ]
  },
  {
   "cell_type": "markdown",
   "id": "555ed04b",
   "metadata": {
    "heading_collapsed": true,
    "hidden": true
   },
   "source": [
    "## Validate voltage mains is less than appliances"
   ]
  },
  {
   "cell_type": "code",
   "execution_count": null,
   "id": "c05abc82",
   "metadata": {
    "hidden": true
   },
   "outputs": [],
   "source": [
    "ret_df = merge_df.query(\"m_apparent < TotApp or m_active < TotApp\")\n",
    "\n",
    "ret_df.shape"
   ]
  },
  {
   "cell_type": "code",
   "execution_count": null,
   "id": "fc41267a",
   "metadata": {
    "hidden": true
   },
   "outputs": [],
   "source": [
    "ret_df.head()"
   ]
  },
  {
   "cell_type": "markdown",
   "id": "990d54a6",
   "metadata": {
    "heading_collapsed": true
   },
   "source": [
    "# Zoom to Details to \"merge_df\" into seconds\n",
    "\n",
    "Prior analysis, it detects at \"2013-08-01 02:42:00+01:00\", the apparent power is less than total of top 5 appliances for the power consumption.  So, it requires detailing the analysis."
   ]
  },
  {
   "cell_type": "markdown",
   "id": "80843f84",
   "metadata": {
    "heading_collapsed": true,
    "hidden": true
   },
   "source": [
    "## Initialize and duplicate merge_df dataframe"
   ]
  },
  {
   "cell_type": "code",
   "execution_count": null,
   "id": "c04be408",
   "metadata": {
    "hidden": true
   },
   "outputs": [],
   "source": [
    "ts_zoom_start = '2013-08-01 02:41:00'\n",
    "ts_zoom_end = '2013-08-01 02:43:00'\n",
    "\n",
    "# Extract only focus time duration; before and after\n",
    "merge_df_slide = merge_df.copy()\n",
    "merge_df_slide = merge_df_slide.loc[ts_zoom_start : ts_zoom_end]"
   ]
  },
  {
   "cell_type": "markdown",
   "id": "122c02b3",
   "metadata": {
    "heading_collapsed": true,
    "hidden": true
   },
   "source": [
    "## mains - active, apparent VS fridge freezer"
   ]
  },
  {
   "cell_type": "code",
   "execution_count": null,
   "id": "c59d7a52",
   "metadata": {
    "hidden": true
   },
   "outputs": [],
   "source": [
    "# Extract only interested columns for analysis\n",
    "columns = ['m_voltage', 'Washer dryer', 'Solar thermal pumping station', 'Kettle', 'Television', 'TotApp']\n",
    "merge_df_slide.drop(columns, inplace=True, axis=1)\n",
    "\n",
    "merge_df_slide.shape"
   ]
  },
  {
   "cell_type": "markdown",
   "id": "e67c88ba",
   "metadata": {
    "heading_collapsed": true,
    "hidden": true
   },
   "source": [
    "### Inital data analysis"
   ]
  },
  {
   "cell_type": "code",
   "execution_count": null,
   "id": "3a7aeafd",
   "metadata": {
    "hidden": true
   },
   "outputs": [],
   "source": [
    "merge_df_slide.describe()"
   ]
  },
  {
   "cell_type": "code",
   "execution_count": null,
   "id": "81da624e",
   "metadata": {
    "hidden": true
   },
   "outputs": [],
   "source": [
    "merge_df_slide.head(merge_df_slide.shape[0])"
   ]
  },
  {
   "cell_type": "markdown",
   "id": "44b65290",
   "metadata": {
    "heading_collapsed": true,
    "hidden": true
   },
   "source": [
    "### Zoom detail plotting"
   ]
  },
  {
   "cell_type": "code",
   "execution_count": null,
   "id": "cd48be31",
   "metadata": {
    "hidden": true
   },
   "outputs": [],
   "source": [
    "merge_df_slide[\"TS\"] = merge_df_slide.index.strftime('%H:%M:%S')\n",
    "merge_df_slide = merge_df_slide.set_index('TS')\n",
    "mytitle = \"Analysis of Mains Active, Apparent & Fridge Freezer \\n\" + \"START = \" + ts_zoom_start + \"\\n\" + \"END = \" + ts_zoom_end\n",
    "\n",
    "merge_df_slide.plot(title=mytitle)"
   ]
  },
  {
   "cell_type": "markdown",
   "id": "20283981",
   "metadata": {
    "heading_collapsed": true,
    "hidden": true
   },
   "source": [
    "## mains - voltage VS mains - active, apparent and fridge freezer "
   ]
  },
  {
   "cell_type": "code",
   "execution_count": null,
   "id": "3058f5f8",
   "metadata": {
    "hidden": true
   },
   "outputs": [],
   "source": [
    "# Another method to select column(s) from a dataframe\n",
    "voltage_df = merge_df.copy()\n",
    "voltage_df = merge_df[[\"m_voltage\"]]\n",
    "voltage_df = voltage_df.loc[ts_zoom_start : ts_zoom_end]\n",
    "\n",
    "print(\"Shape of dataframe - voltage_df : {}\".format((voltage_df.shape)))\n",
    "voltage_df.head(voltage_df.shape[0])"
   ]
  },
  {
   "cell_type": "code",
   "execution_count": null,
   "id": "9abc1a0c",
   "metadata": {
    "hidden": true
   },
   "outputs": [],
   "source": [
    "fig, axes = plt.subplots(nrows=1, ncols=2, figsize=(16, 6))\n",
    "\n",
    "voltage_df[\"TS\"] = voltage_df.index.strftime('%H:%M:%S')\n",
    "voltage_df = voltage_df.set_index('TS')\n",
    "mytitle_vol = \"Analysis of Mains Voltage \\n\" + \"START = \" + ts_zoom_start + \"\\n\" + \"END = \" + ts_zoom_end\n",
    "\n",
    "voltage_df.plot(title=mytitle_vol,\n",
    "                rot=45,\n",
    "                ax = axes[0])\n",
    "\n",
    "merge_df_slide.plot(title=mytitle,\n",
    "                    rot=45,\n",
    "                    ax = axes[1])"
   ]
  },
  {
   "cell_type": "markdown",
   "id": "0d7dd746",
   "metadata": {
    "heading_collapsed": true
   },
   "source": [
    "# Workout & Findings\n",
    "\n",
    "After the completion this notebook, prepare a simple presentation slide to express your summary and new discovery information from here.\n",
    "\n",
    "- Further enhancement of more detail analysis\n",
    "- Develop in away that it is reusable"
   ]
  }
 ],
 "metadata": {
  "kernelspec": {
   "display_name": "Python 3",
   "language": "python",
   "name": "python3"
  },
  "language_info": {
   "codemirror_mode": {
    "name": "ipython",
    "version": 3
   },
   "file_extension": ".py",
   "mimetype": "text/x-python",
   "name": "python",
   "nbconvert_exporter": "python",
   "pygments_lexer": "ipython3",
   "version": "3.6.10"
  },
  "toc": {
   "base_numbering": 1,
   "nav_menu": {},
   "number_sections": true,
   "sideBar": true,
   "skip_h1_title": false,
   "title_cell": "Table of Contents",
   "title_sidebar": "Contents",
   "toc_cell": false,
   "toc_position": {},
   "toc_section_display": true,
   "toc_window_display": false
  }
 },
 "nbformat": 4,
 "nbformat_minor": 5
}
