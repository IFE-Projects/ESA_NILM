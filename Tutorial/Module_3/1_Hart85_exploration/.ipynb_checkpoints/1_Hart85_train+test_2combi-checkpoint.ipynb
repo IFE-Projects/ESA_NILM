{
 "cells": [
  {
   "cell_type": "markdown",
   "id": "e36e12b7",
   "metadata": {},
   "source": [
    "# Hart85 using Lab Data\n",
    "- This notebook is written to use the **Hart85 algorithm** to train a model using our lab data\n",
    "- This allows us to use only the **power dataframe in MultiIndex format** instead of the MeterGroup format from NILMTK to use the algorithm's functions\n",
    "\n",
    "**Training dataset**\n",
    "- Model is trained using kettle+vacuum 8 mins data\n",
    "    - Expected to get 2 centroid from clustering (representing 2 'appliances')\n",
    "    \n",
    "**Training module steps:**\n",
    "1. Find steady and transient states\n",
    "2. Pairing transient states\n",
    "3. Clustering using mean shift cluster\n",
    "\n",
    "**Testing dataset:**\n",
    "1. Disaggregation will be using kettle+vacuum 6 mins data\n",
    "    - Expected that 2 centroids will have predicted load close to kettle and vacuum while 2 other centroids will have 0 load\n",
    "    \n",
    "**Disaggregation module steps:**\n",
    "1. Import trained model\n",
    "2. Find steady and transients states\n",
    "3. Disaggregate by chunk\n",
    "4. Predicted vs ground truth comparison\n",
    "5. Evaluation\n",
    "\n",
    "Note: The headings represents the function names found in NILMTK algorithm code"
   ]
  },
  {
   "cell_type": "code",
   "execution_count": 1,
   "id": "ae091faf",
   "metadata": {},
   "outputs": [],
   "source": [
    "# Importing libraries for working with DataFrames and visualizations\n",
    "from matplotlib import rcParams\n",
    "import matplotlib\n",
    "import matplotlib.pyplot as plt\n",
    "import pandas as pd\n",
    "import numpy as np\n",
    "\n",
    "import pickle\n",
    "import warnings\n",
    "import time\n",
    "from collections import OrderedDict, deque\n",
    "\n",
    "# For evaluation metrics\n",
    "from sklearn.metrics import mean_squared_error, mean_absolute_error, mean_absolute_percentage_error\n",
    "\n",
    "# Importing the following for working with NILM dataset\n",
    "from nilmtk import DataSet, TimeFrame, MeterGroup, HDFDataStore\n",
    "from nilmtk.utils import print_dict\n",
    "from nilmtk.api import API\n",
    "\n",
    "# Hart85 functions\n",
    "from nilmtk.disaggregate.hart_85 import Hart85\n",
    "from nilmtk.feature_detectors.steady_states import find_steady_states\n",
    "from nilmtk.feature_detectors.cluster import hart85_means_shift_cluster\n",
    "\n",
    "#plt.style.use('ggplot')\n",
    "%matplotlib inline"
   ]
  },
  {
   "cell_type": "code",
   "execution_count": 2,
   "id": "b64893b7",
   "metadata": {},
   "outputs": [],
   "source": [
    "plt.rcParams['figure.figsize'] = [15, 10]"
   ]
  },
  {
   "cell_type": "code",
   "execution_count": 3,
   "id": "508a364a",
   "metadata": {},
   "outputs": [],
   "source": [
    "# Global variables #\n",
    "# For API functions\n",
    "appliances = [\"kettle\",\"vacuum\"]\n",
    "train_submeters = []\n",
    "train_mains = []\n",
    "test_submeters = []\n",
    "test_mains = pd.DataFrame()\n",
    "gt_overall = {}\n",
    "pred_overall = {}\n",
    "classifiers=[]\n",
    "errors = []\n",
    "errors_keys = []\n",
    "MODEL_NAME = 'Hart85'\n",
    "\n",
    "# Global variables\n",
    "# For find states function\n",
    "noise_level=70\n",
    "state_threshold=15\n",
    "\n",
    "# For pairing function\n",
    "buffer_size=20\n",
    "min_tolerance=100\n",
    "percent_tolerance=0.035\n",
    "large_transition=1000\n",
    "\n",
    "power = 'active'\n",
    "\n",
    "metrics = ['mae', 'rmse', 'f1score']\n",
    "sample_period = 1"
   ]
  },
  {
   "cell_type": "code",
   "execution_count": 4,
   "id": "b48c9308",
   "metadata": {},
   "outputs": [],
   "source": [
    "# Initiate the Hart85 engine\n",
    "obj_hart = Hart85({})"
   ]
  },
  {
   "cell_type": "markdown",
   "id": "e76f3903",
   "metadata": {},
   "source": [
    "# Dataset preparation - Training\n",
    "Changing lab power data into df that can feed into NILMTK function\n",
    "\n",
    "- Data     : kettle + vacuum: has main, kettle, vacuum load data\n",
    "- Frequency: 1Hz\n",
    "- Duration : 8 mins\n",
    "- Pattern: Multiple on/off states"
   ]
  },
  {
   "cell_type": "code",
   "execution_count": 5,
   "id": "53755176",
   "metadata": {
    "code_folding": [
     0
    ]
   },
   "outputs": [],
   "source": [
    "def get_multiIndex(appliance_df, columns):\n",
    "    df_app = pd.DataFrame(appliance_df['Active (W)'])\n",
    "    df_app.columns = columns\n",
    "    df_app.columns.names = ['physical_quantity', 'type']\n",
    "    df_app.index = pd.to_datetime(df_app.index)\n",
    "    df_app.index.name = None\n",
    "    return df_app"
   ]
  },
  {
   "cell_type": "code",
   "execution_count": 6,
   "id": "793d3538",
   "metadata": {
    "code_folding": [
     0
    ],
    "scrolled": true
   },
   "outputs": [
    {
     "data": {
      "text/html": [
       "<div>\n",
       "<style scoped>\n",
       "    .dataframe tbody tr th:only-of-type {\n",
       "        vertical-align: middle;\n",
       "    }\n",
       "\n",
       "    .dataframe tbody tr th {\n",
       "        vertical-align: top;\n",
       "    }\n",
       "\n",
       "    .dataframe thead th {\n",
       "        text-align: right;\n",
       "    }\n",
       "</style>\n",
       "<table border=\"1\" class=\"dataframe\">\n",
       "  <thead>\n",
       "    <tr style=\"text-align: right;\">\n",
       "      <th></th>\n",
       "      <th>RMS Current</th>\n",
       "      <th>Average Current</th>\n",
       "      <th>Peak Current</th>\n",
       "      <th>Apparent (W)</th>\n",
       "      <th>Active (W)</th>\n",
       "      <th>Reactive (W)</th>\n",
       "      <th>Power Factor</th>\n",
       "      <th>Fundamental Frequency (50Hz)</th>\n",
       "      <th>Third Harmonics (150Hz)</th>\n",
       "      <th>Fifth (250Hz)</th>\n",
       "      <th>Seventh (350Hz)</th>\n",
       "      <th>Ninth (450Hz)</th>\n",
       "    </tr>\n",
       "    <tr>\n",
       "      <th>Timestamp</th>\n",
       "      <th></th>\n",
       "      <th></th>\n",
       "      <th></th>\n",
       "      <th></th>\n",
       "      <th></th>\n",
       "      <th></th>\n",
       "      <th></th>\n",
       "      <th></th>\n",
       "      <th></th>\n",
       "      <th></th>\n",
       "      <th></th>\n",
       "      <th></th>\n",
       "    </tr>\n",
       "  </thead>\n",
       "  <tbody>\n",
       "    <tr>\n",
       "      <th>2022-11-14 16:42:33</th>\n",
       "      <td>0.01</td>\n",
       "      <td>0.0</td>\n",
       "      <td>0.01</td>\n",
       "      <td>2.07</td>\n",
       "      <td>0.39</td>\n",
       "      <td>2.03</td>\n",
       "      <td>0.188766</td>\n",
       "      <td>0.0</td>\n",
       "      <td>0.0</td>\n",
       "      <td>0.0</td>\n",
       "      <td>0.0</td>\n",
       "      <td>0.0</td>\n",
       "    </tr>\n",
       "    <tr>\n",
       "      <th>2022-11-14 16:42:34</th>\n",
       "      <td>0.01</td>\n",
       "      <td>0.0</td>\n",
       "      <td>0.01</td>\n",
       "      <td>2.93</td>\n",
       "      <td>0.50</td>\n",
       "      <td>2.88</td>\n",
       "      <td>0.170425</td>\n",
       "      <td>0.0</td>\n",
       "      <td>0.0</td>\n",
       "      <td>0.0</td>\n",
       "      <td>0.0</td>\n",
       "      <td>0.0</td>\n",
       "    </tr>\n",
       "    <tr>\n",
       "      <th>2022-11-14 16:42:35</th>\n",
       "      <td>0.01</td>\n",
       "      <td>0.0</td>\n",
       "      <td>0.01</td>\n",
       "      <td>2.69</td>\n",
       "      <td>0.45</td>\n",
       "      <td>2.65</td>\n",
       "      <td>0.165865</td>\n",
       "      <td>0.0</td>\n",
       "      <td>0.0</td>\n",
       "      <td>0.0</td>\n",
       "      <td>0.0</td>\n",
       "      <td>0.0</td>\n",
       "    </tr>\n",
       "    <tr>\n",
       "      <th>2022-11-14 16:42:36</th>\n",
       "      <td>0.01</td>\n",
       "      <td>0.0</td>\n",
       "      <td>0.02</td>\n",
       "      <td>2.96</td>\n",
       "      <td>0.45</td>\n",
       "      <td>2.92</td>\n",
       "      <td>0.152661</td>\n",
       "      <td>0.0</td>\n",
       "      <td>0.0</td>\n",
       "      <td>0.0</td>\n",
       "      <td>0.0</td>\n",
       "      <td>0.0</td>\n",
       "    </tr>\n",
       "    <tr>\n",
       "      <th>2022-11-14 16:42:37</th>\n",
       "      <td>0.01</td>\n",
       "      <td>0.0</td>\n",
       "      <td>0.01</td>\n",
       "      <td>2.57</td>\n",
       "      <td>0.51</td>\n",
       "      <td>2.52</td>\n",
       "      <td>0.198059</td>\n",
       "      <td>0.0</td>\n",
       "      <td>0.0</td>\n",
       "      <td>0.0</td>\n",
       "      <td>0.0</td>\n",
       "      <td>0.0</td>\n",
       "    </tr>\n",
       "    <tr>\n",
       "      <th>...</th>\n",
       "      <td>...</td>\n",
       "      <td>...</td>\n",
       "      <td>...</td>\n",
       "      <td>...</td>\n",
       "      <td>...</td>\n",
       "      <td>...</td>\n",
       "      <td>...</td>\n",
       "      <td>...</td>\n",
       "      <td>...</td>\n",
       "      <td>...</td>\n",
       "      <td>...</td>\n",
       "      <td>...</td>\n",
       "    </tr>\n",
       "    <tr>\n",
       "      <th>2022-11-14 16:50:50</th>\n",
       "      <td>0.01</td>\n",
       "      <td>0.0</td>\n",
       "      <td>0.02</td>\n",
       "      <td>1.98</td>\n",
       "      <td>0.34</td>\n",
       "      <td>1.95</td>\n",
       "      <td>0.171031</td>\n",
       "      <td>0.0</td>\n",
       "      <td>0.0</td>\n",
       "      <td>0.0</td>\n",
       "      <td>0.0</td>\n",
       "      <td>0.0</td>\n",
       "    </tr>\n",
       "    <tr>\n",
       "      <th>2022-11-14 16:50:51</th>\n",
       "      <td>0.01</td>\n",
       "      <td>0.0</td>\n",
       "      <td>0.00</td>\n",
       "      <td>1.82</td>\n",
       "      <td>0.31</td>\n",
       "      <td>1.79</td>\n",
       "      <td>0.169447</td>\n",
       "      <td>0.0</td>\n",
       "      <td>0.0</td>\n",
       "      <td>0.0</td>\n",
       "      <td>0.0</td>\n",
       "      <td>0.0</td>\n",
       "    </tr>\n",
       "    <tr>\n",
       "      <th>2022-11-14 16:50:52</th>\n",
       "      <td>0.01</td>\n",
       "      <td>0.0</td>\n",
       "      <td>0.02</td>\n",
       "      <td>2.39</td>\n",
       "      <td>0.40</td>\n",
       "      <td>2.36</td>\n",
       "      <td>0.166743</td>\n",
       "      <td>0.0</td>\n",
       "      <td>0.0</td>\n",
       "      <td>0.0</td>\n",
       "      <td>0.0</td>\n",
       "      <td>0.0</td>\n",
       "    </tr>\n",
       "    <tr>\n",
       "      <th>2022-11-14 16:50:53</th>\n",
       "      <td>0.01</td>\n",
       "      <td>0.0</td>\n",
       "      <td>0.02</td>\n",
       "      <td>2.36</td>\n",
       "      <td>0.38</td>\n",
       "      <td>2.33</td>\n",
       "      <td>0.161546</td>\n",
       "      <td>0.0</td>\n",
       "      <td>0.0</td>\n",
       "      <td>0.0</td>\n",
       "      <td>0.0</td>\n",
       "      <td>0.0</td>\n",
       "    </tr>\n",
       "    <tr>\n",
       "      <th>2022-11-14 16:50:54</th>\n",
       "      <td>0.01</td>\n",
       "      <td>0.0</td>\n",
       "      <td>0.02</td>\n",
       "      <td>2.21</td>\n",
       "      <td>0.41</td>\n",
       "      <td>2.17</td>\n",
       "      <td>0.186756</td>\n",
       "      <td>0.0</td>\n",
       "      <td>0.0</td>\n",
       "      <td>0.0</td>\n",
       "      <td>0.0</td>\n",
       "      <td>0.0</td>\n",
       "    </tr>\n",
       "  </tbody>\n",
       "</table>\n",
       "<p>502 rows × 12 columns</p>\n",
       "</div>"
      ],
      "text/plain": [
       "                     RMS Current  Average Current  Peak Current  Apparent (W)  \\\n",
       "Timestamp                                                                       \n",
       "2022-11-14 16:42:33         0.01              0.0          0.01          2.07   \n",
       "2022-11-14 16:42:34         0.01              0.0          0.01          2.93   \n",
       "2022-11-14 16:42:35         0.01              0.0          0.01          2.69   \n",
       "2022-11-14 16:42:36         0.01              0.0          0.02          2.96   \n",
       "2022-11-14 16:42:37         0.01              0.0          0.01          2.57   \n",
       "...                          ...              ...           ...           ...   \n",
       "2022-11-14 16:50:50         0.01              0.0          0.02          1.98   \n",
       "2022-11-14 16:50:51         0.01              0.0          0.00          1.82   \n",
       "2022-11-14 16:50:52         0.01              0.0          0.02          2.39   \n",
       "2022-11-14 16:50:53         0.01              0.0          0.02          2.36   \n",
       "2022-11-14 16:50:54         0.01              0.0          0.02          2.21   \n",
       "\n",
       "                     Active (W)  Reactive (W)  Power Factor  \\\n",
       "Timestamp                                                     \n",
       "2022-11-14 16:42:33        0.39          2.03      0.188766   \n",
       "2022-11-14 16:42:34        0.50          2.88      0.170425   \n",
       "2022-11-14 16:42:35        0.45          2.65      0.165865   \n",
       "2022-11-14 16:42:36        0.45          2.92      0.152661   \n",
       "2022-11-14 16:42:37        0.51          2.52      0.198059   \n",
       "...                         ...           ...           ...   \n",
       "2022-11-14 16:50:50        0.34          1.95      0.171031   \n",
       "2022-11-14 16:50:51        0.31          1.79      0.169447   \n",
       "2022-11-14 16:50:52        0.40          2.36      0.166743   \n",
       "2022-11-14 16:50:53        0.38          2.33      0.161546   \n",
       "2022-11-14 16:50:54        0.41          2.17      0.186756   \n",
       "\n",
       "                     Fundamental Frequency (50Hz)  Third Harmonics (150Hz)  \\\n",
       "Timestamp                                                                    \n",
       "2022-11-14 16:42:33                           0.0                      0.0   \n",
       "2022-11-14 16:42:34                           0.0                      0.0   \n",
       "2022-11-14 16:42:35                           0.0                      0.0   \n",
       "2022-11-14 16:42:36                           0.0                      0.0   \n",
       "2022-11-14 16:42:37                           0.0                      0.0   \n",
       "...                                           ...                      ...   \n",
       "2022-11-14 16:50:50                           0.0                      0.0   \n",
       "2022-11-14 16:50:51                           0.0                      0.0   \n",
       "2022-11-14 16:50:52                           0.0                      0.0   \n",
       "2022-11-14 16:50:53                           0.0                      0.0   \n",
       "2022-11-14 16:50:54                           0.0                      0.0   \n",
       "\n",
       "                     Fifth (250Hz)  Seventh (350Hz)  Ninth (450Hz)  \n",
       "Timestamp                                                           \n",
       "2022-11-14 16:42:33            0.0              0.0            0.0  \n",
       "2022-11-14 16:42:34            0.0              0.0            0.0  \n",
       "2022-11-14 16:42:35            0.0              0.0            0.0  \n",
       "2022-11-14 16:42:36            0.0              0.0            0.0  \n",
       "2022-11-14 16:42:37            0.0              0.0            0.0  \n",
       "...                            ...              ...            ...  \n",
       "2022-11-14 16:50:50            0.0              0.0            0.0  \n",
       "2022-11-14 16:50:51            0.0              0.0            0.0  \n",
       "2022-11-14 16:50:52            0.0              0.0            0.0  \n",
       "2022-11-14 16:50:53            0.0              0.0            0.0  \n",
       "2022-11-14 16:50:54            0.0              0.0            0.0  \n",
       "\n",
       "[502 rows x 12 columns]"
      ]
     },
     "execution_count": 6,
     "metadata": {},
     "output_type": "execute_result"
    }
   ],
   "source": [
    "# Main load df\n",
    "main_df=pd.read_csv(\"../Lab_Dataset/2combi_kettle+vacuum/train_data/main.csv\", index_col=0)\n",
    "\n",
    "# Load submeters\n",
    "kettle_df=pd.read_csv(\"../Lab_Dataset/2combi_kettle+vacuum/train_data/kettle.csv\", index_col=0)\n",
    "vacuum_df=pd.read_csv(\"../Lab_Dataset/2combi_kettle+vacuum/train_data/vacuum.csv\", index_col=0)\n",
    "\n",
    "main_df"
   ]
  },
  {
   "cell_type": "code",
   "execution_count": 7,
   "id": "09e5d503",
   "metadata": {
    "code_folding": [
     0
    ],
    "scrolled": true
   },
   "outputs": [
    {
     "data": {
      "text/plain": [
       "<matplotlib.axes._subplots.AxesSubplot at 0x7f725c058250>"
      ]
     },
     "execution_count": 7,
     "metadata": {},
     "output_type": "execute_result"
    },
    {
     "data": {
      "image/png": "[encoded data removed]",
      "text/plain": [
       "<Figure size 1080x720 with 1 Axes>"
      ]
     },
     "metadata": {
      "needs_background": "light"
     },
     "output_type": "display_data"
    }
   ],
   "source": [
    "# Convert lab data to multiIndex df\n",
    "# set column\n",
    "columns = pd.MultiIndex.from_tuples([('power','active')])\n",
    "\n",
    "# main\n",
    "df_main = get_multiIndex(main_df, columns)\n",
    "# Kettle\n",
    "df_ke = get_multiIndex(kettle_df, columns)\n",
    "# Vacuum\n",
    "df_vac = get_multiIndex(vacuum_df, columns)\n",
    "\n",
    "df_main\n",
    "df_main.plot()"
   ]
  },
  {
   "cell_type": "code",
   "execution_count": 8,
   "id": "d320e61e",
   "metadata": {},
   "outputs": [],
   "source": [
    "# Append appliances into one list\n",
    "appliance_readings = []\n",
    "appliance_readings.append(df_ke)\n",
    "appliance_readings.append(df_vac)"
   ]
  },
  {
   "cell_type": "code",
   "execution_count": 9,
   "id": "c64d93d3",
   "metadata": {},
   "outputs": [],
   "source": [
    "# Aggregated load is already in mains, no need to artificial aggregate\n",
    "train_df = df_main\n",
    "train_submeters = [[] for i in range(len(appliances))]\n",
    "train_mains = []\n",
    "\n",
    "train_mains.append(train_df)\n",
    "for i,name in enumerate(appliances):\n",
    "    train_submeters[i].append(appliance_readings[i])\n",
    "\n",
    "appliance_readings = []\n",
    "for i,appliance_name in enumerate(appliances):\n",
    "    appliance_readings.append((appliance_name, train_submeters[i]))\n",
    "\n",
    "train_submeters = appliance_readings "
   ]
  },
  {
   "cell_type": "markdown",
   "id": "21d8c65c",
   "metadata": {},
   "source": [
    "# Training\n",
    "Extracting code from NILMTK API and Hart85 to use for lab data"
   ]
  },
  {
   "cell_type": "markdown",
   "id": "a10df777",
   "metadata": {},
   "source": [
    "## Partial Fit\n",
    "Hart85 partial fit function:\n",
    "\n",
    "1. Using **find_steady_states_transients** function from Hart85\n",
    "\n",
    "**Steps to find states:**\n",
    "    \n",
    "1. The algorithm will mark the changes in power, if it is higher than the state_threshold, then a transition is happening and the values will be calculated based on the estimated steady state\n",
    "2. The transients are found by taking the difference between 2 measurements and goes through a nested If:\n",
    "    - If state change > threshold, then detect that there is transition happening\n",
    "    - If transition > noise level, then record the transition and steady states\n",
    "- Transitions are recorded as positive when power is going up and negative when power is going down\n",
    "- The start of steady states are used as edges for the state change\n",
    "- Returns the lists of recorded transient and steady states into Dataframe\n",
    "-------\n",
    "Pair\n",
    "Using **PairBuffer** class by calling **pair** function from Hart85\n",
    "- Pairing is done by taking the transition states values and finding the difference between those values to check which to pair\n",
    "- The pair function uses a buffer to match the on/off transition\n",
    "--------------\n",
    "From Hart's paper:\n",
    "\n",
    "    For the two-state load monitor, a pair is defined as two entries\n",
    "    which meet the following four conditions:\n",
    "        (1) They are on the same leg, or are both 240 V,\n",
    "        (2) They are both unmarked,\n",
    "        (3) The earlier has a positive real power component, and\n",
    "        (4) When added together, they result in a vector in which the\n",
    "        absolute value of the real power component is less than 35\n",
    "        Watts (or 3.5% of the real power, if the transitions are\n",
    "        over 1000 W) and the absolute value of the reactive power\n",
    "        component is less than 35 VAR (or 3.5%).\n",
    "-------------\n",
    "**Steps for pairing:**\n",
    "   1. Take 2 elements (positive and negative transitions)\n",
    "   2. Is the addition between these 2 elements more than threshold(min_tolerance)? If power value > 1000W then threshold is 3.5% of the max power value between the 2 elements\n",
    "   3. The 2 elements that falls within the threshold are paired\n",
    "   4. The on/off pairing is found according to buffer size, if buffer size is 20 then max finding on/off pair within 20 samples\n",
    "-----------"
   ]
  },
  {
   "cell_type": "code",
   "execution_count": 10,
   "id": "5de995c5",
   "metadata": {
    "code_folding": [
     0
    ]
   },
   "outputs": [],
   "source": [
    "def partial_fit(train_main, train_appliances):\n",
    "    \"\"\"\n",
    "    Train using Hart85.\n",
    "    \"\"\"\n",
    "\n",
    "    obj_hart.appliances=[]\n",
    "    for row in train_appliances:\n",
    "        obj_hart.appliances.append(row[0])\n",
    "    print(\"...........................Hart_85 Partial Fit Running...............\")\n",
    "      \n",
    "    train_main=train_main[0]\n",
    "    l=[]\n",
    "    l.append(train_main.columns[0])\n",
    "    columns=l\n",
    "    obj_hart.columns=columns\n",
    "    obj_hart.state_threshold = state_threshold\n",
    "    obj_hart.noise_level = noise_level\n",
    "    [obj_hart.steady_states, obj_hart.transients] = find_steady_states(\n",
    "        train_main,  noise_level=noise_level, state_threshold=state_threshold)  \n",
    "    obj_hart.pair_df = obj_hart.pair(\n",
    "        buffer_size, min_tolerance, percent_tolerance, large_transition)\n",
    "    obj_hart.centroids = hart85_means_shift_cluster(obj_hart.pair_df, columns)\n",
    "      \n",
    "    print('..............................Predicting Centroid Matching..........................')\n",
    "    chunk=train_main\n",
    "        \n",
    "    transients=obj_hart.transients\n",
    "    temp_df=pd.DataFrame()\n",
    "    # For now ignoring the first transient\n",
    "    # transients = transients[1:]\n",
    "\n",
    "    # Initially all appliances/meters are in unknown state (denoted by -1)\n",
    "    prev = OrderedDict()\n",
    "    learnt_meters = obj_hart.centroids.index.values\n",
    "    for meter in learnt_meters:\n",
    "        prev[meter] = -1\n",
    "\n",
    "        \n",
    "    states = pd.DataFrame(\n",
    "        -1, index=chunk.index, columns=obj_hart.centroids.index.values)\n",
    "           \n",
    "    for transient_tuple in transients.itertuples():\n",
    "        if transient_tuple[0] < chunk.index[0]:\n",
    "            # Transient occurs before chunk has started; do nothing\n",
    "            pass\n",
    "        elif transient_tuple[0] > chunk.index[-1]:\n",
    "            # Transient occurs after chunk has ended; do nothing\n",
    "            pass\n",
    "        else:\n",
    "            # Absolute value of transient\n",
    "            abs_value = np.abs(transient_tuple[1:])\n",
    "            positive = transient_tuple[1] > 0\n",
    "            abs_value_transient_minus_centroid = pd.DataFrame(\n",
    "                (obj_hart.centroids - abs_value).abs())\n",
    "            if len(transient_tuple) == 2:\n",
    "                # 1d data\n",
    "                index_least_delta = (abs_value_transient_minus_centroid.idxmin().values[0])\n",
    "            else:\n",
    "                # 2d data.\n",
    "                # Need to find absolute value before computing minimum\n",
    "                columns = abs_value_transient_minus_centroid.columns\n",
    "                abs_value_transient_minus_centroid[\"multidim\"] = (\n",
    "                    abs_value_transient_minus_centroid[columns[0]] ** 2\n",
    "                    +\n",
    "                    abs_value_transient_minus_centroid[columns[1]] ** 2)\n",
    "                index_least_delta = (\n",
    "                    abs_value_transient_minus_centroid[\"multidim\"].idxmin())\n",
    "            if positive:\n",
    "                # Turned on\n",
    "                states.loc[transient_tuple[0]][index_least_delta] = 1\n",
    "            else:\n",
    "                # Turned off\n",
    "                states.loc[transient_tuple[0]][index_least_delta] = 0\n",
    "    prev = states.iloc[-1].to_dict()\n",
    "    power_chunk_dict = obj_hart.assign_power_from_states(states, prev)\n",
    "    obj_hart.power_dict = power_chunk_dict\n",
    "    obj_hart.chunk_index = chunk.index\n",
    "    # Check whether 1d data or 2d data and converting dict to dataframe\n",
    "    #print('LEN of Transient Tuple',len(transient_tuple))\n",
    "    if len(transient_tuple) == 2:\n",
    "            \n",
    "        temp_df = pd.DataFrame(power_chunk_dict, index=chunk.index)  \n",
    "    else:\n",
    "        tuples = []\n",
    "\n",
    "        for i in range(len(obj_hart.centroids.index.values)):\n",
    "            for j in range(0, 2):\n",
    "                tuples.append([i, j])\n",
    "\n",
    "        columns = pd.MultiIndex.from_tuples(tuples)\n",
    "\n",
    "        temp_df = pd.DataFrame(\n",
    "            power_chunk_dict,\n",
    "            index=chunk.index,\n",
    "            columns=columns)\n",
    "\n",
    "        for i in range(len(chunk.index)):\n",
    "            for j in range(len(obj_hart.centroids.index.values)):\n",
    "                for k in range(0, 2):\n",
    "                    temp_df.iloc[i,j,k] = power_chunk_dict[j,i,k]\n",
    "        \n",
    "    obj_hart.best_matches={} \n",
    "    temp_df=temp_df.fillna(0)\n",
    "    best_matches={}\n",
    "        \n",
    "    for row in train_appliances:\n",
    "        appliance=row[0]\n",
    "        appliance_df=row[1][0]\n",
    "        matched_col=obj_hart.min_rmse_column(temp_df,appliance_df['power'])\n",
    "        best_matches[appliance]=matched_col\n",
    "    obj_hart.best_matches=best_matches        \n",
    "        \n",
    "    print('...................................End Centroid Matching............................')\n",
    "\n",
    "    obj_hart.model = dict(\n",
    "            best_matches=best_matches,\n",
    "            columns=columns,\n",
    "            state_threshold=state_threshold,\n",
    "            noise_level=noise_level,\n",
    "            steady_states=obj_hart.steady_states,\n",
    "            transients=obj_hart.transients,\n",
    "            centroids=obj_hart.centroids\n",
    "        )\n",
    "\n",
    "    print(\"------------------Hart85 partial_fit end.................\")"
   ]
  },
  {
   "cell_type": "code",
   "execution_count": 11,
   "id": "64491253",
   "metadata": {},
   "outputs": [
    {
     "name": "stdout",
     "output_type": "stream",
     "text": [
      "...........................Hart_85 Partial Fit Running...............\n",
      "Finding Edges, please wait ...\n",
      "Edge detection complete.\n",
      "Creating transition frame ...\n",
      "Transition frame created.\n",
      "Creating states frame ...\n",
      "States frame created.\n",
      "Finished.\n",
      ".........................Hart_85 Partial Fit End....................\n",
      "..............................Predicting Centroid Matching..........................\n",
      "...................................End Centroid Matching............................\n",
      "------------------Hart85 partial_fit end.................\n",
      "---Runtime: 0.4037210941314697 seconds ---\n"
     ]
    },
    {
     "name": "stderr",
     "output_type": "stream",
     "text": [
      "/opt/conda/envs/nilmtk-env/lib/python3.7/site-packages/nilmtk/disaggregate/hart_85.py:529: FutureWarning: \n",
      ".ix is deprecated. Please use\n",
      ".loc for label based indexing or\n",
      ".iloc for positional indexing\n",
      "\n",
      "See the documentation here:\n",
      "http://pandas.pydata.org/pandas-docs/stable/user_guide/indexing.html#ix-indexer-is-deprecated\n",
      "  power[i] = self.centroids.ix[appliance].values\n",
      "/opt/conda/envs/nilmtk-env/lib/python3.7/site-packages/nilmtk/disaggregate/hart_85.py:532: FutureWarning: \n",
      ".ix is deprecated. Please use\n",
      ".loc for label based indexing or\n",
      ".iloc for positional indexing\n",
      "\n",
      "See the documentation here:\n",
      "http://pandas.pydata.org/pandas-docs/stable/user_guide/indexing.html#ix-indexer-is-deprecated\n",
      "  power[i] = self.centroids.ix[appliance].values\n"
     ]
    }
   ],
   "source": [
    "#Start training\n",
    "start_time = time.time()\n",
    "\n",
    "partial_fit(train_mains,train_submeters)\n",
    "\n",
    "print(\"---Runtime: %s seconds ---\" % (time.time() - start_time))"
   ]
  },
  {
   "cell_type": "code",
   "execution_count": 12,
   "id": "4cc60b67",
   "metadata": {},
   "outputs": [
    {
     "data": {
      "text/plain": [
       "{'best_matches': {'kettle': 0, 'vacuum': 3},\n",
       " 'columns': [('power', 'active')],\n",
       " 'state_threshold': 15,\n",
       " 'noise_level': 70,\n",
       " 'steady_states':                      active average\n",
       " 2022-11-14 16:42:47     1997.023333\n",
       " 2022-11-14 16:43:04     4113.506087\n",
       " 2022-11-14 16:43:28        0.550938\n",
       " 2022-11-14 16:44:03     1966.090000\n",
       " 2022-11-14 16:44:10     4115.724000\n",
       " 2022-11-14 16:44:36     2198.661429\n",
       " 2022-11-14 16:44:51        0.726481\n",
       " 2022-11-14 16:45:46     2202.140000\n",
       " 2022-11-14 16:46:51        0.452759\n",
       " 2022-11-14 16:47:21     1973.973043\n",
       " 2022-11-14 16:47:46        0.394741\n",
       " 2022-11-14 16:49:43     2202.900345\n",
       " 2022-11-14 16:50:13     4129.251290\n",
       " 2022-11-14 16:50:46        1.001429,\n",
       " 'transients':                      active transition\n",
       " 2022-11-14 16:42:47        1996.539762\n",
       " 2022-11-14 16:43:04        2116.482754\n",
       " 2022-11-14 16:43:28       -4112.955149\n",
       " 2022-11-14 16:44:03        1965.539063\n",
       " 2022-11-14 16:44:10        2149.634000\n",
       " 2022-11-14 16:44:36       -1917.062571\n",
       " 2022-11-14 16:44:51       -2197.934947\n",
       " 2022-11-14 16:45:46        2201.413519\n",
       " 2022-11-14 16:46:51       -2201.687241\n",
       " 2022-11-14 16:47:21        1973.520285\n",
       " 2022-11-14 16:47:46       -1973.578302\n",
       " 2022-11-14 16:49:43        2202.505603\n",
       " 2022-11-14 16:50:13        1926.350945\n",
       " 2022-11-14 16:50:46       -4128.249862,\n",
       " 'centroids':    (power, active)\n",
       " 0      2201.550380\n",
       " 1      2173.784474\n",
       " 2      1973.549293\n",
       " 3      1941.300817}"
      ]
     },
     "execution_count": 12,
     "metadata": {},
     "output_type": "execute_result"
    }
   ],
   "source": [
    "# centroid/states saved to model dict\n",
    "obj_hart.model"
   ]
  },
  {
   "cell_type": "markdown",
   "id": "b4d658a0",
   "metadata": {},
   "source": [
    "### Show output from find states\n",
    "Displaying what the recorded states look like and plot a graph to show the edge detection"
   ]
  },
  {
   "cell_type": "code",
   "execution_count": 13,
   "id": "85423249",
   "metadata": {},
   "outputs": [
    {
     "data": {
      "text/plain": [
       "Text(0.5, 0, 'Time')"
      ]
     },
     "execution_count": 13,
     "metadata": {},
     "output_type": "execute_result"
    },
    {
     "data": {
      "image/png": "[encoded data removed]",
      "text/plain": [
       "<Figure size 1080x720 with 1 Axes>"
      ]
     },
     "metadata": {
      "needs_background": "light"
     },
     "output_type": "display_data"
    }
   ],
   "source": [
    "# Plot steady states with main\n",
    "ax = df_main.plot()\n",
    "obj_hart.steady_states.plot(style='o', ax = ax);\n",
    "\n",
    "plt.title(\"Steady states plot with main power signature\")\n",
    "plt.legend([\"Mains\", \"Steady states\"]);\n",
    "plt.ylabel(\"Power (W)\")\n",
    "plt.xlabel(\"Time\")"
   ]
  },
  {
   "cell_type": "code",
   "execution_count": 14,
   "id": "382d5266",
   "metadata": {},
   "outputs": [
    {
     "data": {
      "text/html": [
       "<div>\n",
       "<style scoped>\n",
       "    .dataframe tbody tr th:only-of-type {\n",
       "        vertical-align: middle;\n",
       "    }\n",
       "\n",
       "    .dataframe tbody tr th {\n",
       "        vertical-align: top;\n",
       "    }\n",
       "\n",
       "    .dataframe thead th {\n",
       "        text-align: right;\n",
       "    }\n",
       "</style>\n",
       "<table border=\"1\" class=\"dataframe\">\n",
       "  <thead>\n",
       "    <tr style=\"text-align: right;\">\n",
       "      <th></th>\n",
       "      <th>T1 Time</th>\n",
       "      <th>T1 Active</th>\n",
       "      <th>T2 Time</th>\n",
       "      <th>T2 Active</th>\n",
       "    </tr>\n",
       "  </thead>\n",
       "  <tbody>\n",
       "    <tr>\n",
       "      <th>0</th>\n",
       "      <td>2022-11-14 16:44:03</td>\n",
       "      <td>1965.539063</td>\n",
       "      <td>2022-11-14 16:44:36</td>\n",
       "      <td>-1917.062571</td>\n",
       "    </tr>\n",
       "    <tr>\n",
       "      <th>0</th>\n",
       "      <td>2022-11-14 16:44:10</td>\n",
       "      <td>2149.634000</td>\n",
       "      <td>2022-11-14 16:44:51</td>\n",
       "      <td>-2197.934947</td>\n",
       "    </tr>\n",
       "    <tr>\n",
       "      <th>0</th>\n",
       "      <td>2022-11-14 16:45:46</td>\n",
       "      <td>2201.413519</td>\n",
       "      <td>2022-11-14 16:46:51</td>\n",
       "      <td>-2201.687241</td>\n",
       "    </tr>\n",
       "    <tr>\n",
       "      <th>0</th>\n",
       "      <td>2022-11-14 16:47:21</td>\n",
       "      <td>1973.520285</td>\n",
       "      <td>2022-11-14 16:47:46</td>\n",
       "      <td>-1973.578302</td>\n",
       "    </tr>\n",
       "  </tbody>\n",
       "</table>\n",
       "</div>"
      ],
      "text/plain": [
       "              T1 Time    T1 Active             T2 Time    T2 Active\n",
       "0 2022-11-14 16:44:03  1965.539063 2022-11-14 16:44:36 -1917.062571\n",
       "0 2022-11-14 16:44:10  2149.634000 2022-11-14 16:44:51 -2197.934947\n",
       "0 2022-11-14 16:45:46  2201.413519 2022-11-14 16:46:51 -2201.687241\n",
       "0 2022-11-14 16:47:21  1973.520285 2022-11-14 16:47:46 -1973.578302"
      ]
     },
     "execution_count": 14,
     "metadata": {},
     "output_type": "execute_result"
    }
   ],
   "source": [
    "obj_hart.pair_df"
   ]
  },
  {
   "cell_type": "code",
   "execution_count": 15,
   "id": "d1c93975",
   "metadata": {},
   "outputs": [],
   "source": [
    "# Compute avg of paired transitions using the formula (as in pair_transitions function in pairing module)\n",
    "pair_shape_df = pd.DataFrame(columns=['Height (W)','Duration (s)'])\n",
    "pair_shape_df['Height (W)']= (obj_hart.pair_df['T1 Active'].abs()+obj_hart.pair_df['T2 Active'].abs())/2\n",
    "pair_shape_df['Duration (s)']= pd.to_timedelta(obj_hart.pair_df['T2 Time']-obj_hart.pair_df['T1 Time'],unit='s').dt.seconds"
   ]
  },
  {
   "cell_type": "code",
   "execution_count": 16,
   "id": "4e9138f9",
   "metadata": {
    "code_folding": [
     0
    ]
   },
   "outputs": [
    {
     "data": {
      "image/png": "[encoded data removed]",
      "text/plain": [
       "<Figure size 1080x504 with 1 Axes>"
      ]
     },
     "metadata": {
      "needs_background": "light"
     },
     "output_type": "display_data"
    }
   ],
   "source": [
    "# Plot paired event space\n",
    "fig = plt.figure(figsize=(15,7))\n",
    "ax = fig.add_subplot(1, 1, 1)\n",
    "\n",
    "# Time in log scale\n",
    "ax.set_yscale('log')\n",
    "\n",
    "# Plot paired transitions\n",
    "ax.scatter(pair_shape_df['Height (W)'],pair_shape_df['Duration (s)'], label='paired transitions')\n",
    "\n",
    "plt.title(\"Paired event -  Signature Space\")\n",
    "plt.legend()\n",
    "plt.ylabel(\"Log Duration (sec)\")\n",
    "plt.xlabel(\"Transition (W)\");"
   ]
  },
  {
   "cell_type": "markdown",
   "id": "459bab4b",
   "metadata": {},
   "source": [
    "### Clustering\n",
    "Using hart85_means_shift_cluster function from Hart85\n",
    "- Mean Shift Clustering is done to determine which pairs of transitions are to which centroid (predicted appliances)\n",
    "- The algorithm uses sklearn's mean shift clustering method\n",
    "- Hart85 is unsupervised, therefore there is no labelling in the final centroid(s)\n",
    "\n",
    "**Steps for clustering:**\n",
    "1. Compute average absolute value of paired transitions summation:\n",
    "    - (|T1 Active| + |T2 Active|)/2\n",
    "2. Cluster: - automatically estimate bandwidth\n",
    "3. Find bin seeds/kernel (starting points for finding the final centroids)\n",
    "4. Execute iterations on all seeds (points shifting iteratively towards the attraction nodes)\n",
    "5. Get centroids (the final nodes)"
   ]
  },
  {
   "cell_type": "code",
   "execution_count": 17,
   "id": "b41fe9cd",
   "metadata": {},
   "outputs": [
    {
     "data": {
      "text/html": [
       "<div>\n",
       "<style scoped>\n",
       "    .dataframe tbody tr th:only-of-type {\n",
       "        vertical-align: middle;\n",
       "    }\n",
       "\n",
       "    .dataframe tbody tr th {\n",
       "        vertical-align: top;\n",
       "    }\n",
       "\n",
       "    .dataframe thead th {\n",
       "        text-align: right;\n",
       "    }\n",
       "</style>\n",
       "<table border=\"1\" class=\"dataframe\">\n",
       "  <thead>\n",
       "    <tr style=\"text-align: right;\">\n",
       "      <th></th>\n",
       "      <th>(power, active)</th>\n",
       "    </tr>\n",
       "  </thead>\n",
       "  <tbody>\n",
       "    <tr>\n",
       "      <th>0</th>\n",
       "      <td>2201.550380</td>\n",
       "    </tr>\n",
       "    <tr>\n",
       "      <th>1</th>\n",
       "      <td>2173.784474</td>\n",
       "    </tr>\n",
       "    <tr>\n",
       "      <th>2</th>\n",
       "      <td>1973.549293</td>\n",
       "    </tr>\n",
       "    <tr>\n",
       "      <th>3</th>\n",
       "      <td>1941.300817</td>\n",
       "    </tr>\n",
       "  </tbody>\n",
       "</table>\n",
       "</div>"
      ],
      "text/plain": [
       "   (power, active)\n",
       "0      2201.550380\n",
       "1      2173.784474\n",
       "2      1973.549293\n",
       "3      1941.300817"
      ]
     },
     "execution_count": 17,
     "metadata": {},
     "output_type": "execute_result"
    }
   ],
   "source": [
    "obj_hart.centroids"
   ]
  },
  {
   "cell_type": "code",
   "execution_count": 18,
   "id": "acc6a7aa",
   "metadata": {
    "code_folding": [
     0
    ]
   },
   "outputs": [
    {
     "data": {
      "image/png": "[encoded data removed]",
      "text/plain": [
       "<Figure size 1080x504 with 1 Axes>"
      ]
     },
     "metadata": {
      "needs_background": "light"
     },
     "output_type": "display_data"
    }
   ],
   "source": [
    "# Plot centroids\n",
    "fig = plt.figure(figsize=(15,7))\n",
    "ax = fig.add_subplot(1, 1, 1)\n",
    "\n",
    "# Time in log scale\n",
    "ax.set_yscale('log')\n",
    "\n",
    "# Plot paired transitions\n",
    "ax.scatter(pair_shape_df['Height (W)'],pair_shape_df['Duration (s)'], label='paired transitions')\n",
    "\n",
    "# Lines for centroids\n",
    "for i, row in obj_hart.centroids.iterrows():\n",
    "    ax.axvline(obj_hart.centroids.iloc[i][0],color = 'y', linestyle='--')\n",
    "\n",
    "plt.legend(loc=1)\n",
    "plt.title(\"Clustering -  Signature Space\")\n",
    "plt.ylabel(\"Log Duration (sec)\")\n",
    "plt.xlabel(\"Transition (W)\");\n",
    "\n",
    "# Adding annotation for centroids\n",
    "labels = ['Centroid {0}'.format(i) for i in range(len(obj_hart.centroids))]\n",
    "for label, x, y in zip(labels, obj_hart.centroids[('power','active')], pair_shape_df['Duration (s)']):\n",
    "    plt.annotate(\n",
    "        label, \n",
    "        xy = (x, y), xytext = (0, -20),\n",
    "        textcoords = 'offset points', ha = 'center', va = 'center',\n",
    "        bbox = dict(boxstyle = 'round,pad=0.5', fc = 'yellow', alpha = 0.5))"
   ]
  },
  {
   "cell_type": "markdown",
   "id": "adaa4f63",
   "metadata": {},
   "source": [
    "**Note:** Eventhough there is only 2 appliances in the load, 4 centroids are formed in the end, reasons might be one of below:\n",
    "1. Threshold value is too small\n",
    "2. Cluster bandwidth is too small\n",
    "\n",
    "Further experimentation should be made to figure this out"
   ]
  },
  {
   "cell_type": "markdown",
   "id": "9cd1c30e",
   "metadata": {},
   "source": [
    "## Export trained model\n",
    "- The trained model is made by accumulating relevant information from variables according to the steps like finding transient states, pairing and clustering\n",
    "    \n",
    "- Model is exported using **pickle** where it can be used to disaggregate load "
   ]
  },
  {
   "cell_type": "code",
   "execution_count": 19,
   "id": "470d0b26",
   "metadata": {
    "code_folding": [
     0
    ]
   },
   "outputs": [],
   "source": [
    "def export_model(filename):\n",
    "    example_dict = obj_hart.model\n",
    "    with open(filename, \"wb\") as pickle_out:\n",
    "        pickle.dump(example_dict, pickle_out)"
   ]
  },
  {
   "cell_type": "code",
   "execution_count": 20,
   "id": "f0ed0c21",
   "metadata": {},
   "outputs": [],
   "source": [
    "export_model('trained_model/modelTrainedhart_ke+vac.pickle')"
   ]
  },
  {
   "cell_type": "markdown",
   "id": "23dd0eb9",
   "metadata": {},
   "source": [
    "# Dataset preparation - Testing\n",
    "Changing lab power data into df that can feed into NILMTK \n",
    "\n",
    "- Data     : kettle + vacuum: has main, kettle, vacuum load data\n",
    "- Frequency: 1Hz\n",
    "- Duration : 6 mins\n",
    "- Data type: active power only"
   ]
  },
  {
   "cell_type": "code",
   "execution_count": 21,
   "id": "0515dbf4",
   "metadata": {
    "code_folding": [
     0
    ]
   },
   "outputs": [],
   "source": [
    "# Main load df\n",
    "main_df=pd.read_csv(\"../Lab_Dataset/2combi_kettle+vacuum/test_data/main._output.csv\", index_col=0)\n",
    "# Load submeters\n",
    "kettle_df=pd.read_csv(\"../Lab_Dataset/2combi_kettle+vacuum/test_data/kettle._output.csv\", index_col=0)\n",
    "vacuum_df=pd.read_csv(\"../Lab_Dataset/2combi_kettle+vacuum/test_data/vacuum._output.csv\", index_col=0)"
   ]
  },
  {
   "cell_type": "code",
   "execution_count": 22,
   "id": "13af3518",
   "metadata": {
    "code_folding": [
     0
    ],
    "scrolled": true
   },
   "outputs": [
    {
     "data": {
      "text/plain": [
       "<matplotlib.axes._subplots.AxesSubplot at 0x7f72537c3350>"
      ]
     },
     "execution_count": 22,
     "metadata": {},
     "output_type": "execute_result"
    },
    {
     "data": {
      "image/png": "[encoded data removed]",
      "text/plain": [
       "<Figure size 1080x720 with 1 Axes>"
      ]
     },
     "metadata": {
      "needs_background": "light"
     },
     "output_type": "display_data"
    }
   ],
   "source": [
    "# Convert lab data to multiIndex df\n",
    "# set column\n",
    "columns = pd.MultiIndex.from_tuples([('power','active')])\n",
    "\n",
    "# main\n",
    "df_main = get_multiIndex(main_df, columns)\n",
    "# Kettle\n",
    "df_ke = get_multiIndex(kettle_df, columns)\n",
    "# Vacuum\n",
    "df_vac = get_multiIndex(vacuum_df, columns)\n",
    "\n",
    "df_main\n",
    "df_main.plot()"
   ]
  },
  {
   "cell_type": "code",
   "execution_count": 23,
   "id": "ec892431",
   "metadata": {
    "scrolled": true
   },
   "outputs": [],
   "source": [
    "# Append appliances into one list\n",
    "appliance_readings = []\n",
    "appliance_readings.append(df_ke)\n",
    "appliance_readings.append(df_vac)\n",
    "\n",
    "# Aggregated load is already in mains, no need to artificial aggregate\n",
    "test_df = df_main\n",
    "\n",
    "test_submeters = [[] for i in range(len(appliances))]\n",
    "test_mains = []\n",
    "\n",
    "test_mains.append(test_df)\n",
    "for i,name in enumerate(appliances):\n",
    "    test_submeters[i].append(appliance_readings[i])\n",
    "\n",
    "appliance_readings = []\n",
    "for i,appliance_name in enumerate(appliances):\n",
    "    appliance_readings.append((appliance_name, test_submeters[i]))\n",
    "\n",
    "test_submeters = appliance_readings "
   ]
  },
  {
   "cell_type": "markdown",
   "id": "86556d26",
   "metadata": {},
   "source": [
    "# Testing\n",
    "The **disaggregation process** includes the steps:\n",
    "1. Find transient states\n",
    "2. Disaggregate by chunk"
   ]
  },
  {
   "cell_type": "markdown",
   "id": "3f567fab",
   "metadata": {},
   "source": [
    "## Import trained model\n",
    "Import the previously trained model using the kettle+vacuum 8 mins data"
   ]
  },
  {
   "cell_type": "code",
   "execution_count": 24,
   "id": "735b4ee0",
   "metadata": {
    "code_folding": [
     0
    ]
   },
   "outputs": [],
   "source": [
    "def import_model(filename):\n",
    "    with open(filename, \"rb\") as pickle_in:\n",
    "        model = pickle.load(pickle_in)\n",
    "        #states = model['states']\n",
    "        #appliance_name = model['appliance_name']\n",
    "    return model"
   ]
  },
  {
   "cell_type": "code",
   "execution_count": 25,
   "id": "13da440b",
   "metadata": {},
   "outputs": [],
   "source": [
    "model = import_model('trained_model/modelTrainedhart_ke+vac.pickle')\n",
    "\n",
    "obj_hart.model = model"
   ]
  },
  {
   "cell_type": "markdown",
   "id": "2cd7d584",
   "metadata": {},
   "source": [
    "## Predict function\n",
    "- The overall predict function to run the  main processes for disaggregation"
   ]
  },
  {
   "cell_type": "code",
   "execution_count": 26,
   "id": "c825b5bb",
   "metadata": {
    "code_folding": [
     0
    ]
   },
   "outputs": [],
   "source": [
    "def predict(test_mains, test_submeters):\n",
    "    print (\"Generating predictions for :\",MODEL_NAME)        \n",
    "    \"\"\"\n",
    "    Generates predictions on the test dataset using the specified classifier.\n",
    "    \"\"\"  \n",
    "    # \"ac_type\" varies according to the dataset used. \n",
    "    # Make sure to use the correct ac_type before using the default parameters in this code.   \n",
    "    # disag_chunk call\n",
    "    pred_list = disaggregate_chunk(test_mains)\n",
    "\n",
    "    # It might not have time stamps sometimes due to neural nets\n",
    "    # It has the readings for all the appliances\n",
    "\n",
    "    concat_pred_df = pd.concat(pred_list,axis=0)\n",
    "\n",
    "    gt = {}\n",
    "    for meter,data in test_submeters:\n",
    "        concatenated_df_app = pd.concat(data,axis=1)\n",
    "        index = concatenated_df_app.index\n",
    "        gt[meter] = pd.Series(concatenated_df_app.values.flatten(),index=index)\n",
    "\n",
    "    gt_overall = pd.DataFrame(gt, dtype='float32')\n",
    "    pred = {}\n",
    "\n",
    "    for app_name in concat_pred_df.columns:\n",
    "        app_series_values = concat_pred_df[app_name].values.flatten()\n",
    "        # Neural nets do extra padding sometimes, to fit, so get rid of extra predictions\n",
    "        app_series_values = app_series_values[:len(gt_overall[app_name])]\n",
    "        pred[app_name] = pd.Series(app_series_values, index = gt_overall.index)\n",
    "    pred_overall = pd.DataFrame(pred,dtype='float32')\n",
    "        \n",
    "    return gt_overall, pred_overall"
   ]
  },
  {
   "cell_type": "markdown",
   "id": "0677dfad",
   "metadata": {},
   "source": [
    "## Disaggregate chunk function\n",
    "### Find states\n",
    "Using find_steady_states_transients function from Hart85\n",
    "\n",
    "**Steps to find states:**\n",
    "    \n",
    "1. The algorithm will mark the changes in power, if it is higher than the state_threshold, then a transition is happening and the values will be calculated based on the estimated steady state\n",
    "2. The transients are found by taking the difference between 2 measurements and goes through a nested If:\n",
    "    - If state change > threshold, then detect that there is transition happening\n",
    "    - If transition > noise level, then record the transition and steady states\n",
    "- Transitions are recorded as positive when power is going up and negative when power is going down\n",
    "- The start of steady states are used as edges for the state change\n",
    "- Returns the lists of recorded transient and steady states into Dataframe\n",
    "\n",
    "**Steps for disaggregation:**\n",
    "\n",
    "1. Hart85 disaggregate algorithm takes power data chunk by chunk (according to how much the memory is able to compute at one time)\n",
    "2. Transient state is taken one by one at a time\n",
    "3. The state is compared to the centroid(s) from trained model\n",
    "4. The min value of the difference is extracted to figure out to which centroid the state belongs to\n",
    "5. Power is then assigned to chunk according to power value from centroid (for load disaggregation)\n",
    "    - Each disaggregated 'appliances' will have predicted load values according to chunk's timestamp\n",
    "- Returns the DataFrame of disaggregated 'appliances' with their power values"
   ]
  },
  {
   "cell_type": "code",
   "execution_count": 27,
   "id": "268c1c36",
   "metadata": {
    "code_folding": [
     0
    ]
   },
   "outputs": [],
   "source": [
    "def disaggregate_chunk(test_mains):  \n",
    "    \"\"\"\n",
    "    Parameters\n",
    "    ----------\n",
    "    chunk : pd.DataFrame\n",
    "        mains power\n",
    "    prev\n",
    "    transients : returned by find_steady_state_transients\n",
    "\n",
    "    Returns\n",
    "    -------\n",
    "    states : pd.DataFrame\n",
    "        with same index as `chunk`.\n",
    "    \"\"\"\n",
    "    #print(test_mains)\n",
    "    test_predictions_list = []\n",
    "        \n",
    "    for chunk in test_mains:\n",
    "          \n",
    "        [_, transients] = find_steady_states(\n",
    "        test_mains[0],  state_threshold=obj_hart.state_threshold,\n",
    "        noise_level=obj_hart.noise_level)\n",
    "        \n",
    "        obj_hart.disag_steady = _\n",
    "        obj_hart.disag_trans = transients\n",
    "        #print('Transients:',transients)\n",
    "        # For now ignoring the first transient\n",
    "        # transients = transients[1:]\n",
    "\n",
    "        # Initially all appliances/meters are in unknown state (denoted by -1)\n",
    "        prev = OrderedDict()\n",
    "        learnt_meters = obj_hart.centroids.index.values\n",
    "        for meter in learnt_meters:\n",
    "            prev[meter] = -1\n",
    "        states = pd.DataFrame(\n",
    "            -1, index=chunk.index, columns=obj_hart.centroids.index.values)\n",
    "        #print('STATES:',states)    \n",
    "        for transient_tuple in transients.itertuples():\n",
    "            if transient_tuple[0] < chunk.index[0]:\n",
    "                # Transient occurs before chunk has started; do nothing\n",
    "                pass\n",
    "            elif transient_tuple[0] > chunk.index[-1]:\n",
    "                # Transient occurs after chunk has ended; do nothing\n",
    "                pass\n",
    "            else:\n",
    "                # Absolute value of transient\n",
    "                abs_value = np.abs(transient_tuple[1:])\n",
    "                positive = transient_tuple[1] > 0\n",
    "                abs_value_transient_minus_centroid = pd.DataFrame(\n",
    "                    (obj_hart.centroids - abs_value).abs())\n",
    "                if len(transient_tuple) == 2:\n",
    "                    # 1d data\n",
    "                    index_least_delta = (abs_value_transient_minus_centroid.idxmin().values[0])\n",
    "                else:\n",
    "                    # 2d data.\n",
    "                    # Need to find absolute value before computing minimum\n",
    "                    columns = abs_value_transient_minus_centroid.columns\n",
    "                    abs_value_transient_minus_centroid[\"multidim\"] = (\n",
    "                        abs_value_transient_minus_centroid[columns[0]] ** 2\n",
    "                        +\n",
    "                        abs_value_transient_minus_centroid[columns[1]] ** 2)\n",
    "                    index_least_delta = (\n",
    "                        abs_value_transient_minus_centroid[\"multidim\"].idxmin())\n",
    "                if positive:\n",
    "                    # Turned on\n",
    "                    states.loc[transient_tuple[0]][index_least_delta] = 1\n",
    "                else:\n",
    "                    # Turned off\n",
    "                    states.loc[transient_tuple[0]][index_least_delta] = 0\n",
    "        prev = states.iloc[-1].to_dict()\n",
    "        power_chunk_dict = obj_hart.assign_power_from_states(states, prev)\n",
    "        obj_hart.power_dict = power_chunk_dict\n",
    "        obj_hart.chunk_index = chunk.index\n",
    "        # Check whether 1d data or 2d data and converting dict to dataframe\n",
    "        if len(transient_tuple) == 2:\n",
    "            temp_df = pd.DataFrame(power_chunk_dict, index=chunk.index)  \n",
    "        else:\n",
    "            tuples = []\n",
    "\n",
    "            for i in range(len(obj_hart.centroids.index.values)):\n",
    "                for j in range(0, 2):\n",
    "                    tuples.append([i, j])\n",
    "\n",
    "            columns = pd.MultiIndex.from_tuples(tuples)\n",
    "\n",
    "            temp_df = pd.DataFrame(\n",
    "                power_chunk_dict,\n",
    "                index=chunk.index,\n",
    "                columns=columns)\n",
    "\n",
    "            for i in range(len(chunk.index)):\n",
    "                for j in range(len(obj_hart.centroids.index.values)):\n",
    "                    for k in range(0, 2):\n",
    "                        temp_df.iloc[i,j,k] = power_chunk_dict[j,i,k]\n",
    "         \n",
    "    temp_df=temp_df.fillna(0)\n",
    " \n",
    "    temp=pd.DataFrame()\n",
    "    for appliance in obj_hart.appliances:\n",
    "        matched_col=obj_hart.best_matches[appliance]\n",
    "        temp[appliance]=temp_df[matched_col]\n",
    "    test_predictions_list.append(temp)    \n",
    "          \n",
    "    return test_predictions_list"
   ]
  },
  {
   "cell_type": "markdown",
   "id": "a8c5378d",
   "metadata": {},
   "source": [
    "## Generate prediction/disaggregation"
   ]
  },
  {
   "cell_type": "code",
   "execution_count": 28,
   "id": "ebdd7c20",
   "metadata": {},
   "outputs": [
    {
     "name": "stdout",
     "output_type": "stream",
     "text": [
      "Generating predictions for : Hart85\n",
      "Finding Edges, please wait ...\n",
      "Edge detection complete.\n",
      "Creating transition frame ...\n",
      "Transition frame created.\n",
      "Creating states frame ...\n",
      "States frame created.\n",
      "Finished.\n",
      "---Runtime: 0.06296682357788086 seconds ---\n"
     ]
    },
    {
     "name": "stderr",
     "output_type": "stream",
     "text": [
      "/opt/conda/envs/nilmtk-env/lib/python3.7/site-packages/nilmtk/disaggregate/hart_85.py:529: FutureWarning: \n",
      ".ix is deprecated. Please use\n",
      ".loc for label based indexing or\n",
      ".iloc for positional indexing\n",
      "\n",
      "See the documentation here:\n",
      "http://pandas.pydata.org/pandas-docs/stable/user_guide/indexing.html#ix-indexer-is-deprecated\n",
      "  power[i] = self.centroids.ix[appliance].values\n",
      "/opt/conda/envs/nilmtk-env/lib/python3.7/site-packages/nilmtk/disaggregate/hart_85.py:532: FutureWarning: \n",
      ".ix is deprecated. Please use\n",
      ".loc for label based indexing or\n",
      ".iloc for positional indexing\n",
      "\n",
      "See the documentation here:\n",
      "http://pandas.pydata.org/pandas-docs/stable/user_guide/indexing.html#ix-indexer-is-deprecated\n",
      "  power[i] = self.centroids.ix[appliance].values\n"
     ]
    }
   ],
   "source": [
    "pred_overall={}\n",
    "gt_overall={} \n",
    "\n",
    "#Start predicting\n",
    "start_time = time.time()\n",
    "gt_overall,pred_overall=predict(test_mains,test_submeters)\n",
    "print(\"---Runtime: %s seconds ---\" % (time.time() - start_time))"
   ]
  },
  {
   "cell_type": "markdown",
   "id": "f09c654c",
   "metadata": {},
   "source": [
    "### Results: Show states\n",
    "- To check the recorded transitions and steady states\n",
    "- Showing the edges when steady states start"
   ]
  },
  {
   "cell_type": "code",
   "execution_count": 29,
   "id": "60799969",
   "metadata": {},
   "outputs": [
    {
     "data": {
      "text/html": [
       "<div>\n",
       "<style scoped>\n",
       "    .dataframe tbody tr th:only-of-type {\n",
       "        vertical-align: middle;\n",
       "    }\n",
       "\n",
       "    .dataframe tbody tr th {\n",
       "        vertical-align: top;\n",
       "    }\n",
       "\n",
       "    .dataframe thead th {\n",
       "        text-align: right;\n",
       "    }\n",
       "</style>\n",
       "<table border=\"1\" class=\"dataframe\">\n",
       "  <thead>\n",
       "    <tr style=\"text-align: right;\">\n",
       "      <th></th>\n",
       "      <th>active average</th>\n",
       "    </tr>\n",
       "  </thead>\n",
       "  <tbody>\n",
       "    <tr>\n",
       "      <th>2022-09-27 15:54:03</th>\n",
       "      <td>2134.88275</td>\n",
       "    </tr>\n",
       "    <tr>\n",
       "      <th>2022-09-27 15:54:44</th>\n",
       "      <td>4022.84000</td>\n",
       "    </tr>\n",
       "    <tr>\n",
       "      <th>2022-09-27 15:57:25</th>\n",
       "      <td>2140.87974</td>\n",
       "    </tr>\n",
       "  </tbody>\n",
       "</table>\n",
       "</div>"
      ],
      "text/plain": [
       "                     active average\n",
       "2022-09-27 15:54:03      2134.88275\n",
       "2022-09-27 15:54:44      4022.84000\n",
       "2022-09-27 15:57:25      2140.87974"
      ]
     },
     "execution_count": 29,
     "metadata": {},
     "output_type": "execute_result"
    }
   ],
   "source": [
    "obj_hart.disag_steady"
   ]
  },
  {
   "cell_type": "code",
   "execution_count": 30,
   "id": "b5619d39",
   "metadata": {
    "scrolled": true
   },
   "outputs": [
    {
     "data": {
      "text/html": [
       "<div>\n",
       "<style scoped>\n",
       "    .dataframe tbody tr th:only-of-type {\n",
       "        vertical-align: middle;\n",
       "    }\n",
       "\n",
       "    .dataframe tbody tr th {\n",
       "        vertical-align: top;\n",
       "    }\n",
       "\n",
       "    .dataframe thead th {\n",
       "        text-align: right;\n",
       "    }\n",
       "</style>\n",
       "<table border=\"1\" class=\"dataframe\">\n",
       "  <thead>\n",
       "    <tr style=\"text-align: right;\">\n",
       "      <th></th>\n",
       "      <th>active transition</th>\n",
       "    </tr>\n",
       "  </thead>\n",
       "  <tbody>\n",
       "    <tr>\n",
       "      <th>2022-09-27 15:54:03</th>\n",
       "      <td>2118.696157</td>\n",
       "    </tr>\n",
       "    <tr>\n",
       "      <th>2022-09-27 15:54:44</th>\n",
       "      <td>1887.957250</td>\n",
       "    </tr>\n",
       "    <tr>\n",
       "      <th>2022-09-27 15:57:25</th>\n",
       "      <td>-1849.875792</td>\n",
       "    </tr>\n",
       "  </tbody>\n",
       "</table>\n",
       "</div>"
      ],
      "text/plain": [
       "                     active transition\n",
       "2022-09-27 15:54:03        2118.696157\n",
       "2022-09-27 15:54:44        1887.957250\n",
       "2022-09-27 15:57:25       -1849.875792"
      ]
     },
     "execution_count": 30,
     "metadata": {},
     "output_type": "execute_result"
    }
   ],
   "source": [
    "obj_hart.disag_trans"
   ]
  },
  {
   "cell_type": "code",
   "execution_count": 31,
   "id": "48c0ecf8",
   "metadata": {},
   "outputs": [
    {
     "data": {
      "text/plain": [
       "Text(0.5, 0, 'Time')"
      ]
     },
     "execution_count": 31,
     "metadata": {},
     "output_type": "execute_result"
    },
    {
     "data": {
      "image/png": "[encoded data removed]",
      "text/plain": [
       "<Figure size 1080x720 with 1 Axes>"
      ]
     },
     "metadata": {
      "needs_background": "light"
     },
     "output_type": "display_data"
    }
   ],
   "source": [
    "# Plot steady states with main\n",
    "ax = df_main.plot()\n",
    "obj_hart.disag_steady.plot(style='o', ax = ax);\n",
    "\n",
    "plt.title(\"Steady states plot with main power signature\")\n",
    "plt.legend([\"Mains\", \"Steady state edges\"]);\n",
    "plt.ylabel(\"Power (W)\")\n",
    "plt.xlabel(\"Time\")"
   ]
  },
  {
   "cell_type": "markdown",
   "id": "fec47361",
   "metadata": {},
   "source": [
    "# Data visualization\n",
    "To compare the ground truth vs predicted appliance loads"
   ]
  },
  {
   "cell_type": "markdown",
   "id": "9693e8cd",
   "metadata": {},
   "source": [
    "## Ground Truth"
   ]
  },
  {
   "cell_type": "code",
   "execution_count": 32,
   "id": "7370a333",
   "metadata": {
    "code_folding": [
     0
    ]
   },
   "outputs": [],
   "source": [
    "# Get steady state points to plot\n",
    "x=gt_overall.index\n",
    "ke_val = gt_overall['kettle'].values\n",
    "vac_val = gt_overall['vacuum'].values\n",
    "\n",
    "# Kettle steady state point\n",
    "ke_ss = gt_overall.iloc[99]['kettle']\n",
    "x_ke = np.where(ke_val==ke_ss)\n",
    "x_ke = x[x_ke]\n",
    "\n",
    "# Vacuum steady state point\n",
    "vac_ss = gt_overall.iloc[150]['vacuum']\n",
    "x_vac = np.where(vac_val==vac_ss)\n",
    "x_vac = x[x_vac]"
   ]
  },
  {
   "cell_type": "code",
   "execution_count": 33,
   "id": "29d9b96e",
   "metadata": {
    "code_folding": [
     0
    ]
   },
   "outputs": [
    {
     "data": {
      "text/plain": [
       "Text(5, 10, '1883.42')"
      ]
     },
     "execution_count": 33,
     "metadata": {},
     "output_type": "execute_result"
    },
    {
     "data": {
      "image/png": "[encoded data removed]",
      "text/plain": [
       "<Figure size 1080x720 with 1 Axes>"
      ]
     },
     "metadata": {
      "needs_background": "light"
     },
     "output_type": "display_data"
    }
   ],
   "source": [
    "# Plot GT \n",
    "gt_vac = plt.plot(gt_overall.index, gt_overall['vacuum'], label = 'Vacuum')\n",
    "gt_ke = plt.plot(gt_overall.index, gt_overall['kettle'], label = 'Kettle')\n",
    "point1 = plt.plot(x_ke[0],ke_ss,marker=\"*\",markersize=15)\n",
    "point2 = plt.plot(x_vac[0],vac_ss,marker=\"*\",markersize=15)\n",
    "\n",
    "plt.title(\"Appliance Ground Truth Plot (Hart85)\")\n",
    "plt.legend()\n",
    "plt.ylabel(\"Active Power (W)\")\n",
    "plt.xlabel(\"Timestamp\")\n",
    "\n",
    "# annotate kettle point\n",
    "plt.annotate(\n",
    "        ke_ss, \n",
    "        xy = (x_ke[0], ke_ss), xytext = (-5, 10),\n",
    "        textcoords = 'offset points', ha = 'right', va = 'bottom',\n",
    "        bbox = dict(boxstyle = 'round,pad=0.5', fc = 'yellow', alpha = 0.5))\n",
    "# annotate vacuum point\n",
    "plt.annotate(\n",
    "        vac_ss, \n",
    "        xy = (x_vac[0], vac_ss), xytext = (5, 10),\n",
    "        textcoords = 'offset points', ha = 'left', va = 'bottom',\n",
    "        bbox = dict(boxstyle = 'round,pad=0.5', fc = 'yellow', alpha = 0.5))"
   ]
  },
  {
   "cell_type": "markdown",
   "id": "218088a9",
   "metadata": {},
   "source": [
    "## Predicted\n",
    "- Plot out the disaggregated 'appliances' output to visualize the predicted disaggregated loads"
   ]
  },
  {
   "cell_type": "code",
   "execution_count": 34,
   "id": "a33395df",
   "metadata": {
    "code_folding": [
     0
    ]
   },
   "outputs": [],
   "source": [
    "# Get steady state points to plot\n",
    "x=pred_overall.index\n",
    "ke_val = pred_overall['kettle'].values\n",
    "vac_val = pred_overall['vacuum'].values\n",
    "\n",
    "# Kettle steady state point\n",
    "ke_ss = pred_overall.iloc[100]['kettle']\n",
    "x_ke = np.where(ke_val==ke_ss)\n",
    "x_ke = x[x_ke]\n",
    "\n",
    "# Vacuum steady state point\n",
    "vac_ss = pred_overall.iloc[150]['vacuum']\n",
    "x_vac = np.where(vac_val==vac_ss)\n",
    "x_vac = x[x_vac]"
   ]
  },
  {
   "cell_type": "code",
   "execution_count": 35,
   "id": "98de7226",
   "metadata": {
    "code_folding": [
     0
    ]
   },
   "outputs": [
    {
     "data": {
      "text/plain": [
       "Text(5, 10, '1941.0')"
      ]
     },
     "execution_count": 35,
     "metadata": {},
     "output_type": "execute_result"
    },
    {
     "data": {
      "image/png": "[encoded data removed]",
      "text/plain": [
       "<Figure size 1080x720 with 1 Axes>"
      ]
     },
     "metadata": {
      "needs_background": "light"
     },
     "output_type": "display_data"
    }
   ],
   "source": [
    "# Plot Predicted \n",
    "pred_vac = plt.plot(pred_overall.index, pred_overall['vacuum'], label = 'Vacuum')\n",
    "pred_ke = plt.plot(pred_overall.index, pred_overall['kettle'], label = 'Kettle')\n",
    "point1 = plt.plot(x_ke[0],ke_ss,marker=\"*\",markersize=15)\n",
    "point2 = plt.plot(x_vac[0],vac_ss,marker=\"*\",markersize=15)\n",
    "\n",
    "plt.title(\"Appliance Predicted Plot (Hart85)\")\n",
    "plt.legend(loc=1)\n",
    "plt.ylabel(\"Active Power (W)\")\n",
    "plt.xlabel(\"Timestamp\")\n",
    "\n",
    "# annotate kettle point\n",
    "plt.annotate(\n",
    "        ke_ss, \n",
    "        xy = (x_ke[0], ke_ss), xytext = (-5, 10),\n",
    "        textcoords = 'offset points', ha = 'right', va = 'bottom',\n",
    "        bbox = dict(boxstyle = 'round,pad=0.5', fc = 'yellow', alpha = 0.5))\n",
    "# annotate vacuum point\n",
    "plt.annotate(\n",
    "        vac_ss, \n",
    "        xy = (x_vac[0], vac_ss), xytext = (5, 10),\n",
    "        textcoords = 'offset points', ha = 'left', va = 'bottom',\n",
    "        bbox = dict(boxstyle = 'round,pad=0.5', fc = 'yellow', alpha = 0.5))"
   ]
  },
  {
   "cell_type": "markdown",
   "id": "7bddd57c",
   "metadata": {},
   "source": [
    "## Main vs Predicted"
   ]
  },
  {
   "cell_type": "code",
   "execution_count": 36,
   "id": "39495992",
   "metadata": {
    "code_folding": [
     0
    ]
   },
   "outputs": [
    {
     "data": {
      "text/plain": [
       "Text(5, 10, '1941.0')"
      ]
     },
     "execution_count": 36,
     "metadata": {},
     "output_type": "execute_result"
    },
    {
     "data": {
      "image/png": "[encoded data removed]",
      "text/plain": [
       "<Figure size 1080x720 with 1 Axes>"
      ]
     },
     "metadata": {
      "needs_background": "light"
     },
     "output_type": "display_data"
    }
   ],
   "source": [
    "# Plot Predicted vs GT Main\n",
    "pred_vac = plt.plot(pred_overall.index, pred_overall['vacuum'], label = 'Vacuum')\n",
    "pred_ke = plt.plot(pred_overall.index, pred_overall['kettle'], label = 'Kettle')\n",
    "pred_main = plt.plot(df_main, label = 'Main GT')\n",
    "point1 = plt.plot(x_ke[0],ke_ss,marker=\"*\",markersize=15)\n",
    "point2 = plt.plot(x_vac[0],vac_ss,marker=\"*\",markersize=15)\n",
    "\n",
    "plt.title(\"Appliance Predicted Plot against Main Ground Truth(Hart85)\")\n",
    "plt.legend(loc=1)\n",
    "plt.ylabel(\"Active Power (W)\")\n",
    "plt.xlabel(\"Timestamp\")\n",
    "\n",
    "# annotate kettle point\n",
    "plt.annotate(\n",
    "        ke_ss, \n",
    "        xy = (x_ke[0], ke_ss), xytext = (-5, 10),\n",
    "        textcoords = 'offset points', ha = 'right', va = 'bottom',\n",
    "        bbox = dict(boxstyle = 'round,pad=0.5', fc = 'yellow', alpha = 0.5))\n",
    "# annotate vacuum point\n",
    "plt.annotate(\n",
    "        vac_ss, \n",
    "        xy = (x_vac[0], vac_ss), xytext = (5, 10),\n",
    "        textcoords = 'offset points', ha = 'left', va = 'bottom',\n",
    "        bbox = dict(boxstyle = 'round,pad=0.5', fc = 'yellow', alpha = 0.5))"
   ]
  },
  {
   "cell_type": "markdown",
   "id": "f514ac19",
   "metadata": {},
   "source": [
    "## Ground vs Predicted"
   ]
  },
  {
   "cell_type": "code",
   "execution_count": 37,
   "id": "a63c11fc",
   "metadata": {
    "code_folding": [
     0
    ]
   },
   "outputs": [
    {
     "data": {
      "text/plain": [
       "Text(0.5, 0, 'Timestamp')"
      ]
     },
     "execution_count": 37,
     "metadata": {},
     "output_type": "execute_result"
    },
    {
     "data": {
      "image/png": "[encoded data removed]",
      "text/plain": [
       "<Figure size 1080x720 with 1 Axes>"
      ]
     },
     "metadata": {
      "needs_background": "light"
     },
     "output_type": "display_data"
    }
   ],
   "source": [
    "# Plot Vacuum\n",
    "gt_vac = plt.plot(gt_overall.index, gt_overall['vacuum'], label = 'Ground Truth')\n",
    "pred_vac = plt.plot(pred_overall.index, pred_overall['vacuum'], label = 'Predicted')\n",
    "\n",
    "plt.title(\"Vacuum GT vs Pred Plot (Hart85)\")\n",
    "plt.legend()\n",
    "plt.ylabel(\"Active Power (W)\")\n",
    "plt.xlabel(\"Timestamp\")"
   ]
  },
  {
   "cell_type": "code",
   "execution_count": 38,
   "id": "1fcaf387",
   "metadata": {
    "code_folding": [
     0
    ]
   },
   "outputs": [
    {
     "data": {
      "text/plain": [
       "Text(0.5, 0, 'Timestamp')"
      ]
     },
     "execution_count": 38,
     "metadata": {},
     "output_type": "execute_result"
    },
    {
     "data": {
      "image/png": "[encoded data removed]",
      "text/plain": [
       "<Figure size 1080x720 with 1 Axes>"
      ]
     },
     "metadata": {
      "needs_background": "light"
     },
     "output_type": "display_data"
    }
   ],
   "source": [
    "# Plot Kettle\n",
    "gt_ke = plt.plot(gt_overall.index, gt_overall['kettle'], label = 'Ground Truth')\n",
    "pred_ke = plt.plot(pred_overall.index, pred_overall['kettle'], label = 'Predicted')\n",
    "\n",
    "plt.title(\"Kettle GT vs Pred Plot (Hart85)\")\n",
    "plt.legend()\n",
    "plt.ylabel(\"Active Power (W)\")\n",
    "plt.xlabel(\"Timestamp\")"
   ]
  },
  {
   "cell_type": "markdown",
   "id": "a32457d5",
   "metadata": {},
   "source": [
    "# Evaluation Metrics\n",
    "- Evaluations metrics are used to evaluate how well the prediction is done by the trained model.\n",
    "- The predicted disaggregated load(s) are evaluated using a few evaluation metrics for regression loss:\n",
    "    1. **MSE**\n",
    "    2. **RMSE**\n",
    "    3. **MAE**\n",
    "    4. **MAPE**\n",
    "- Computed results shows the error/loss values of predicted to ground truth\n",
    "    - The pair with the least loss is considered the closest prediction or the more accurate prediction to ground truth\n",
    "    \n",
    "1. **Mean Squared Error (MSE)**\n",
    "    - The mean squared error (MSE) tells you how close a regression line is to a set of points. It does this by taking the distances from the points to the regression line (these distances are the “errors”) and squaring them. It’s called the mean squared error as you’re finding the average of a set of errors. The lower the MSE, the better the prediction.\n",
    "     \n",
    "2. **Root Mean Squared Error (RMSE)**\n",
    "    - Root Mean Square Error (RMSE) is the standard deviation of the residuals (prediction errors). Residuals are a measure of how far from the regression line data points are; RMSE is a measure of how spread out these residuals are. In other words, it tells you how concentrated the data is around the line of best fit.\n",
    "    \n",
    "3. **Mean absolute error (MAE)**\n",
    "    - Computes the mean of squares of errors between labeled data and predicted data. It calculates the absolute difference between the current output and the expected output divided by the number of output.\n",
    "    \n",
    "4. **Mean absolute percentage error (MAPE)**\n",
    "    - is a measure of prediction accuracy of a forecasting method in statistics. It measures this accuracy as a percentage, and can be calculated as the average absolute percent error for each time period minus actual values divided by actual values."
   ]
  },
  {
   "cell_type": "code",
   "execution_count": 39,
   "id": "eadad726",
   "metadata": {
    "code_folding": [
     0
    ]
   },
   "outputs": [],
   "source": [
    "def rmse(gt,pred):\n",
    "    val = np.sqrt(mean_squared_error(gt,pred))\n",
    "    return val"
   ]
  },
  {
   "cell_type": "code",
   "execution_count": 40,
   "id": "5e90535b",
   "metadata": {},
   "outputs": [
    {
     "name": "stdout",
     "output_type": "stream",
     "text": [
      "............  MSE  ..............\n",
      "kettle  3.437242e+06\n",
      "vacuum  2.527276e+04\n",
      "\n",
      "\n",
      "............  RMSE  ..............\n",
      "kettle  1853.980103\n",
      "vacuum   158.974075\n",
      "\n",
      "\n",
      "............  MAE  ..............\n",
      "kettle  1609.616577\n",
      "vacuum    42.146038\n",
      "\n",
      "\n",
      "............  MAPE  ..............\n",
      "kettle  0.754717\n",
      "vacuum  0.027723\n",
      "\n",
      "\n"
     ]
    }
   ],
   "source": [
    "metrics = [mean_squared_error, rmse, mean_absolute_error, mean_absolute_percentage_error]\n",
    "metrics_label = ['MSE','RMSE' ,'MAE', 'MAPE']\n",
    "\n",
    "# Show metrics\n",
    "for metric,lbl in zip(metrics,metrics_label):\n",
    "    try:\n",
    "        loss_function = metric\n",
    "    except:\n",
    "        print (\"Loss function \",metric, \" is not supported currently!\")\n",
    "        continue\n",
    "\n",
    "    error = {}\n",
    "    for app_name in gt_overall.columns:\n",
    "        error[app_name] = loss_function(gt_overall[app_name],pred_overall[app_name])\n",
    "    \n",
    "    error = pd.Series(error)\n",
    "    computed_metric = pd.DataFrame(error)\n",
    "    print(\"............ \" ,lbl,\" ..............\")\n",
    "    print(computed_metric.to_string(header=False))\n",
    "    print(\"\\n\")"
   ]
  },
  {
   "cell_type": "markdown",
   "id": "cc5a2c53",
   "metadata": {},
   "source": [
    "# Conclusion\n",
    "- Train: kettle+vacuum - 8 min data\n",
    "- Test & disaggregate : kettle+vacuum 6 mins data\n",
    "\n",
    "1. Able to detect the appliances correctly\n",
    "2. Able to disaggregate kettle and vacuum load well\n",
    "\n",
    "- Expected: Able to classify the appliances properly\n",
    "- Result: Not able to disaggregate for kettle because there is no off event and has some outliers for vacuum spike in power"
   ]
  },
  {
   "cell_type": "code",
   "execution_count": null,
   "id": "6217b26f",
   "metadata": {},
   "outputs": [],
   "source": []
  }
 ],
 "metadata": {
  "kernelspec": {
   "display_name": "Python [conda env:nilmtk-env] *",
   "language": "python",
   "name": "conda-env-nilmtk-env-py"
  },
  "language_info": {
   "codemirror_mode": {
    "name": "ipython",
    "version": 3
   },
   "file_extension": ".py",
   "mimetype": "text/x-python",
   "name": "python",
   "nbconvert_exporter": "python",
   "pygments_lexer": "ipython3",
   "version": "3.7.12"
  },
  "toc": {
   "base_numbering": 1,
   "nav_menu": {},
   "number_sections": true,
   "sideBar": true,
   "skip_h1_title": false,
   "title_cell": "Table of Contents",
   "title_sidebar": "Contents",
   "toc_cell": false,
   "toc_position": {
    "height": "calc(100% - 180px)",
    "left": "10px",
    "top": "150px",
    "width": "246.578125px"
   },
   "toc_section_display": true,
   "toc_window_display": true
  }
 },
 "nbformat": 4,
 "nbformat_minor": 5
}
