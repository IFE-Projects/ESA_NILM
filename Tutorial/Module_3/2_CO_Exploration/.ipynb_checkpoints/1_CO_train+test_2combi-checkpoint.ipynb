{
 "cells": [
  {
   "cell_type": "markdown",
   "id": "00946b0c",
   "metadata": {},
   "source": [
    "# Combinatorial Optimization (CO)\n",
    "- This notebook is written to use the **CO algorithm** to train a model using our lab data\n",
    "- This allows us to use only the **power dataframe in MultiIndex format** instead of the MeterGroup format from NILMTK to use the algorithm's functions\n",
    "\n",
    "**Training dataset**\n",
    "- Model is trained using kettle+vacuum 8 mins data\n",
    "    - Expected to be able to detect kettle and vacuum classification\n",
    "    \n",
    "**Training module steps:**\n",
    "1. Subsampling process\n",
    "2. K-Means clustering\n",
    "\n",
    "**Testing dataset:**\n",
    "1. Disaggregation will be using kettle+vacuum 6 mins data\n",
    "    - Expected that it will be able to classify these 2 appliances properly\n",
    "    \n",
    "**Disaggregation module steps:**\n",
    "1. Import trained model\n",
    "2. Combination of states\n",
    "3. Finding nearest\n",
    "4. Predicted vs ground truth comparison\n",
    "5. Evaluation\n",
    "\n",
    "Note: The headings represents the function names found in NILMTK algorithm code"
   ]
  },
  {
   "cell_type": "code",
   "execution_count": 1,
   "id": "6f1f48fe",
   "metadata": {},
   "outputs": [],
   "source": [
    "# Importing libraries for working with DataFrames and visualizations\n",
    "from matplotlib import rcParams\n",
    "import matplotlib\n",
    "import matplotlib.pyplot as plt\n",
    "import pandas as pd\n",
    "import numpy as np\n",
    "import time\n",
    "\n",
    "import pickle\n",
    "import warnings\n",
    "\n",
    "# For evaluation metrics\n",
    "from sklearn.metrics import mean_squared_error, mean_absolute_error, mean_absolute_percentage_error\n",
    "\n",
    "# Importing the following for working with NILM dataset\n",
    "from nilmtk import DataSet, TimeFrame, MeterGroup, HDFDataStore\n",
    "from nilmtk.utils import print_dict, find_nearest\n",
    "from nilmtk.api import API\n",
    "\n",
    "# CO functions\n",
    "#from nilmtk.disaggregate.combinatorial_optimisation import CO\n",
    "from nilmtk.legacy.disaggregate import CombinatorialOptimisation\n",
    "from nilmtk.feature_detectors import cluster\n",
    "from nilmtk.disaggregate import Disaggregator\n",
    "from nilmtk.datastore import HDFDataStore\n",
    "\n",
    "%matplotlib inline\n",
    "plt.rcParams['figure.figsize'] = [15, 10]"
   ]
  },
  {
   "cell_type": "code",
   "execution_count": 2,
   "id": "508a364a",
   "metadata": {},
   "outputs": [],
   "source": [
    "# Global variables #\n",
    "# For API functions\n",
    "appliances = [\"kettle\", \"vacuum\"]\n",
    "train_submeters = []\n",
    "train_mains = []\n",
    "test_submeters = []\n",
    "test_mains = pd.DataFrame()\n",
    "gt_overall = {}\n",
    "pred_overall = {}\n",
    "classifiers=[]\n",
    "errors = []\n",
    "errors_keys = []\n",
    "\n",
    "# For CO functions\n",
    "model = []\n",
    "MODEL_NAME = 'CO'\n",
    "state_combinations = None\n",
    "MIN_CHUNK_LENGTH = 100\n",
    "\n",
    "power = 'active'\n",
    "\n",
    "metrics = ['mae', 'rmse', 'f1score']\n",
    "sample_period = 1\n",
    "site_only = False"
   ]
  },
  {
   "cell_type": "code",
   "execution_count": 3,
   "id": "b48c9308",
   "metadata": {},
   "outputs": [],
   "source": [
    "#1 dimensional combinatorial optimisation NILM algorithm\n",
    "obj_co = CombinatorialOptimisation()"
   ]
  },
  {
   "cell_type": "markdown",
   "id": "e76f3903",
   "metadata": {},
   "source": [
    "# Dataset preparation - Training\n",
    "Changing lab power data into df that can feed into NILMTK function\n",
    "\n",
    "- Data     : kettle + vacuum: has main, kettle, vacuum load data\n",
    "- Frequency: 1Hz\n",
    "- Duration : 8 mins\n",
    "- Pattern: Multiple on/off states"
   ]
  },
  {
   "cell_type": "code",
   "execution_count": 4,
   "id": "7cd93c9d",
   "metadata": {
    "code_folding": [
     0
    ]
   },
   "outputs": [],
   "source": [
    "def get_multiIndex(appliance_df, columns):\n",
    "    df_app = pd.DataFrame(appliance_df['Active (W)'])\n",
    "    df_app.columns = columns\n",
    "    df_app.columns.names = ['physical_quantity', 'type']\n",
    "    df_app.index = pd.to_datetime(df_app.index)\n",
    "    df_app.index.name = None\n",
    "    return df_app"
   ]
  },
  {
   "cell_type": "code",
   "execution_count": 5,
   "id": "793d3538",
   "metadata": {
    "code_folding": [
     0
    ],
    "scrolled": true
   },
   "outputs": [
    {
     "data": {
      "text/html": [
       "<div>\n",
       "<style scoped>\n",
       "    .dataframe tbody tr th:only-of-type {\n",
       "        vertical-align: middle;\n",
       "    }\n",
       "\n",
       "    .dataframe tbody tr th {\n",
       "        vertical-align: top;\n",
       "    }\n",
       "\n",
       "    .dataframe thead th {\n",
       "        text-align: right;\n",
       "    }\n",
       "</style>\n",
       "<table border=\"1\" class=\"dataframe\">\n",
       "  <thead>\n",
       "    <tr style=\"text-align: right;\">\n",
       "      <th></th>\n",
       "      <th>RMS Current</th>\n",
       "      <th>Average Current</th>\n",
       "      <th>Peak Current</th>\n",
       "      <th>Apparent (W)</th>\n",
       "      <th>Active (W)</th>\n",
       "      <th>Reactive (W)</th>\n",
       "      <th>Power Factor</th>\n",
       "      <th>Fundamental Frequency (50Hz)</th>\n",
       "      <th>Third Harmonics (150Hz)</th>\n",
       "      <th>Fifth (250Hz)</th>\n",
       "      <th>Seventh (350Hz)</th>\n",
       "      <th>Ninth (450Hz)</th>\n",
       "    </tr>\n",
       "    <tr>\n",
       "      <th>Timestamp</th>\n",
       "      <th></th>\n",
       "      <th></th>\n",
       "      <th></th>\n",
       "      <th></th>\n",
       "      <th></th>\n",
       "      <th></th>\n",
       "      <th></th>\n",
       "      <th></th>\n",
       "      <th></th>\n",
       "      <th></th>\n",
       "      <th></th>\n",
       "      <th></th>\n",
       "    </tr>\n",
       "  </thead>\n",
       "  <tbody>\n",
       "    <tr>\n",
       "      <th>2022-11-14 16:42:33</th>\n",
       "      <td>0.01</td>\n",
       "      <td>0.0</td>\n",
       "      <td>0.01</td>\n",
       "      <td>2.07</td>\n",
       "      <td>0.39</td>\n",
       "      <td>2.03</td>\n",
       "      <td>0.188766</td>\n",
       "      <td>0.0</td>\n",
       "      <td>0.0</td>\n",
       "      <td>0.0</td>\n",
       "      <td>0.0</td>\n",
       "      <td>0.0</td>\n",
       "    </tr>\n",
       "    <tr>\n",
       "      <th>2022-11-14 16:42:34</th>\n",
       "      <td>0.01</td>\n",
       "      <td>0.0</td>\n",
       "      <td>0.01</td>\n",
       "      <td>2.93</td>\n",
       "      <td>0.50</td>\n",
       "      <td>2.88</td>\n",
       "      <td>0.170425</td>\n",
       "      <td>0.0</td>\n",
       "      <td>0.0</td>\n",
       "      <td>0.0</td>\n",
       "      <td>0.0</td>\n",
       "      <td>0.0</td>\n",
       "    </tr>\n",
       "    <tr>\n",
       "      <th>2022-11-14 16:42:35</th>\n",
       "      <td>0.01</td>\n",
       "      <td>0.0</td>\n",
       "      <td>0.01</td>\n",
       "      <td>2.69</td>\n",
       "      <td>0.45</td>\n",
       "      <td>2.65</td>\n",
       "      <td>0.165865</td>\n",
       "      <td>0.0</td>\n",
       "      <td>0.0</td>\n",
       "      <td>0.0</td>\n",
       "      <td>0.0</td>\n",
       "      <td>0.0</td>\n",
       "    </tr>\n",
       "    <tr>\n",
       "      <th>2022-11-14 16:42:36</th>\n",
       "      <td>0.01</td>\n",
       "      <td>0.0</td>\n",
       "      <td>0.02</td>\n",
       "      <td>2.96</td>\n",
       "      <td>0.45</td>\n",
       "      <td>2.92</td>\n",
       "      <td>0.152661</td>\n",
       "      <td>0.0</td>\n",
       "      <td>0.0</td>\n",
       "      <td>0.0</td>\n",
       "      <td>0.0</td>\n",
       "      <td>0.0</td>\n",
       "    </tr>\n",
       "    <tr>\n",
       "      <th>2022-11-14 16:42:37</th>\n",
       "      <td>0.01</td>\n",
       "      <td>0.0</td>\n",
       "      <td>0.01</td>\n",
       "      <td>2.57</td>\n",
       "      <td>0.51</td>\n",
       "      <td>2.52</td>\n",
       "      <td>0.198059</td>\n",
       "      <td>0.0</td>\n",
       "      <td>0.0</td>\n",
       "      <td>0.0</td>\n",
       "      <td>0.0</td>\n",
       "      <td>0.0</td>\n",
       "    </tr>\n",
       "    <tr>\n",
       "      <th>...</th>\n",
       "      <td>...</td>\n",
       "      <td>...</td>\n",
       "      <td>...</td>\n",
       "      <td>...</td>\n",
       "      <td>...</td>\n",
       "      <td>...</td>\n",
       "      <td>...</td>\n",
       "      <td>...</td>\n",
       "      <td>...</td>\n",
       "      <td>...</td>\n",
       "      <td>...</td>\n",
       "      <td>...</td>\n",
       "    </tr>\n",
       "    <tr>\n",
       "      <th>2022-11-14 16:50:50</th>\n",
       "      <td>0.01</td>\n",
       "      <td>0.0</td>\n",
       "      <td>0.02</td>\n",
       "      <td>1.98</td>\n",
       "      <td>0.34</td>\n",
       "      <td>1.95</td>\n",
       "      <td>0.171031</td>\n",
       "      <td>0.0</td>\n",
       "      <td>0.0</td>\n",
       "      <td>0.0</td>\n",
       "      <td>0.0</td>\n",
       "      <td>0.0</td>\n",
       "    </tr>\n",
       "    <tr>\n",
       "      <th>2022-11-14 16:50:51</th>\n",
       "      <td>0.01</td>\n",
       "      <td>0.0</td>\n",
       "      <td>0.00</td>\n",
       "      <td>1.82</td>\n",
       "      <td>0.31</td>\n",
       "      <td>1.79</td>\n",
       "      <td>0.169447</td>\n",
       "      <td>0.0</td>\n",
       "      <td>0.0</td>\n",
       "      <td>0.0</td>\n",
       "      <td>0.0</td>\n",
       "      <td>0.0</td>\n",
       "    </tr>\n",
       "    <tr>\n",
       "      <th>2022-11-14 16:50:52</th>\n",
       "      <td>0.01</td>\n",
       "      <td>0.0</td>\n",
       "      <td>0.02</td>\n",
       "      <td>2.39</td>\n",
       "      <td>0.40</td>\n",
       "      <td>2.36</td>\n",
       "      <td>0.166743</td>\n",
       "      <td>0.0</td>\n",
       "      <td>0.0</td>\n",
       "      <td>0.0</td>\n",
       "      <td>0.0</td>\n",
       "      <td>0.0</td>\n",
       "    </tr>\n",
       "    <tr>\n",
       "      <th>2022-11-14 16:50:53</th>\n",
       "      <td>0.01</td>\n",
       "      <td>0.0</td>\n",
       "      <td>0.02</td>\n",
       "      <td>2.36</td>\n",
       "      <td>0.38</td>\n",
       "      <td>2.33</td>\n",
       "      <td>0.161546</td>\n",
       "      <td>0.0</td>\n",
       "      <td>0.0</td>\n",
       "      <td>0.0</td>\n",
       "      <td>0.0</td>\n",
       "      <td>0.0</td>\n",
       "    </tr>\n",
       "    <tr>\n",
       "      <th>2022-11-14 16:50:54</th>\n",
       "      <td>0.01</td>\n",
       "      <td>0.0</td>\n",
       "      <td>0.02</td>\n",
       "      <td>2.21</td>\n",
       "      <td>0.41</td>\n",
       "      <td>2.17</td>\n",
       "      <td>0.186756</td>\n",
       "      <td>0.0</td>\n",
       "      <td>0.0</td>\n",
       "      <td>0.0</td>\n",
       "      <td>0.0</td>\n",
       "      <td>0.0</td>\n",
       "    </tr>\n",
       "  </tbody>\n",
       "</table>\n",
       "<p>502 rows × 12 columns</p>\n",
       "</div>"
      ],
      "text/plain": [
       "                     RMS Current  Average Current  Peak Current  Apparent (W)  \\\n",
       "Timestamp                                                                       \n",
       "2022-11-14 16:42:33         0.01              0.0          0.01          2.07   \n",
       "2022-11-14 16:42:34         0.01              0.0          0.01          2.93   \n",
       "2022-11-14 16:42:35         0.01              0.0          0.01          2.69   \n",
       "2022-11-14 16:42:36         0.01              0.0          0.02          2.96   \n",
       "2022-11-14 16:42:37         0.01              0.0          0.01          2.57   \n",
       "...                          ...              ...           ...           ...   \n",
       "2022-11-14 16:50:50         0.01              0.0          0.02          1.98   \n",
       "2022-11-14 16:50:51         0.01              0.0          0.00          1.82   \n",
       "2022-11-14 16:50:52         0.01              0.0          0.02          2.39   \n",
       "2022-11-14 16:50:53         0.01              0.0          0.02          2.36   \n",
       "2022-11-14 16:50:54         0.01              0.0          0.02          2.21   \n",
       "\n",
       "                     Active (W)  Reactive (W)  Power Factor  \\\n",
       "Timestamp                                                     \n",
       "2022-11-14 16:42:33        0.39          2.03      0.188766   \n",
       "2022-11-14 16:42:34        0.50          2.88      0.170425   \n",
       "2022-11-14 16:42:35        0.45          2.65      0.165865   \n",
       "2022-11-14 16:42:36        0.45          2.92      0.152661   \n",
       "2022-11-14 16:42:37        0.51          2.52      0.198059   \n",
       "...                         ...           ...           ...   \n",
       "2022-11-14 16:50:50        0.34          1.95      0.171031   \n",
       "2022-11-14 16:50:51        0.31          1.79      0.169447   \n",
       "2022-11-14 16:50:52        0.40          2.36      0.166743   \n",
       "2022-11-14 16:50:53        0.38          2.33      0.161546   \n",
       "2022-11-14 16:50:54        0.41          2.17      0.186756   \n",
       "\n",
       "                     Fundamental Frequency (50Hz)  Third Harmonics (150Hz)  \\\n",
       "Timestamp                                                                    \n",
       "2022-11-14 16:42:33                           0.0                      0.0   \n",
       "2022-11-14 16:42:34                           0.0                      0.0   \n",
       "2022-11-14 16:42:35                           0.0                      0.0   \n",
       "2022-11-14 16:42:36                           0.0                      0.0   \n",
       "2022-11-14 16:42:37                           0.0                      0.0   \n",
       "...                                           ...                      ...   \n",
       "2022-11-14 16:50:50                           0.0                      0.0   \n",
       "2022-11-14 16:50:51                           0.0                      0.0   \n",
       "2022-11-14 16:50:52                           0.0                      0.0   \n",
       "2022-11-14 16:50:53                           0.0                      0.0   \n",
       "2022-11-14 16:50:54                           0.0                      0.0   \n",
       "\n",
       "                     Fifth (250Hz)  Seventh (350Hz)  Ninth (450Hz)  \n",
       "Timestamp                                                           \n",
       "2022-11-14 16:42:33            0.0              0.0            0.0  \n",
       "2022-11-14 16:42:34            0.0              0.0            0.0  \n",
       "2022-11-14 16:42:35            0.0              0.0            0.0  \n",
       "2022-11-14 16:42:36            0.0              0.0            0.0  \n",
       "2022-11-14 16:42:37            0.0              0.0            0.0  \n",
       "...                            ...              ...            ...  \n",
       "2022-11-14 16:50:50            0.0              0.0            0.0  \n",
       "2022-11-14 16:50:51            0.0              0.0            0.0  \n",
       "2022-11-14 16:50:52            0.0              0.0            0.0  \n",
       "2022-11-14 16:50:53            0.0              0.0            0.0  \n",
       "2022-11-14 16:50:54            0.0              0.0            0.0  \n",
       "\n",
       "[502 rows x 12 columns]"
      ]
     },
     "execution_count": 5,
     "metadata": {},
     "output_type": "execute_result"
    }
   ],
   "source": [
    "# Main load df\n",
    "main_df=pd.read_csv(\"../Lab_Dataset/2combi_kettle+vacuum/train_data/main.csv\", index_col=0)\n",
    "\n",
    "# Load submeters\n",
    "kettle_df=pd.read_csv(\"../Lab_Dataset/2combi_kettle+vacuum/train_data/kettle.csv\", index_col=0)\n",
    "vacuum_df=pd.read_csv(\"../Lab_Dataset/2combi_kettle+vacuum/train_data/vacuum.csv\", index_col=0)\n",
    "\n",
    "main_df"
   ]
  },
  {
   "cell_type": "code",
   "execution_count": 6,
   "id": "09e5d503",
   "metadata": {},
   "outputs": [
    {
     "data": {
      "text/plain": [
       "<matplotlib.axes._subplots.AxesSubplot at 0x7fc7a632a250>"
      ]
     },
     "execution_count": 6,
     "metadata": {},
     "output_type": "execute_result"
    },
    {
     "data": {
      "image/png": "[encoded data removed]",
      "text/plain": [
       "<Figure size 1080x720 with 1 Axes>"
      ]
     },
     "metadata": {
      "needs_background": "light"
     },
     "output_type": "display_data"
    }
   ],
   "source": [
    "# Convert lab data to multiIndex df\n",
    "# set column\n",
    "columns = pd.MultiIndex.from_tuples([('power','active')])\n",
    "\n",
    "# main\n",
    "df_main = get_multiIndex(main_df, columns)\n",
    "# Kettle\n",
    "df_ke = get_multiIndex(kettle_df, columns)\n",
    "# Vacuum\n",
    "df_vac = get_multiIndex(vacuum_df, columns)\n",
    "\n",
    "df_main\n",
    "df_main.plot()"
   ]
  },
  {
   "cell_type": "code",
   "execution_count": 7,
   "id": "d320e61e",
   "metadata": {},
   "outputs": [],
   "source": [
    "# Append appliances into one list\n",
    "appliance_readings = []\n",
    "appliance_readings.append(df_ke)\n",
    "appliance_readings.append(df_vac)"
   ]
  },
  {
   "cell_type": "code",
   "execution_count": 8,
   "id": "c64d93d3",
   "metadata": {},
   "outputs": [
    {
     "data": {
      "text/plain": [
       "[physical_quantity    power\n",
       " type                active\n",
       " 2022-11-14 16:42:33   0.39\n",
       " 2022-11-14 16:42:34   0.50\n",
       " 2022-11-14 16:42:35   0.45\n",
       " 2022-11-14 16:42:36   0.45\n",
       " 2022-11-14 16:42:37   0.51\n",
       " ...                    ...\n",
       " 2022-11-14 16:50:50   0.34\n",
       " 2022-11-14 16:50:51   0.31\n",
       " 2022-11-14 16:50:52   0.40\n",
       " 2022-11-14 16:50:53   0.38\n",
       " 2022-11-14 16:50:54   0.41\n",
       " \n",
       " [502 rows x 1 columns]]"
      ]
     },
     "execution_count": 8,
     "metadata": {},
     "output_type": "execute_result"
    }
   ],
   "source": [
    "# Aggregated load is already in mains, no need to artificial aggregate\n",
    "train_df = df_main\n",
    "\n",
    "train_submeters = [[] for i in range(len(appliances))]\n",
    "train_mains = []\n",
    "\n",
    "train_mains.append(train_df)\n",
    "for i,name in enumerate(appliances):\n",
    "    train_submeters[i].append(appliance_readings[i])\n",
    "\n",
    "appliance_readings = []\n",
    "for i,appliance_name in enumerate(appliances):\n",
    "    appliance_readings.append((appliance_name, train_submeters[i]))\n",
    "\n",
    "train_submeters = appliance_readings \n",
    "train_mains"
   ]
  },
  {
   "cell_type": "markdown",
   "id": "21d8c65c",
   "metadata": {},
   "source": [
    "# Training\n",
    "Extracting code from NILMTK API and CO to use for lab data"
   ]
  },
  {
   "cell_type": "markdown",
   "id": "9fdedc24",
   "metadata": {},
   "source": [
    "## Partial Fit\n",
    "- Inside the CO **cluster function**:\n",
    "    1. Data is **subsampled** by taking random 2000 samples from train data (inside cluster function)\n",
    "    2. The subsampled data is then used for **K-Means clustering** (inside cluster function)"
   ]
  },
  {
   "cell_type": "code",
   "execution_count": 9,
   "id": "82006b01",
   "metadata": {
    "code_folding": []
   },
   "outputs": [],
   "source": [
    "def partial_fit(\n",
    "    train_main,\n",
    "    train_appliances,\n",
    "    do_preprocessing=True,\n",
    "    **load_kwargs):\n",
    "\n",
    "    train_main = pd.concat(train_main, axis=0)\n",
    "    train_app_tmp = []\n",
    "\n",
    "    for app_name, df_list in train_appliances:\n",
    "        df_list = pd.concat(df_list, axis=0)\n",
    "        train_app_tmp.append((app_name, df_list))\n",
    "\n",
    "    train_appliances = train_app_tmp\n",
    "\n",
    "    print(\"...............CO partial_fit running.............\")\n",
    "    num_on_states = None\n",
    "    if len(train_appliances) > 12:\n",
    "        max_num_clusters = 2\n",
    "    else:\n",
    "        max_num_clusters = 3\n",
    "    appliance_in_model = [d['appliance_name'] for d in model]\n",
    "\n",
    "    for appliance, readings in train_appliances:\n",
    "        #print(appliance,\" \",readings)\n",
    "        if appliance in appliance_in_model:\n",
    "            #     raise RuntimeError(\n",
    "            #     \"Appliance {} is already in model!\"\n",
    "            #     \"  Can't train twice on the same meter!\",appliance)\n",
    "            print(\"Trained on \" + appliance + \" before.\")\n",
    "\n",
    "        else:\n",
    "            states = cluster(readings, max_num_clusters, num_on_states)\n",
    "            model.append({\n",
    "                'states': states,\n",
    "                'appliance_name': appliance})"
   ]
  },
  {
   "cell_type": "code",
   "execution_count": 10,
   "id": "2d0de1db",
   "metadata": {},
   "outputs": [
    {
     "name": "stdout",
     "output_type": "stream",
     "text": [
      "...............CO partial_fit running.............\n",
      "---Runtime: 0.07254767417907715 seconds ---\n"
     ]
    }
   ],
   "source": [
    "start_time = time.time()\n",
    "partial_fit(train_mains,train_submeters)\n",
    "print(\"---Runtime: %s seconds ---\" % (time.time() - start_time))"
   ]
  },
  {
   "cell_type": "code",
   "execution_count": 11,
   "id": "2ff1b8d6",
   "metadata": {},
   "outputs": [
    {
     "data": {
      "text/plain": [
       "[{'states': array([   0,  810, 2192], dtype=int32),\n",
       "  'appliance_name': 'kettle'},\n",
       " {'states': array([   0,  607, 1977], dtype=int32),\n",
       "  'appliance_name': 'vacuum'}]"
      ]
     },
     "execution_count": 11,
     "metadata": {},
     "output_type": "execute_result"
    }
   ],
   "source": [
    "# centroid/states saved to model dict\n",
    "model"
   ]
  },
  {
   "cell_type": "markdown",
   "id": "d47b99c8",
   "metadata": {},
   "source": [
    "## Export model as pickle\n",
    "Export the trained model as pickle to be used for testing"
   ]
  },
  {
   "cell_type": "code",
   "execution_count": 12,
   "id": "046e9d29",
   "metadata": {
    "code_folding": []
   },
   "outputs": [],
   "source": [
    "def export_model(filename):\n",
    "    example_dict = model\n",
    "    with open(filename, \"wb\") as pickle_out:\n",
    "        pickle.dump(example_dict, pickle_out)"
   ]
  },
  {
   "cell_type": "code",
   "execution_count": 13,
   "id": "9405963c",
   "metadata": {},
   "outputs": [],
   "source": [
    "export_model('trained_model/modelTrainedCO_ke+vac.pickle')"
   ]
  },
  {
   "cell_type": "markdown",
   "id": "23dd0eb9",
   "metadata": {},
   "source": [
    "# Dataset preparation - Testing\n",
    "Changing lab power data into df that can feed into NILMTK \n",
    "\n",
    "- Data     : kettle + vacuum: has main, kettle, vacuum load data\n",
    "- Frequency: 1Hz\n",
    "- Duration : 6 mins\n",
    "- Data type: active power only"
   ]
  },
  {
   "cell_type": "code",
   "execution_count": 14,
   "id": "086ad0ec",
   "metadata": {
    "code_folding": [
     0
    ]
   },
   "outputs": [],
   "source": [
    "def get_multiIndex(appliance_df, columns):\n",
    "    df_app = pd.DataFrame(appliance_df['Active (W)'])\n",
    "    df_app.columns = columns\n",
    "    df_app.columns.names = ['physical_quantity', 'type']\n",
    "    df_app.index = pd.to_datetime(df_app.index)\n",
    "    df_app.index.name = None\n",
    "    return df_app"
   ]
  },
  {
   "cell_type": "code",
   "execution_count": 15,
   "id": "0515dbf4",
   "metadata": {
    "code_folding": [
     0
    ]
   },
   "outputs": [],
   "source": [
    "# Main load df\n",
    "main_df=pd.read_csv(\"../Lab_Dataset/2combi_kettle+vacuum/test_data/main._output.csv\", index_col=0)\n",
    "# Load submeters\n",
    "kettle_df=pd.read_csv(\"../Lab_Dataset/2combi_kettle+vacuum/test_data/kettle._output.csv\", index_col=0)\n",
    "vacuum_df=pd.read_csv(\"../Lab_Dataset/2combi_kettle+vacuum/test_data/vacuum._output.csv\", index_col=0)"
   ]
  },
  {
   "cell_type": "code",
   "execution_count": 16,
   "id": "13af3518",
   "metadata": {
    "scrolled": true
   },
   "outputs": [
    {
     "data": {
      "text/plain": [
       "<matplotlib.axes._subplots.AxesSubplot at 0x7fc7e1557590>"
      ]
     },
     "execution_count": 16,
     "metadata": {},
     "output_type": "execute_result"
    },
    {
     "data": {
      "image/png": "[encoded data removed]",
      "text/plain": [
       "<Figure size 1080x720 with 1 Axes>"
      ]
     },
     "metadata": {
      "needs_background": "light"
     },
     "output_type": "display_data"
    }
   ],
   "source": [
    "# Convert lab data to multiIndex df\n",
    "# set column\n",
    "columns = pd.MultiIndex.from_tuples([('power','active')])\n",
    "\n",
    "# main\n",
    "df_main = get_multiIndex(main_df, columns)\n",
    "# Kettle\n",
    "df_ke = get_multiIndex(kettle_df, columns)\n",
    "# Vacuum\n",
    "df_vac = get_multiIndex(vacuum_df, columns)\n",
    "\n",
    "df_main\n",
    "df_main.plot()"
   ]
  },
  {
   "cell_type": "code",
   "execution_count": 17,
   "id": "ec892431",
   "metadata": {},
   "outputs": [
    {
     "data": {
      "text/plain": [
       "[physical_quantity      power\n",
       " type                  active\n",
       " 2022-09-27 15:52:32    16.25\n",
       " 2022-09-27 15:52:33    16.54\n",
       " 2022-09-27 15:52:34    16.42\n",
       " 2022-09-27 15:52:35    16.38\n",
       " 2022-09-27 15:52:36    16.50\n",
       " ...                      ...\n",
       " 2022-09-27 15:58:38  2140.91\n",
       " 2022-09-27 15:58:39  2142.35\n",
       " 2022-09-27 15:58:40  2143.27\n",
       " 2022-09-27 15:58:41  2143.21\n",
       " 2022-09-27 15:58:42  2143.65\n",
       " \n",
       " [371 rows x 1 columns]]"
      ]
     },
     "execution_count": 17,
     "metadata": {},
     "output_type": "execute_result"
    }
   ],
   "source": [
    "# Append appliances into one list\n",
    "appliance_readings = []\n",
    "appliance_readings.append(df_ke)\n",
    "appliance_readings.append(df_vac)\n",
    "\n",
    "# Aggregated load is already in mains, no need to artificial aggregate\n",
    "test_df = df_main\n",
    "\n",
    "test_submeters = [[] for i in range(len(appliances))]\n",
    "test_mains = []\n",
    "\n",
    "test_mains.append(test_df)\n",
    "for i,name in enumerate(appliances):\n",
    "    test_submeters[i].append(appliance_readings[i])\n",
    "\n",
    "appliance_readings = []\n",
    "for i,appliance_name in enumerate(appliances):\n",
    "    appliance_readings.append((appliance_name, test_submeters[i]))\n",
    "\n",
    "test_submeters = appliance_readings \n",
    "\n",
    "test_mains"
   ]
  },
  {
   "cell_type": "markdown",
   "id": "2767dcb9",
   "metadata": {},
   "source": [
    "# Predict"
   ]
  },
  {
   "cell_type": "markdown",
   "id": "4f407d72",
   "metadata": {},
   "source": [
    "## Import model\n",
    "Import the trained model"
   ]
  },
  {
   "cell_type": "code",
   "execution_count": 18,
   "id": "735b4ee0",
   "metadata": {
    "code_folding": [
     0
    ]
   },
   "outputs": [],
   "source": [
    "def import_model(filename):\n",
    "    with open(filename, \"rb\") as pickle_in:\n",
    "        model = pickle.load(pickle_in)\n",
    "        #states = model['states']\n",
    "        #appliance_name = model['appliance_name']\n",
    "    return model"
   ]
  },
  {
   "cell_type": "code",
   "execution_count": 19,
   "id": "13da440b",
   "metadata": {},
   "outputs": [],
   "source": [
    "model = import_model('trained_model/modelTrainedCO_ke+vac.pickle')\n",
    "\n",
    "obj_co.model\n",
    "\n",
    "pred_overall={}\n",
    "gt_overall={} \n",
    "\n",
    "obj_co.model = model"
   ]
  },
  {
   "cell_type": "markdown",
   "id": "8cfb137b",
   "metadata": {},
   "source": [
    "## Disaggregate module\n",
    "\n",
    "- Inside the disaggregate_chunk function, there is predict function\n",
    "- Inside the **predict function**: \n",
    "    1. Set **state combination**\n",
    "        - The states/centroids of all appliances are combined in an array by cartesian product\n",
    "    2. **Find Nearest**\n",
    "        - Find the nearest values between the combined states (observed) with the test mains (predicted)\n",
    "        - Using the indices of state combination to figure out the combination of appliance"
   ]
  },
  {
   "cell_type": "markdown",
   "id": "2cd7d584",
   "metadata": {},
   "source": [
    "### Predict function\n",
    "- The overall predict function to run the 2 main processes for disaggregation"
   ]
  },
  {
   "cell_type": "code",
   "execution_count": 20,
   "id": "c825b5bb",
   "metadata": {
    "code_folding": []
   },
   "outputs": [],
   "source": [
    "def predict(test_mains, test_submeters):\n",
    "    print (\"Generating predictions for :\",MODEL_NAME)        \n",
    "    \"\"\"\n",
    "    Generates predictions on the test dataset using the specified classifier.\n",
    "    \"\"\"\n",
    "        \n",
    "    # \"ac_type\" varies according to the dataset used. \n",
    "    # Make sure to use the correct ac_type before using the default parameters in this code.   \n",
    "           \n",
    "    pred_list = disaggregate_chunk(test_mains)\n",
    "\n",
    "    # It might not have time stamps sometimes due to neural nets\n",
    "    # It has the readings for all the appliances\n",
    "\n",
    "    concat_pred_df = pd.concat(pred_list,axis=0)\n",
    "\n",
    "    gt = {}\n",
    "    for meter,data in test_submeters:\n",
    "        concatenated_df_app = pd.concat(data,axis=1)\n",
    "        index = concatenated_df_app.index\n",
    "        gt[meter] = pd.Series(concatenated_df_app.values.flatten(),index=index)\n",
    "\n",
    "    gt_overall = pd.DataFrame(gt, dtype='float32')\n",
    "    pred = {}\n",
    "\n",
    "    if site_only ==True:\n",
    "        for app_name in concat_pred_df.columns:\n",
    "            app_series_values = concat_pred_df[app_name].values.flatten()\n",
    "            pred[app_name] = pd.Series(app_series_values)\n",
    "        pred_overall = pd.DataFrame(pred,dtype='float32')\n",
    "        pred_overall.plot(label=\"Pred\")\n",
    "        plt.title('Disaggregated Data')\n",
    "        plt.legend()\n",
    "\n",
    "    else:\n",
    "        for app_name in concat_pred_df.columns:\n",
    "            app_series_values = concat_pred_df[app_name].values.flatten()\n",
    "            # Neural nets do extra padding sometimes, to fit, so get rid of extra predictions\n",
    "            app_series_values = app_series_values[:len(gt_overall[app_name])]\n",
    "            pred[app_name] = pd.Series(app_series_values, index = gt_overall.index)\n",
    "        pred_overall = pd.DataFrame(pred,dtype='float32')\n",
    "        \n",
    "    return gt_overall, pred_overall"
   ]
  },
  {
   "cell_type": "markdown",
   "id": "5ad5751a",
   "metadata": {},
   "source": [
    "### Disaggregate chunk function\n",
    "- Containing main functions (set **state combi** func & **find nearest** process) to disaggregate"
   ]
  },
  {
   "cell_type": "code",
   "execution_count": 21,
   "id": "0a65dd78",
   "metadata": {
    "code_folding": [
     0
    ]
   },
   "outputs": [],
   "source": [
    "def disaggregate_chunk(mains):\n",
    "    \"\"\"In-memory disaggregation.\n",
    "\n",
    "    Parameters\n",
    "    ----------\n",
    "    mains : pd.Series\n",
    "\n",
    "\n",
    "    Returns\n",
    "    -------\n",
    "    appliance_powers : pd.DataFrame where each column represents a\n",
    "        disaggregated appliance.  Column names are the integer index\n",
    "        into `self.model` for the appliance in question.\n",
    "    \"\"\"\n",
    "    '''if not self.model:\n",
    "        raise RuntimeError(\n",
    "            \"The model needs to be instantiated before\"\n",
    "            \" calling `disaggregate`.  The model\"\n",
    "            \" can be instantiated by running `train`.\")'''\n",
    "\n",
    "    print(\"...............CO disaggregate_chunk running.............\")\n",
    "\n",
    "    # sklearn produces lots of DepreciationWarnings with PyTables\n",
    "    import warnings\n",
    "    warnings.filterwarnings(\"ignore\", category=DeprecationWarning)\n",
    "\n",
    "\n",
    "    # Call set state combination\n",
    "    state_combinations = None\n",
    "    combinations = _set_state_combinations_if_necessary(state_combinations)\n",
    "    \n",
    "    print(\"\\nCombinations: \\n\", combinations)\n",
    "    \n",
    "    # Sum the combination of states\n",
    "    summed_power_of_each_combination = np.sum(combinations, axis=1)\n",
    "    print(\"\\nSum of each combination: \\n\", summed_power_of_each_combination)\n",
    "    # value is the total power demand for each combination of states.\n",
    "\n",
    "    # Start disaggregation\n",
    "\n",
    "    test_prediction_list = []\n",
    "\n",
    "    for test_df in mains:\n",
    "\n",
    "        appliance_powers_dict = {}\n",
    "        \n",
    "        # Find nearest\n",
    "        indices_of_state_combinations, residual_power = find_nearest(\n",
    "            summed_power_of_each_combination, test_df.values)\n",
    "        \n",
    "\n",
    "\n",
    "        for i, model in enumerate(obj_co.model):\n",
    "            print(\"\\nEstimating power demand for '{}'\"\n",
    "                    .format(model['appliance_name']))\n",
    "            predicted_power = combinations[\n",
    "                indices_of_state_combinations, i].flatten()\n",
    "            print(\"Predicted_power: \\n\", predicted_power)\n",
    "            column = pd.Series(\n",
    "                predicted_power, index=test_df.index, name=i)\n",
    "            appliance_powers_dict[obj_co.model[i]['appliance_name']] = column\n",
    "\n",
    "        appliance_powers = pd.DataFrame(\n",
    "            appliance_powers_dict, dtype='float32')\n",
    "        test_prediction_list.append(appliance_powers)\n",
    "\n",
    "    return test_prediction_list"
   ]
  },
  {
   "cell_type": "markdown",
   "id": "1f269c29",
   "metadata": {},
   "source": [
    "### Set State Combination function"
   ]
  },
  {
   "cell_type": "code",
   "execution_count": 22,
   "id": "570e0624",
   "metadata": {
    "code_folding": [
     0
    ]
   },
   "outputs": [],
   "source": [
    "def _set_state_combinations_if_necessary(state_combinations):\n",
    "    \"\"\"Get centroids\"\"\"\n",
    "    # If we import sklearn at the top of the file then auto doc fails.\n",
    "    if (state_combinations is None or\n",
    "            state_combinations.shape[1] != len(model)):\n",
    "        from sklearn.utils.extmath import cartesian\n",
    "        centroids = [model['states'] for model in model]\n",
    "        print(\"centroids ...\",centroids)\n",
    "        state_combinations = cartesian(centroids)\n",
    "    return state_combinations"
   ]
  },
  {
   "cell_type": "markdown",
   "id": "a8c5378d",
   "metadata": {},
   "source": [
    "## Generate prediction/disaggregation"
   ]
  },
  {
   "cell_type": "code",
   "execution_count": 23,
   "id": "ebdd7c20",
   "metadata": {
    "scrolled": false
   },
   "outputs": [
    {
     "name": "stdout",
     "output_type": "stream",
     "text": [
      "Generating predictions for : CO\n",
      "...............CO disaggregate_chunk running.............\n",
      "centroids ... [array([   0,  810, 2192], dtype=int32), array([   0,  607, 1977], dtype=int32)]\n",
      "\n",
      "Combinations: \n",
      " [[   0    0]\n",
      " [   0  607]\n",
      " [   0 1977]\n",
      " [ 810    0]\n",
      " [ 810  607]\n",
      " [ 810 1977]\n",
      " [2192    0]\n",
      " [2192  607]\n",
      " [2192 1977]]\n",
      "\n",
      "Sum of each combination: \n",
      " [   0  607 1977  810 1417 2787 2192 2799 4169]\n",
      "\n",
      "Estimating power demand for 'kettle'\n",
      "Predicted_power: \n",
      " [   0    0    0    0    0    0    0    0    0    0    0    0    0    0\n",
      "    0    0    0    0    0    0    0    0    0    0    0    0    0    0\n",
      "    0    0    0    0    0    0    0    0    0    0    0    0    0    0\n",
      "    0    0    0    0    0    0    0    0    0    0    0    0    0    0\n",
      "    0    0    0    0    0    0    0    0    0    0    0    0    0    0\n",
      "    0    0    0    0    0    0    0    0    0    0    0    0    0    0\n",
      "    0    0    0    0    0    0    0  810 2192 2192 2192 2192 2192 2192\n",
      " 2192 2192 2192 2192 2192 2192 2192 2192 2192 2192 2192 2192 2192 2192\n",
      " 2192 2192 2192 2192 2192 2192 2192 2192 2192 2192 2192 2192 2192 2192\n",
      " 2192 2192 2192 2192 2192 2192 2192 2192 2192 2192 2192 2192 2192 2192\n",
      " 2192 2192 2192 2192 2192 2192 2192 2192 2192 2192 2192 2192 2192 2192\n",
      " 2192 2192 2192 2192 2192 2192 2192 2192 2192 2192 2192 2192 2192 2192\n",
      " 2192 2192 2192 2192 2192 2192 2192 2192 2192 2192 2192 2192 2192 2192\n",
      " 2192 2192 2192 2192 2192 2192 2192 2192 2192 2192 2192 2192 2192 2192\n",
      " 2192 2192 2192 2192 2192 2192 2192 2192 2192 2192 2192 2192 2192 2192\n",
      " 2192 2192 2192 2192 2192 2192 2192 2192 2192 2192 2192 2192 2192 2192\n",
      " 2192 2192 2192 2192 2192 2192 2192 2192 2192 2192 2192 2192 2192 2192\n",
      " 2192 2192 2192 2192 2192 2192 2192 2192 2192 2192 2192 2192 2192 2192\n",
      " 2192 2192 2192 2192 2192 2192 2192 2192 2192 2192 2192 2192 2192 2192\n",
      " 2192 2192 2192 2192 2192 2192 2192 2192 2192 2192 2192 2192 2192 2192\n",
      " 2192 2192 2192 2192 2192 2192 2192 2192 2192 2192 2192 2192 2192 2192\n",
      " 2192 2192 2192 2192 2192 2192 2192 2192 2192 2192 2192 2192 2192 2192\n",
      " 2192 2192 2192 2192 2192 2192 2192 2192 2192 2192 2192 2192 2192 2192\n",
      " 2192 2192 2192 2192 2192 2192 2192 2192 2192 2192 2192 2192 2192 2192\n",
      " 2192 2192 2192 2192 2192 2192 2192 2192 2192 2192 2192 2192 2192 2192\n",
      " 2192 2192 2192 2192 2192 2192 2192 2192 2192 2192 2192 2192 2192 2192\n",
      " 2192 2192 2192 2192 2192 2192 2192]\n",
      "\n",
      "Estimating power demand for 'vacuum'\n",
      "Predicted_power: \n",
      " [   0    0    0    0    0    0    0    0    0    0    0    0    0    0\n",
      "    0    0    0    0    0    0    0    0    0    0    0    0    0    0\n",
      "    0    0    0    0    0    0    0    0    0    0    0    0    0    0\n",
      "    0    0    0    0    0    0    0    0    0    0    0    0    0    0\n",
      "    0    0    0    0    0    0    0    0    0    0    0    0    0    0\n",
      "    0    0    0    0    0    0    0    0    0    0    0    0    0    0\n",
      "    0    0    0    0    0    0    0    0    0    0    0    0    0    0\n",
      "    0    0    0    0    0    0    0    0    0    0    0    0    0    0\n",
      "    0    0    0    0    0    0    0    0    0    0    0    0    0    0\n",
      "    0    0    0    0    0    0 1977 1977 1977 1977 1977 1977 1977 1977\n",
      " 1977 1977 1977 1977 1977 1977 1977 1977 1977 1977 1977 1977 1977 1977\n",
      " 1977 1977 1977 1977 1977 1977 1977 1977 1977 1977 1977 1977 1977 1977\n",
      " 1977 1977 1977 1977 1977 1977 1977 1977 1977 1977 1977 1977 1977 1977\n",
      " 1977 1977 1977 1977 1977 1977 1977 1977 1977 1977 1977 1977 1977 1977\n",
      " 1977 1977 1977 1977 1977 1977 1977 1977 1977 1977 1977 1977 1977 1977\n",
      " 1977 1977 1977 1977 1977 1977 1977 1977 1977 1977 1977 1977 1977 1977\n",
      " 1977 1977 1977 1977 1977 1977 1977 1977 1977 1977 1977 1977 1977 1977\n",
      " 1977 1977 1977 1977 1977 1977 1977 1977 1977 1977 1977 1977 1977 1977\n",
      " 1977 1977 1977 1977 1977 1977 1977 1977 1977 1977 1977 1977 1977 1977\n",
      " 1977 1977 1977 1977 1977 1977 1977 1977 1977 1977 1977 1977 1977 1977\n",
      " 1977 1977 1977 1977 1977 1977 1977 1977 1977 1977 1977 1977 1977  607\n",
      "    0    0    0    0    0    0    0    0    0    0    0    0    0    0\n",
      "    0    0    0    0    0    0    0    0    0    0    0    0    0    0\n",
      "    0    0    0    0    0    0    0    0    0    0    0    0    0    0\n",
      "    0    0    0    0    0    0    0    0    0    0    0    0    0    0\n",
      "    0    0    0    0    0    0    0    0    0    0    0    0    0    0\n",
      "    0    0    0    0    0    0    0]\n",
      "---Runtime: 0.006506443023681641 seconds ---\n"
     ]
    }
   ],
   "source": [
    "start_time = time.time()\n",
    "# Call predict function\n",
    "gt_overall,pred_overall=predict(test_mains,test_submeters)\n",
    "print(\"---Runtime: %s seconds ---\" % (time.time() - start_time))"
   ]
  },
  {
   "cell_type": "markdown",
   "id": "fec47361",
   "metadata": {},
   "source": [
    "# Data visualization\n",
    "To compare the ground truth vs predicted appliance loads"
   ]
  },
  {
   "cell_type": "markdown",
   "id": "ec22c083",
   "metadata": {},
   "source": [
    "## Ground Truth"
   ]
  },
  {
   "cell_type": "code",
   "execution_count": 24,
   "id": "7370a333",
   "metadata": {
    "code_folding": [
     0
    ]
   },
   "outputs": [],
   "source": [
    "# Get steady state points to plot\n",
    "x=gt_overall.index\n",
    "ke_val_gt = gt_overall['kettle'].values\n",
    "vac_val_gt = gt_overall['vacuum'].values\n",
    "\n",
    "# Kettle steady state point\n",
    "ke_ss = gt_overall.iloc[100]['kettle']\n",
    "x_ke = np.where(ke_val_gt==ke_ss)\n",
    "x_ke = x[x_ke]\n",
    "\n",
    "# Vacuum steady state point\n",
    "vac_ss = gt_overall.iloc[150]['vacuum']\n",
    "x_vac = np.where(vac_val_gt==vac_ss)\n",
    "x_vac = x[x_vac]"
   ]
  },
  {
   "cell_type": "code",
   "execution_count": 25,
   "id": "29d9b96e",
   "metadata": {
    "code_folding": [
     0
    ],
    "scrolled": false
   },
   "outputs": [
    {
     "data": {
      "text/plain": [
       "Text(5, 10, '1883.42')"
      ]
     },
     "execution_count": 25,
     "metadata": {},
     "output_type": "execute_result"
    },
    {
     "data": {
      "image/png": "[encoded data removed]",
      "text/plain": [
       "<Figure size 1080x720 with 1 Axes>"
      ]
     },
     "metadata": {
      "needs_background": "light"
     },
     "output_type": "display_data"
    }
   ],
   "source": [
    "# Plot GT \n",
    "gt_vac = plt.plot(gt_overall.index, gt_overall['vacuum'], label = 'Vacuum')\n",
    "gt_ke = plt.plot(gt_overall.index, gt_overall['kettle'], label = 'Kettle')\n",
    "point1 = plt.plot(x_ke[0],ke_ss,marker=\"*\",markersize=15)\n",
    "point2 = plt.plot(x_vac[0],vac_ss,marker=\"*\",markersize=15)\n",
    "\n",
    "plt.title(\"Appliance Ground Truth Plot\")\n",
    "plt.legend()\n",
    "plt.ylabel(\"Active Power (W)\")\n",
    "plt.xlabel(\"Timestamp\")\n",
    "\n",
    "# annotate kettle point\n",
    "plt.annotate(\n",
    "        ke_ss, \n",
    "        xy = (x_ke[0], ke_ss), xytext = (-5, 10),\n",
    "        textcoords = 'offset points', ha = 'right', va = 'bottom',\n",
    "        bbox = dict(boxstyle = 'round,pad=0.5', fc = 'yellow', alpha = 0.5))\n",
    "# annotate vacuum point\n",
    "plt.annotate(\n",
    "        vac_ss, \n",
    "        xy = (x_vac[0], vac_ss), xytext = (5, 10),\n",
    "        textcoords = 'offset points', ha = 'left', va = 'bottom',\n",
    "        bbox = dict(boxstyle = 'round,pad=0.5', fc = 'yellow', alpha = 0.5))"
   ]
  },
  {
   "cell_type": "markdown",
   "id": "218088a9",
   "metadata": {},
   "source": [
    "## Predicted\n",
    "- Plot out the disaggregated 'appliances' output to visualize the predicted disaggregated loads"
   ]
  },
  {
   "cell_type": "code",
   "execution_count": 26,
   "id": "a33395df",
   "metadata": {
    "code_folding": [
     0
    ]
   },
   "outputs": [],
   "source": [
    "# Get steady state points to plot\n",
    "x=pred_overall.index\n",
    "ke_val = pred_overall['kettle'].values\n",
    "vac_val = pred_overall['vacuum'].values\n",
    "\n",
    "# Kettle steady state point\n",
    "ke_ss = pred_overall.iloc[100]['kettle']\n",
    "x_ke = np.where(ke_val==ke_ss)\n",
    "x_ke = x[x_ke]\n",
    "\n",
    "# Vacuum steady state point\n",
    "vac_ss = pred_overall.iloc[150]['vacuum']\n",
    "x_vac = np.where(vac_val==vac_ss)\n",
    "x_vac = x[x_vac]"
   ]
  },
  {
   "cell_type": "code",
   "execution_count": 27,
   "id": "98de7226",
   "metadata": {
    "code_folding": [
     0
    ],
    "scrolled": false
   },
   "outputs": [
    {
     "data": {
      "text/plain": [
       "Text(5, 10, '1977.0')"
      ]
     },
     "execution_count": 27,
     "metadata": {},
     "output_type": "execute_result"
    },
    {
     "data": {
      "image/png": "[encoded data removed]",
      "text/plain": [
       "<Figure size 1080x720 with 1 Axes>"
      ]
     },
     "metadata": {
      "needs_background": "light"
     },
     "output_type": "display_data"
    }
   ],
   "source": [
    "# Plot Predicted \n",
    "pred_vac = plt.plot(pred_overall.index, pred_overall['vacuum'], label = 'Vacuum')\n",
    "pred_ke = plt.plot(pred_overall.index, pred_overall['kettle'], label = 'Kettle')\n",
    "point1 = plt.plot(x_ke[0],ke_ss,marker=\"*\",markersize=15)\n",
    "point2 = plt.plot(x_vac[0],vac_ss,marker=\"*\",markersize=15)\n",
    "\n",
    "plt.title(\"Appliance Predicted Plot\")\n",
    "plt.legend(loc=1)\n",
    "plt.ylabel(\"Active Power (W)\")\n",
    "plt.xlabel(\"Timestamp\")\n",
    "\n",
    "# annotate kettle point\n",
    "plt.annotate(\n",
    "        ke_ss, \n",
    "        xy = (x_ke[0], ke_ss), xytext = (-5, 10),\n",
    "        textcoords = 'offset points', ha = 'right', va = 'bottom',\n",
    "        bbox = dict(boxstyle = 'round,pad=0.5', fc = 'yellow', alpha = 0.5))\n",
    "# annotate vacuum point\n",
    "plt.annotate(\n",
    "        vac_ss, \n",
    "        xy = (x_vac[0], vac_ss), xytext = (5, 10),\n",
    "        textcoords = 'offset points', ha = 'left', va = 'bottom',\n",
    "        bbox = dict(boxstyle = 'round,pad=0.5', fc = 'yellow', alpha = 0.5))"
   ]
  },
  {
   "cell_type": "markdown",
   "id": "2ace3e37",
   "metadata": {},
   "source": [
    "##  Ground vs Predicted"
   ]
  },
  {
   "cell_type": "code",
   "execution_count": 28,
   "id": "17180bca",
   "metadata": {
    "code_folding": [
     0
    ]
   },
   "outputs": [
    {
     "data": {
      "text/plain": [
       "<Figure size 640x480 with 0 Axes>"
      ]
     },
     "execution_count": 28,
     "metadata": {},
     "output_type": "execute_result"
    },
    {
     "data": {
      "image/png": "[encoded data removed]",
      "text/plain": [
       "<Figure size 1080x720 with 1 Axes>"
      ]
     },
     "metadata": {
      "needs_background": "light"
     },
     "output_type": "display_data"
    },
    {
     "data": {
      "text/plain": [
       "<Figure size 640x480 with 0 Axes>"
      ]
     },
     "metadata": {},
     "output_type": "display_data"
    }
   ],
   "source": [
    "# plot kettle gt against pred\n",
    "gt_ke = plt.plot(gt_overall.index, gt_overall['kettle'], label = 'Ground truth', color = 'g')\n",
    "pred_ke = plt.plot(pred_overall.index, pred_overall['kettle'], label = 'Predicted', color = 'm')\n",
    "\n",
    "#plt.rcParams['figure.figsize'] = [1, 2]\n",
    "#plt.figure(figsize=(8, 6), dpi=80)\n",
    "\n",
    "plt.title(\"Kettle Gt vs Pred Plot\")\n",
    "plt.legend(loc=2)\n",
    "plt.ylabel(\"Active Power (W)\")\n",
    "plt.xlabel(\"Timestamp\")\n",
    "plt.yticks(np.arange(0, 3000, 1000))\n",
    "plt.xticks(rotation = 45)\n",
    "plt.figure(figsize=(8, 6), dpi=80)"
   ]
  },
  {
   "cell_type": "code",
   "execution_count": 29,
   "id": "5b8942a1",
   "metadata": {
    "code_folding": [
     0
    ]
   },
   "outputs": [
    {
     "data": {
      "text/plain": [
       "<Figure size 640x320 with 0 Axes>"
      ]
     },
     "execution_count": 29,
     "metadata": {},
     "output_type": "execute_result"
    },
    {
     "data": {
      "image/png": "[encoded data removed]",
      "text/plain": [
       "<Figure size 1080x720 with 1 Axes>"
      ]
     },
     "metadata": {
      "needs_background": "light"
     },
     "output_type": "display_data"
    },
    {
     "data": {
      "text/plain": [
       "<Figure size 640x320 with 0 Axes>"
      ]
     },
     "metadata": {},
     "output_type": "display_data"
    }
   ],
   "source": [
    "# plot vacuum gt against pred\n",
    "gt_vac = plt.plot(gt_overall.index, gt_overall['vacuum'], label = 'Ground Truth', color = 'y')\n",
    "pred_vac = plt.plot(pred_overall.index, pred_overall['vacuum'], label = 'Predicted', color = 'b')\n",
    "\n",
    "#plt.rcParams['figure.figsize'] = [10, 6]\n",
    "\n",
    "\n",
    "plt.title(\"Vacuum Gt vs Pred Plot\")\n",
    "plt.legend(loc=2)\n",
    "plt.ylabel(\"Active Power (W)\")\n",
    "plt.xlabel(\"Timestamp\")\n",
    "plt.yticks(np.arange(0, 3000, 1000))\n",
    "plt.xticks(rotation = 45)\n",
    "plt.figure(figsize=(8, 4), dpi=80)\n",
    "#plt.show()"
   ]
  },
  {
   "cell_type": "markdown",
   "id": "a32457d5",
   "metadata": {},
   "source": [
    "# Evaluation Metrics\n",
    "- Evaluations metrics are used to evaluate how well the prediction is done by the trained model.\n",
    "- The predicted disaggregated load(s) are evaluated using a few evaluation metrics for regression loss:\n",
    "    1. **MSE**\n",
    "    2. **RMSE**\n",
    "    3. **MAE**\n",
    "    4. **MAPE**\n",
    "- Computed results shows the error/loss values of predicted to ground truth\n",
    "    - The pair with the least loss is considered the closest prediction or the more accurate prediction to ground truth\n",
    "    \n",
    "1. **Mean Squared Error (MSE)**\n",
    "    - The mean squared error (MSE) tells you how close a regression line is to a set of points. It does this by taking the distances from the points to the regression line (these distances are the “errors”) and squaring them. It’s called the mean squared error as you’re finding the average of a set of errors. The lower the MSE, the better the prediction.\n",
    "     \n",
    "2. **Root Mean Squared Error (RMSE)**\n",
    "    - Root Mean Square Error (RMSE) is the standard deviation of the residuals (prediction errors). Residuals are a measure of how far from the regression line data points are; RMSE is a measure of how spread out these residuals are. In other words, it tells you how concentrated the data is around the line of best fit.\n",
    "    \n",
    "3. **Mean absolute error (MAE)**\n",
    "    - Computes the mean of squares of errors between labeled data and predicted data. It calculates the absolute difference between the current output and the expected output divided by the number of output.\n",
    "    \n",
    "4. **Mean absolute percentage error (MAPE)**\n",
    "    - is a measure of prediction accuracy of a forecasting method in statistics. It measures this accuracy as a percentage, and can be calculated as the average absolute percent error for each time period minus actual values divided by actual values."
   ]
  },
  {
   "cell_type": "code",
   "execution_count": 30,
   "id": "eadad726",
   "metadata": {
    "code_folding": [
     0
    ]
   },
   "outputs": [],
   "source": [
    "def rmse(gt,pred):\n",
    "    val = np.sqrt(mean_squared_error(gt,pred))\n",
    "    return val"
   ]
  },
  {
   "cell_type": "code",
   "execution_count": 31,
   "id": "5e90535b",
   "metadata": {},
   "outputs": [
    {
     "name": "stdout",
     "output_type": "stream",
     "text": [
      "............  MSE  ..............\n",
      "kettle  2401.993164\n",
      "vacuum  7679.655762\n",
      "\n",
      "\n",
      "............  RMSE  ..............\n",
      "kettle  49.010132\n",
      "vacuum  87.633644\n",
      "\n",
      "\n",
      "............  MAE  ..............\n",
      "kettle  41.398705\n",
      "vacuum  50.706684\n",
      "\n",
      "\n",
      "............  MAPE  ..............\n",
      "kettle  0.019532\n",
      "vacuum  0.032748\n",
      "\n",
      "\n"
     ]
    }
   ],
   "source": [
    "metrics = [mean_squared_error, rmse, mean_absolute_error, mean_absolute_percentage_error]\n",
    "metrics_label = ['MSE','RMSE' ,'MAE', 'MAPE']\n",
    "\n",
    "for metric,lbl in zip(metrics,metrics_label):\n",
    "    try:\n",
    "        loss_function = metric\n",
    "    except:\n",
    "        print (\"Loss function \",metric, \" is not supported currently!\")\n",
    "        continue\n",
    "\n",
    "    error = {}\n",
    "    for app_name in gt_overall.columns:\n",
    "        error[app_name] = loss_function(gt_overall[app_name],pred_overall[app_name])\n",
    "    \n",
    "    error = pd.Series(error)\n",
    "    computed_metric = pd.DataFrame(error)\n",
    "    print(\"............ \" ,lbl,\" ..............\")\n",
    "    print(computed_metric.to_string(header=False))\n",
    "    print(\"\\n\")"
   ]
  },
  {
   "cell_type": "markdown",
   "id": "cc5a2c53",
   "metadata": {},
   "source": [
    "# Conclusion\n",
    "- Train: kettle+vacuum - 8 min data\n",
    "- Test & disaggregate : kettle+vacuum 6 mins data\n",
    "\n",
    "1. Able to detect the appliances correctly\n",
    "2. Able to disaggregate kettle and vacuum load well\n",
    "- Expected: Able to classify the appliances properly\n",
    "- Result: Able to show the kettle and vacuum loads quite closely"
   ]
  },
  {
   "cell_type": "code",
   "execution_count": null,
   "id": "be230c44",
   "metadata": {},
   "outputs": [],
   "source": []
  }
 ],
 "metadata": {
  "kernelspec": {
   "display_name": "Python [conda env:nilmtk-env] *",
   "language": "python",
   "name": "conda-env-nilmtk-env-py"
  },
  "language_info": {
   "codemirror_mode": {
    "name": "ipython",
    "version": 3
   },
   "file_extension": ".py",
   "mimetype": "text/x-python",
   "name": "python",
   "nbconvert_exporter": "python",
   "pygments_lexer": "ipython3",
   "version": "3.7.12"
  },
  "toc": {
   "base_numbering": 1,
   "nav_menu": {},
   "number_sections": true,
   "sideBar": true,
   "skip_h1_title": false,
   "title_cell": "Table of Contents",
   "title_sidebar": "Contents",
   "toc_cell": false,
   "toc_position": {},
   "toc_section_display": true,
   "toc_window_display": true
  }
 },
 "nbformat": 4,
 "nbformat_minor": 5
}
