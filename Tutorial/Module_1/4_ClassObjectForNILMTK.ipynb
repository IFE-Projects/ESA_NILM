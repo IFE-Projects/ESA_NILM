{
 "cells": [
  {
   "cell_type": "markdown",
   "id": "969fb45e",
   "metadata": {
    "heading_collapsed": true
   },
   "source": [
    "# NILTMTK Class\n",
    "\n",
    "NILMTK classes provide a means of bundling data and functioality together.  Creating a new class creates a new *type* of object, allowing new instances of that type to be made.   There are **MeterGroup**, **ElecMeter**, **Dataset** and other classes.  The ***Electric*** class is a common implementations of methods shared by ElectMeter and MeterGroup.   More detail UML (Unified Modeling Language) diagram can find [here](https://raw.githubusercontent.com/nilmtk/writing/master/figures/NILMTK_UML.png).\n",
    "\n",
    "- Created Date : 18/4/2022\n",
    "- Updated Date : 15/5/2022\n",
    "\n",
    "**References:**\n",
    "- J. Kelly and W. Knottenbelt, “[The UK-DALE dataset, domestic appliance-level electricity demand and whole-house demand from five UK homes](http://www.nature.com/articles/sdata20157)” Scientific Data, vol. 2, no. 1, p. 150007, Dec. 2015, doi: 10.1038/sdata.2015.7.\n",
    "- [See metadata : dict](http://nilm-metadata.readthedocs.org/en/latest/dataset_metadata.html#elecmeter)\n",
    "- [See meter_devices : dict, static class attribute](http://nilm-metadata.readthedocs.org/en/latest/dataset_metadata.html#meterdevice)\n",
    "- [NILMTK's API Documentation](http://nilmtk.github.io/nilmtk/master/index.html)\n",
    "- [NILMTK Documentation](https://github.com/nilmtk/nilmtk/tree/master/docs/manual)"
   ]
  },
  {
   "cell_type": "markdown",
   "id": "281b7554",
   "metadata": {
    "heading_collapsed": true
   },
   "source": [
    "# Initialization for Python and NILMTK\n",
    "\n",
    "Let's kick-off to process and analysis the data with Python."
   ]
  },
  {
   "cell_type": "code",
   "execution_count": null,
   "id": "e7d00c67",
   "metadata": {
    "hidden": true
   },
   "outputs": [],
   "source": [
    "import dateutil\n",
    "import warnings\n",
    "\n",
    "import matplotlib.pyplot as plt\n",
    "import numpy as np\n",
    "import pandas as pd\n",
    "\n",
    "from datetime import datetime\n",
    "\n",
    "import nilmtk as ntk\n",
    "import util as ut"
   ]
  },
  {
   "cell_type": "markdown",
   "id": "b30e675f",
   "metadata": {
    "heading_collapsed": true,
    "hidden": true
   },
   "source": [
    "## Define constant and global variable"
   ]
  },
  {
   "cell_type": "code",
   "execution_count": null,
   "id": "9238ce1a",
   "metadata": {
    "hidden": true
   },
   "outputs": [],
   "source": [
    "warnings.filterwarnings(\"ignore\")\n",
    "plt.rcParams['figure.figsize'] = [15, 10]\n",
    "\n",
    "RAW_FILENAME = \"../Dataset/ukdale.h5\"\n",
    "\n",
    "START_TS ='2013-08-01 00:00:00'\n",
    "END_TS='2013-08-31 23:59:59'\n",
    "\n",
    "HOUSE_NUMBER = 1"
   ]
  },
  {
   "cell_type": "markdown",
   "id": "2fcef91e",
   "metadata": {
    "heading_collapsed": true
   },
   "source": [
    "# NILMTK - Class Objects\n",
    "\n",
    "These objects consist of **Dataset**, **MetaGroup**, **MeterGroup** and **ElecMeter**."
   ]
  },
  {
   "cell_type": "markdown",
   "id": "c8e79fc0",
   "metadata": {
    "heading_collapsed": true,
    "hidden": true
   },
   "source": [
    "## Create Dataset object \n",
    "\n",
    "This section initializes and create a Dataset object from nilmtk.dataset.DataSet"
   ]
  },
  {
   "cell_type": "code",
   "execution_count": null,
   "id": "0c80b218",
   "metadata": {
    "hidden": true
   },
   "outputs": [],
   "source": [
    "# Create Dataset object for UK-DALE\n",
    "ukdale_ds = ntk.DataSet(RAW_FILENAME)\n",
    "\n",
    "# Set the duration window from START_TS to END_TS\n",
    "ukdale_ds.set_window(start=START_TS,end=END_TS)"
   ]
  },
  {
   "cell_type": "code",
   "execution_count": null,
   "id": "cc6de620",
   "metadata": {
    "hidden": true
   },
   "outputs": [],
   "source": [
    "type(ukdale_ds)"
   ]
  },
  {
   "cell_type": "code",
   "execution_count": null,
   "id": "fdfad1c5",
   "metadata": {
    "hidden": true
   },
   "outputs": [],
   "source": [
    "# Return MetaGroup information for all buildings\n",
    "\n",
    "ukdale_ds.elecs()\n",
    "\n",
    "#\n",
    "# Following APIs do not work\n",
    "#\n",
    "#ukdale_ds.describe()\n",
    "#ukdale_ds.plot_mains_power_histograms()"
   ]
  },
  {
   "cell_type": "markdown",
   "id": "46000a18",
   "metadata": {
    "heading_collapsed": true,
    "hidden": true
   },
   "source": [
    "## Create MetaGroup object for House Data \n",
    "\n",
    "This section initializes and create a House Data MetaGroup object from nilmtk.metergroup.MeterGroup"
   ]
  },
  {
   "cell_type": "code",
   "execution_count": null,
   "id": "2d174513",
   "metadata": {
    "hidden": true
   },
   "outputs": [],
   "source": [
    "# Create object for house_data and\n",
    "# using global variable \"HOUSE_NUMBER\"\n",
    "#\n",
    "house_data = ukdale_ds.buildings[HOUSE_NUMBER].elec\n",
    "\n",
    "type(house_data)"
   ]
  },
  {
   "cell_type": "markdown",
   "id": "653d30f8",
   "metadata": {
    "hidden": true
   },
   "source": [
    "### Access MetaGroup for the brief high-level information"
   ]
  },
  {
   "cell_type": "code",
   "execution_count": null,
   "id": "cff6c611",
   "metadata": {
    "hidden": true
   },
   "outputs": [],
   "source": [
    "print(\"Raw File at {}\\n\".format(RAW_FILENAME))\n",
    "\n",
    "# Calling APIs function from custom python file\n",
    "# Refer to \"util.py\" for the custom utility python function file\n",
    "print(\"Select Timeframe\")\n",
    "ut.print_info_duration(START_TS, END_TS, \"%Y-%m-%d %H:%M:%S\")\n",
    "\n",
    "print(\"\\nThere are {} house/buildling with total of appliances.\\n\".format(len(ukdale_ds.buildings)))\n",
    "for item in ukdale_ds.buildings:\n",
    "    print(\"House {}, total appliances = {}.\".format(item, len(ukdale_ds.buildings[item].elec.appliances)))\n",
    "    print(\"Total Energy returns in 'kWh'\")\n",
    "    \n",
    "    # Call utilility function from util.py\n",
    "    ut.print_total_energy(ukdale_ds.buildings[item].elec.mains().total_energy())\n",
    "    \n",
    "    print(\"\\n\")"
   ]
  },
  {
   "cell_type": "markdown",
   "id": "7d8b7075",
   "metadata": {
    "hidden": true
   },
   "source": [
    "### Show house_data 1 of MeterGroup object\n",
    "\n",
    "The collection of MeterGroup consists two main categories, **'appliances'** vs **'site_meter'**.  The **instance 54** for **house 1** consist various of appliances in the **'site_meter'**.\n",
    "\n",
    "\n",
    "```\n",
    "MeterGroup(meters=\n",
    "...\n",
    "     ElecMeter(instance=54, building=1, dataset='UK-DALE', site_meter, \n",
    "         appliances=[\n",
    "           Appliance(type='immersion heater', instance=1), \n",
    "           Appliance(type='water pump', instance=1), \n",
    "           Appliance(type='security alarm', instance=1), \n",
    "           Appliance(type='fan', instance=2), \n",
    "           Appliance(type='drill', instance=1), \n",
    "           Appliance(type='laptop computer', instance=2)\n",
    "         ]\n",
    "     )\n",
    ")```"
   ]
  },
  {
   "cell_type": "code",
   "execution_count": null,
   "id": "1f9ff31b",
   "metadata": {
    "hidden": true
   },
   "outputs": [],
   "source": [
    "house_data"
   ]
  },
  {
   "cell_type": "code",
   "execution_count": null,
   "id": "0c91dcc6",
   "metadata": {
    "hidden": true
   },
   "outputs": [],
   "source": [
    "#\n",
    "# Functions can be found at metergroup.py\n",
    "#\n",
    "\n",
    "#print(house_data.pairwise_correlation())\n",
    "print(house_data.is_site_meter())\n",
    "print(house_data.sample_period())\n",
    "print(house_data.dataset())\n",
    "\n",
    "#\n",
    "# Property of identifier\n",
    "#\n",
    "print(type(house_data.identifier))\n",
    "\n",
    "print(type(house_data.instance()))\n",
    "print(type(house_data.building()))\n",
    "print(type(house_data.contains_meters_from_multiple_buildings()))\n",
    "\n",
    "#\n",
    "# Property of appliances\n",
    "#\n",
    "print(type(house_data.appliances))\n",
    "print(type(house_data.dominant_appliances()))\n",
    "\n",
    "# Specifies the key, which in string, like 'type' or 'categories' or 'room'\n",
    "print(type(house_data.values_for_appliance_metadata_key('type')))\n",
    "\n",
    "# Specifies MeterID in list for 3-tuples format\n",
    "print(type(house_data.get_labels([(5, 1, 'UK-DALE')])))"
   ]
  },
  {
   "cell_type": "markdown",
   "id": "adf0a2c6",
   "metadata": {
    "heading_collapsed": true,
    "hidden": true
   },
   "source": [
    "## Work on Site Meter object for Mains\n",
    "\n",
    "This section initializes and create a mains ElecMeter object from nilmtk.elecmeter.ElecMeter"
   ]
  },
  {
   "cell_type": "code",
   "execution_count": null,
   "id": "65e792f9",
   "metadata": {
    "hidden": true
   },
   "outputs": [],
   "source": [
    "# Create a 'mains' variable\n",
    "mains = house_data.mains()\n",
    "\n",
    "print(\"Data Type of submeters is {}.\".format(type(mains)))\n",
    "print(\"Properties submeters of available_ac_types is {}.\\n\".format(mains.available_ac_types('power')))\n",
    "\n",
    "mains"
   ]
  },
  {
   "cell_type": "markdown",
   "id": "e4dec77d",
   "metadata": {
    "hidden": true
   },
   "source": [
    "### Properties of ElecMeter Class"
   ]
  },
  {
   "cell_type": "code",
   "execution_count": null,
   "id": "897a5683",
   "metadata": {
    "hidden": true
   },
   "outputs": [],
   "source": [
    "print(\"Property of key is {}\".format(mains.key))\n",
    "print(\"Property of name is {}\".format(mains.name))\n",
    "print(\"Property of device is {}\\n\".format(mains.device))"
   ]
  },
  {
   "cell_type": "markdown",
   "id": "2e59416c",
   "metadata": {
    "hidden": true
   },
   "source": [
    "### Functions of ElecMeter Class"
   ]
  },
  {
   "cell_type": "code",
   "execution_count": null,
   "id": "272cf2ea",
   "metadata": {
    "hidden": true
   },
   "outputs": [],
   "source": [
    "print(\"Function of get_timeframe() is {}\".format(mains.get_timeframe()))\n",
    "print(\"Function of sample_period() is {}\".format(mains.sample_period()))\n",
    "print(\"Function of is_site_meter() is {}\".format(mains.is_site_meter()))"
   ]
  },
  {
   "cell_type": "code",
   "execution_count": null,
   "id": "c258ae0e",
   "metadata": {
    "hidden": true
   },
   "outputs": [],
   "source": [
    "# Tries to find the most dominant appliance on this meter,\n",
    "# and then returns that appliance object.  Will return None\n",
    "# if there are no appliances on this meter.\n",
    "\n",
    "print(\"Function of dominant_appliance() is {}\".format(mains.dominant_appliance()))"
   ]
  },
  {
   "cell_type": "code",
   "execution_count": null,
   "id": "06044051",
   "metadata": {
    "hidden": true
   },
   "outputs": [],
   "source": [
    "# Returns a string describing this meter.\n",
    "\n",
    "mains.label()"
   ]
  },
  {
   "cell_type": "code",
   "execution_count": null,
   "id": "0cac1a7c",
   "metadata": {
    "hidden": true
   },
   "outputs": [],
   "source": [
    "#Finds available alternating current types for a specific physical quantity.\n",
    "\n",
    "mains.available_ac_types('power')"
   ]
  },
  {
   "cell_type": "code",
   "execution_count": null,
   "id": "ac946224",
   "metadata": {
    "hidden": true
   },
   "outputs": [],
   "source": [
    "mains.available_physical_quantities()"
   ]
  },
  {
   "cell_type": "code",
   "execution_count": null,
   "id": "ffb3c717",
   "metadata": {
    "hidden": true
   },
   "outputs": [],
   "source": [
    "mains.available_columns()"
   ]
  },
  {
   "cell_type": "code",
   "execution_count": null,
   "id": "e9694946",
   "metadata": {
    "hidden": true
   },
   "outputs": [],
   "source": [
    "mains.total_energy()"
   ]
  },
  {
   "cell_type": "code",
   "execution_count": null,
   "id": "831d1121",
   "metadata": {
    "hidden": true
   },
   "outputs": [],
   "source": [
    "# Note: Suspect this API not working correctly or data issue.\n",
    "mains.dropout_rate()"
   ]
  },
  {
   "cell_type": "code",
   "execution_count": null,
   "id": "5332a8d6",
   "metadata": {
    "hidden": true
   },
   "outputs": [],
   "source": [
    "print(\"Data Type of mains.good_sections() is {}\".format(type(mains.good_sections())))\n",
    "\n",
    "mains.good_sections()"
   ]
  },
  {
   "cell_type": "markdown",
   "id": "91349d0d",
   "metadata": {
    "hidden": true
   },
   "source": [
    "### Load data from \"mains\" and return dataframe from the DataStore"
   ]
  },
  {
   "cell_type": "code",
   "execution_count": null,
   "id": "31a3067c",
   "metadata": {
    "hidden": true
   },
   "outputs": [],
   "source": [
    "mains_df = next(mains.load(sample_period=6))\n",
    "\n",
    "print(\"Data Type of mains_df is {}.  Total rows = {}\".format(type(mains_df),len(mains_df)))"
   ]
  },
  {
   "cell_type": "code",
   "execution_count": null,
   "id": "a0fbc67e",
   "metadata": {
    "hidden": true
   },
   "outputs": [],
   "source": [
    "mains_df.describe()"
   ]
  },
  {
   "cell_type": "code",
   "execution_count": null,
   "id": "475bbfcb",
   "metadata": {
    "hidden": true
   },
   "outputs": [],
   "source": [
    "print(\"**Head**\\n{}\\n\\n**Tail**\\n{}\".format(mains_df.head(), mains_df.tail()))"
   ]
  },
  {
   "cell_type": "code",
   "execution_count": null,
   "id": "30e84480",
   "metadata": {
    "hidden": true
   },
   "outputs": [],
   "source": [
    "mains_df.plot()"
   ]
  },
  {
   "cell_type": "code",
   "execution_count": null,
   "id": "71f838c6",
   "metadata": {
    "hidden": true
   },
   "outputs": [],
   "source": [
    "mains_in_min_df = mains_df[\"2013-08-01\"].resample('1min').sum() * 10\n",
    "\n",
    "print(mains_in_min_df.shape)\n",
    "\n",
    "mains_in_min_df.describe()"
   ]
  },
  {
   "cell_type": "code",
   "execution_count": null,
   "id": "40cbb83d",
   "metadata": {
    "hidden": true
   },
   "outputs": [],
   "source": [
    "mains_in_min_df.head(24)"
   ]
  },
  {
   "cell_type": "code",
   "execution_count": null,
   "id": "1e8c63b3",
   "metadata": {
    "hidden": true
   },
   "outputs": [],
   "source": [
    "mains_in_min_df.plot()"
   ]
  },
  {
   "cell_type": "code",
   "execution_count": null,
   "id": "4a3b7b51",
   "metadata": {
    "hidden": true
   },
   "outputs": [],
   "source": [
    "mains_in_hour_df = mains_df[\"2013-08-01\"].resample('60min').sum() * 10\n",
    "mains_in_hour_df.head(24)"
   ]
  },
  {
   "cell_type": "code",
   "execution_count": null,
   "id": "3bff7028",
   "metadata": {
    "hidden": true
   },
   "outputs": [],
   "source": [
    "mytitle = \"Mains for a day at 2013-08-01\"\n",
    "\n",
    "ax = mains_in_hour_df.plot(title=mytitle,\n",
    "                        xticks=mains_in_hour_df.index, \n",
    "                        grid=True)\n",
    "\n",
    "# Settle x-axes label \n",
    "mains_in_hour_df[\"TS\"] = mains_in_hour_df.index.strftime('%H:%M:%S')\n",
    "ax.set_xticklabels(mains_in_hour_df.TS, rotation=45)\n",
    "\n",
    "ax.set_xlabel('Time in Hourly')\n",
    "ax.set_ylabel('Total Watt')"
   ]
  },
  {
   "cell_type": "markdown",
   "id": "9192a502",
   "metadata": {
    "heading_collapsed": true,
    "hidden": true
   },
   "source": [
    "## Work on \"Submeters\"\n",
    "\n",
    "This section initializes and create a Submeter ElecMeter object from nilmtk.metergroup.MeterGroup"
   ]
  },
  {
   "cell_type": "code",
   "execution_count": null,
   "id": "bfb76464",
   "metadata": {
    "hidden": true
   },
   "outputs": [],
   "source": [
    "# Create a 'submeter' variable return MetaGroup object\n",
    "submeters = house_data.submeters()\n",
    "\n",
    "print(\"Data Type of submeters is {}.\".format(type(submeters)))\n",
    "print(\"Properties submeters of available_ac_types is {}.\\n\".format(submeters.available_ac_types('power')))"
   ]
  },
  {
   "cell_type": "markdown",
   "id": "a7360fe5",
   "metadata": {
    "hidden": true
   },
   "source": [
    "### Show the MetaGroup's of submeters content"
   ]
  },
  {
   "cell_type": "code",
   "execution_count": null,
   "id": "26da41f4",
   "metadata": {
    "hidden": true
   },
   "outputs": [],
   "source": [
    "submeters"
   ]
  },
  {
   "cell_type": "markdown",
   "id": "4ec3a1fa",
   "metadata": {
    "hidden": true
   },
   "source": [
    "### Select an appliance from ElecMeter in MetaGroup - Washer Dryer "
   ]
  },
  {
   "cell_type": "code",
   "execution_count": null,
   "id": "3f04db33",
   "metadata": {
    "hidden": true
   },
   "outputs": [],
   "source": [
    "submeter_washer_dryer = house_data.select_using_appliances(type='washer dryer')\n",
    "\n",
    "print(type(submeter_washer_dryer))\n",
    "submeter_washer_dryer"
   ]
  },
  {
   "cell_type": "code",
   "execution_count": null,
   "id": "bb1da1a9",
   "metadata": {
    "hidden": true
   },
   "outputs": [],
   "source": [
    "submeter_washer_dryer_df = submeter_washer_dryer.dataframe_of_meters()\n",
    "submeter_washer_dryer_df.describe()"
   ]
  },
  {
   "cell_type": "code",
   "execution_count": null,
   "id": "5497ce94",
   "metadata": {
    "hidden": true
   },
   "outputs": [],
   "source": [
    "df_wd = next(house_data['washer dryer'].load())\n",
    "df_wd.describe()"
   ]
  },
  {
   "cell_type": "markdown",
   "id": "1be333de",
   "metadata": {
    "hidden": true
   },
   "source": [
    "### Select Top (more than one) Meters form submeters in MeterGroup\n",
    "\n",
    "Only select the top K meters, according to energy.  Functions on the entire MeterGroup.  So if you mean to select the top K from only the submeters.  Default is k is 5."
   ]
  },
  {
   "cell_type": "code",
   "execution_count": null,
   "id": "4eba69b4",
   "metadata": {
    "hidden": true
   },
   "outputs": [],
   "source": [
    "# Select top 5 objects from MeterGroup, return MeterGroup object \n",
    "mg_top = house_data.submeters().select_top_k(k=5)\n",
    "\n",
    "print(\"\\n\\nData Type of mg_top is {}.\".format(type(mg_top))) \n",
    "\n",
    "# Show the selected MeterGroup values\n",
    "mg_top"
   ]
  },
  {
   "cell_type": "code",
   "execution_count": null,
   "id": "4e10f247",
   "metadata": {
    "hidden": true
   },
   "outputs": [],
   "source": [
    "# Load data to dataframe from MeterGroup\n",
    "mg_top_df = mg_top.dataframe_of_meters()\n",
    "\n",
    "print(\"Is there any null value in dataframe = {}.\\n\".format(mg_top_df.isnull().values.any()))\n",
    "\n",
    "# Change readable column name\n",
    "mg_top_df.columns = house_data.get_labels(mg_top_df.columns)\n",
    "\n",
    "# Show dataframe info for MeterGroup\n",
    "mg_top_df.describe()"
   ]
  },
  {
   "cell_type": "code",
   "execution_count": null,
   "id": "a467b84b",
   "metadata": {
    "hidden": true
   },
   "outputs": [],
   "source": [
    "mg_top_df.plot()"
   ]
  },
  {
   "cell_type": "markdown",
   "id": "a08dac69",
   "metadata": {
    "hidden": true
   },
   "source": [
    "### Access an ElecMeter Object From MeterGroup object"
   ]
  },
  {
   "cell_type": "code",
   "execution_count": null,
   "id": "79d12486",
   "metadata": {
    "hidden": true
   },
   "outputs": [],
   "source": [
    "mgitem = mg_top.__getitem__(12)\n",
    "\n",
    "print(\"Data Type of mgitem {}.\".format(type(mgitem)))\n",
    "\n",
    "print(mgitem.appliances)\n",
    "\n",
    "print(mgitem.appliances[0])\n",
    "\n",
    "print(\"\\n\")\n",
    "print(\"Data Type of mgitem.appliances[0] {}.\".format(type(mgitem.appliances[0])))\n",
    "b = mgitem.appliances[0]\n",
    "print(b.identifier)\n",
    "print(b.n_meters)\n",
    "print(\"\\n\")\n",
    "\n",
    "print(\"\\n\")\n",
    "print(\"Data Type of b.metadata {}.\".format(type(b.metadata)))\n",
    "print(b.metadata)\n",
    "print(b.metadata.get(\"type\"))\n",
    "print(b.metadata.get(\"instance\"))\n",
    "print(\"\\n\")\n",
    "\n",
    "print(b.categories)"
   ]
  },
  {
   "cell_type": "markdown",
   "id": "957bc7f4",
   "metadata": {
    "heading_collapsed": true
   },
   "source": [
    "# Comparing Meters Data"
   ]
  },
  {
   "cell_type": "code",
   "execution_count": null,
   "id": "a1772425",
   "metadata": {
    "hidden": true
   },
   "outputs": [],
   "source": [
    "df_ff = next(house_data['fridge freezer'].load())\n",
    "df_ff.plot()"
   ]
  },
  {
   "cell_type": "code",
   "execution_count": null,
   "id": "d689133a",
   "metadata": {
    "hidden": true
   },
   "outputs": [],
   "source": [
    "df_ff.describe()"
   ]
  },
  {
   "cell_type": "code",
   "execution_count": null,
   "id": "938fb3cc",
   "metadata": {
    "hidden": true
   },
   "outputs": [],
   "source": [
    "mytitle = \"The total of Fridge Freezer Power Usage from \" + START_TS + \" to \" + END_TS\n",
    "myx_label = \"Day\"\n",
    "myy_label = \"Active Power in Watt\"\n",
    "\n",
    "df_ff[('power', 'active')].resample('D').sum().plot(title=mytitle)\n",
    "plt.xlabel(myx_label)\n",
    "plt.ylabel(myy_label)\n",
    "plt.show()"
   ]
  },
  {
   "cell_type": "code",
   "execution_count": null,
   "id": "764f5d61",
   "metadata": {
    "hidden": true
   },
   "outputs": [],
   "source": [
    "sr_daily_ff = df_ff[('power', 'active')].resample('D').sum()\n",
    "\n",
    "sr_daily_ff.index = sr_daily_ff.index.strftime('%Y-%m-%d').tolist()\n",
    "\n",
    "sr_daily_ff"
   ]
  },
  {
   "cell_type": "markdown",
   "id": "45934a91",
   "metadata": {
    "heading_collapsed": true,
    "hidden": true
   },
   "source": [
    "## Analysis of Main Vs Dish Washer for Daily"
   ]
  },
  {
   "cell_type": "code",
   "execution_count": null,
   "id": "e24ad68f",
   "metadata": {
    "hidden": true
   },
   "outputs": [],
   "source": [
    "# Combine two series for the daily of main and washing machine to a dataframe\n",
    "\n",
    "# Get series of washing machine\n",
    "df_ke = next(house_data['kettle'].load())\n",
    "sr_of_ke = df_ke[('power', 'active')].resample('D').sum()\n",
    "\n",
    "# Get series of main\n",
    "df_of_mains = next(mains.load(sample_period=6))\n",
    "sr_of_mains = df_of_mains[('power', 'apparent')].resample('D').sum()\n",
    "\n",
    "# Merging two series into a dataframe\n",
    "mains_ke_df=pd.concat([sr_of_mains,sr_of_ke],axis=1)\n",
    "\n",
    "# Changing Columns Name and flatten MultiIndex Columns\n",
    "mains_ke_df.columns = [\"_\".join(pair) for pair in mains_ke_df.columns]\n",
    "mains_ke_df.columns = ['main_power_apparent', 'kettle_power_active']\n",
    "\n",
    "# Generate Chart\n",
    "\n",
    "mytitle = \"The total of Power Usage - Mains vs. Kettle from \" + START_TS + \" to \" + END_TS\n",
    "myx_label = \"Day\"\n",
    "myy_label = \"Active Power in Watt\"\n",
    "\n",
    "ax = mains_ke_df.plot(title=mytitle)\n",
    "ax.set_xticks(mains_ke_df.index)\n",
    "mains_ke_df[\"TS\"] = mains_ke_df.index.strftime('%y-%m-%d')\n",
    "ax.set_xticklabels(mains_ke_df.TS, rotation=45)\n",
    "\n",
    "plt.show()"
   ]
  },
  {
   "cell_type": "code",
   "execution_count": null,
   "id": "6ac30af2",
   "metadata": {
    "hidden": true
   },
   "outputs": [],
   "source": [
    "mains_ke_df"
   ]
  },
  {
   "cell_type": "markdown",
   "id": "994babd6",
   "metadata": {
    "heading_collapsed": true,
    "hidden": true
   },
   "source": [
    "## Analysis of Main Vs Kettle for Hourly"
   ]
  },
  {
   "cell_type": "code",
   "execution_count": null,
   "id": "f97152ef",
   "metadata": {
    "hidden": true
   },
   "outputs": [],
   "source": [
    "thedate = \"2013-08-01\"\n",
    "mytitle = \"Kettle for the day - \" + thedate \n",
    "\n",
    "df_ke = next(house_data['kettle'].load())\n",
    "df_of_mains = next(mains.load(sample_period=6))\n",
    "\n",
    "sr_ke_daily = df_ke[('power', 'active')].resample('H').sum()\n",
    "sr_mains_daily = df_of_mains[('power', 'apparent')].resample('H').sum()\n",
    "\n",
    "sr_mains_theday = sr_mains_daily[thedate]\n",
    "sr_ke_theday = sr_ke_daily[thedate]\n",
    "\n",
    "print(\"Max value of mains  = {} at {}\".format(sr_mains_theday.max(),\n",
    "                                              sr_mains_theday.idxmax()))\n",
    "print(\"Max value of kettle = {} at {}\".format(sr_ke_theday.max(),\n",
    "                                              sr_ke_theday.idxmax()))\n",
    "\n",
    "# Merging two series into a dataframe\n",
    "df_mains_ke_hourly = pd.concat([sr_mains_theday,sr_ke_theday],axis=1)\n",
    "\n",
    "# Changing Columns Name and flatten MultiIndex Columns\n",
    "df_mains_ke_hourly.columns = [\"_\".join(pair) for pair in df_mains_ke_hourly.columns]\n",
    "df_mains_ke_hourly.columns = ['main_power_apparent', 'kettle_power_active']\n",
    "df_mains_ke_hourly[\"TS\"] = df_mains_ke_hourly.index.strftime('%H:%M:%S')\n",
    "\n",
    "ax = df_mains_ke_hourly.plot(kind='line', title=mytitle)\n",
    "ax.set_xticks(df_mains_ke_hourly.index)\n",
    "ax.set_xticklabels(df_mains_ke_hourly.TS)\n",
    "\n",
    "plt.show()"
   ]
  },
  {
   "cell_type": "code",
   "execution_count": null,
   "id": "03ccb18b",
   "metadata": {
    "hidden": true
   },
   "outputs": [],
   "source": [
    "df_mains_ke_hourly"
   ]
  },
  {
   "cell_type": "markdown",
   "id": "d3a30676",
   "metadata": {
    "heading_collapsed": true
   },
   "source": [
    "# Workout & Findings\n",
    "\n",
    "After the completion this notebook, prepare a simple presentation slide to express your summary and new discovery information from here.\n",
    "\n",
    "- May able to further analysis and compare the top 5 appliances\n",
    "- May perform highlevel grouping monthly, daily and hourly to identify appliances usage pattern.  This may help to further download the high frequency raw data"
   ]
  },
  {
   "cell_type": "code",
   "execution_count": null,
   "id": "8fa90ebb",
   "metadata": {
    "hidden": true
   },
   "outputs": [],
   "source": []
  }
 ],
 "metadata": {
  "kernelspec": {
   "display_name": "Python 3",
   "language": "python",
   "name": "python3"
  },
  "language_info": {
   "codemirror_mode": {
    "name": "ipython",
    "version": 3
   },
   "file_extension": ".py",
   "mimetype": "text/x-python",
   "name": "python",
   "nbconvert_exporter": "python",
   "pygments_lexer": "ipython3",
   "version": "3.6.10"
  },
  "toc": {
   "base_numbering": 1,
   "nav_menu": {
    "height": "474px",
    "width": "553px"
   },
   "number_sections": true,
   "sideBar": true,
   "skip_h1_title": false,
   "title_cell": "Table of Contents",
   "title_sidebar": "Contents",
   "toc_cell": false,
   "toc_position": {},
   "toc_section_display": true,
   "toc_window_display": false
  }
 },
 "nbformat": 4,
 "nbformat_minor": 5
}
