{
 "cells": [
  {
   "cell_type": "markdown",
   "id": "bcfb1c63",
   "metadata": {
    "heading_collapsed": true
   },
   "source": [
    "# Overview UK-DALE 2017 Dataset\n",
    "\n",
    "NILMTK uses an open file format based on the HDF5 binary file format to store both the power data and the metadata. The very first step when using NILMTK is to convert your dataset to the NILMTK HDF5 file format.\n",
    "\n",
    "UK Domestic Appliance Level Electricity (UK-DALE).  This is the full UK-DALE-disaggregated h5 format data, which had ~5GB raw size.\n",
    "\n",
    "Created at: **11/4/2022**\n",
    "\n",
    "**References**\n",
    "- [General Info for UK-DALE 2017](https://data.ukedc.rl.ac.uk/browse/edc/efficiency/residential/EnergyConsumption/Domestic/UK-DALE-2017/ReadMe_DALE-2017.html)\n",
    "- [Download Raw Dataset at ukedc](https://data.ukedc.rl.ac.uk/browse/edc/efficiency/residential/EnergyConsumption/Domestic/UK-DALE-2017/UK-DALE-FULL-disaggregated)\n",
    "- [More NILMTK APIs](http://nilmtk.github.io/nilmtk/master/index.html)\n",
    "- HDF5 - Hierarchical Data Formats\n",
    "  - [What is HDF5 format](https://en.wikipedia.org/wiki/Hierarchical_Data_Format)\n",
    "  - [HDF5 for Python](https://www.h5py.org)\n",
    "- Documentation\n",
    "  - [Google Python Style Guide](https://google.github.io/styleguide/pyguide.html)\n",
    "  - [Markdown Cheat Sheet -MD](https://www.markdownguide.org/cheat-sheet/)\n",
    "  - [pandas 0.25.3 Documentation](https://pandas.pydata.org/pandas-docs/version/0.25.3/)\n",
    "  - [series Documentation](https://pandas.pydata.org/pandas-docs/version/0.25.3/reference/series.html)\n",
    "  - [Python 3.6.10 Documentation](https://docs.python.org/release/3.6.10/)\n"
   ]
  },
  {
   "cell_type": "markdown",
   "id": "1f351af8",
   "metadata": {
    "heading_collapsed": true
   },
   "source": [
    "# Initialization for Python and NILMTK\n"
   ]
  },
  {
   "cell_type": "code",
   "execution_count": 1,
   "id": "a2485785",
   "metadata": {
    "hidden": true
   },
   "outputs": [],
   "source": [
    "import os\n",
    "import platform\n",
    "import sys\n",
    "\n",
    "import pandas as pd\n",
    "\n",
    "import nilmtk as ntk"
   ]
  },
  {
   "cell_type": "markdown",
   "id": "77d93e83",
   "metadata": {
    "hidden": true
   },
   "source": [
    "## Get Version Information"
   ]
  },
  {
   "cell_type": "code",
   "execution_count": 2,
   "id": "188da781",
   "metadata": {
    "hidden": true
   },
   "outputs": [
    {
     "name": "stdout",
     "output_type": "stream",
     "text": [
      "Python Version:3.8.17 | packaged by conda-forge | (default, Jun 16 2023, 07:01:59) [MSC v.1929 64 bit (AMD64)]\n",
      "Pandas Version:0.25.3\n",
      "NILMTK Version:0.4.0.dev1+git.303d45b\n",
      "OS Version:Windows-10-10.0.19045-SP0\n"
     ]
    }
   ],
   "source": [
    "print(\"Python Version: {}\".format(sys.version))\n",
    "print(\"Pandas Version: {}\".format(pd.__version__))\n",
    "print(\"NILMTK Version: {}\".format(ntk.__version__))\n",
    "print(\"OS Version:     {}\".format(platform.platform()))"
   ]
  },
  {
   "cell_type": "markdown",
   "id": "f5f6b432",
   "metadata": {
    "hidden": true
   },
   "source": [
    "## Define Global, Constant Variables and Functions"
   ]
  },
  {
   "cell_type": "code",
   "execution_count": null,
   "id": "da09000a-709a-40bd-b785-84e67e407463",
   "metadata": {},
   "outputs": [],
   "source": [
    "path = \"../../../ukdale\"\n",
    "FILENAME = f'{path}/ukdale.h5'\n",
    "if os.path.exist(FILENAME) == False:\n",
    "    from nilmtk.dataset_converters import convert_ukdale\n",
    "    convert_ukdale(path, f'{path}/ukdale.h5')"
   ]
  },
  {
   "cell_type": "markdown",
   "id": "f129231d",
   "metadata": {
    "hidden": true
   },
   "source": [
    "## Open UK-DALE 2017 HDF5 file in NILMTK"
   ]
  },
  {
   "cell_type": "code",
   "execution_count": null,
   "id": "5f623049",
   "metadata": {
    "hidden": true
   },
   "outputs": [],
   "source": [
    "ds = ntk.DataSet(FILENAME)\n",
    "\n",
    "raw_file_size = os.path.getsize(FILENAME)\n",
    "print(\"Raw h5 file size is ~{:.2f}GB\".format(raw_file_size / 1024 / 1024 / 1024))\n",
    "print(\"ds data type is {}\".format(type(ds)))"
   ]
  },
  {
   "cell_type": "markdown",
   "id": "44192d5c",
   "metadata": {
    "heading_collapsed": true
   },
   "source": [
    "# Exploring the Dataset\n",
    "\n",
    "This is to hava a quick look into whats in UK-DALE dataset object.  \n",
    "\n",
    "Reference:\n",
    "- [Python 3.6 Doc - collection.OrderedDict](https://docs.python.org/3.6/library/collections.html#ordereddict-objects)\n",
    "- [Python 3.6 Doc - dict](https://docs.python.org/3.6/tutorial/datastructures.html#dictionaries)"
   ]
  },
  {
   "cell_type": "markdown",
   "id": "d36b3033",
   "metadata": {
    "heading_collapsed": true,
    "hidden": true
   },
   "source": [
    "## Dataset.Metadata \n",
    "There is a lot of metadata associated with the dataset, including information about the \n",
    "models of meter device the authors used to record UK-DALE."
   ]
  },
  {
   "cell_type": "markdown",
   "id": "ce845ed1",
   "metadata": {
    "hidden": true
   },
   "source": [
    "### Print out the metadata to see the key and value"
   ]
  },
  {
   "cell_type": "code",
   "execution_count": null,
   "id": "efcef167",
   "metadata": {
    "hidden": true
   },
   "outputs": [],
   "source": [
    "print(type(ds.metadata))\n",
    "ntk.utils.print_dict(ds.metadata)"
   ]
  },
  {
   "cell_type": "markdown",
   "id": "f3abd772",
   "metadata": {
    "hidden": true
   },
   "source": [
    "### Get - \"ds.buildings\" in 'collections.OrderedDict'"
   ]
  },
  {
   "cell_type": "code",
   "execution_count": null,
   "id": "aeb181ab",
   "metadata": {
    "hidden": true
   },
   "outputs": [],
   "source": [
    "len(ds.buildings)\n",
    "print(type(ds.buildings))\n",
    "ntk.utils.print_dict(ds.buildings)"
   ]
  },
  {
   "cell_type": "markdown",
   "id": "8d10c33b",
   "metadata": {
    "heading_collapsed": true,
    "hidden": true
   },
   "source": [
    "## Dataset.Buildling \n",
    "\n",
    "Each building has a little bit of metadata associated with it (there isn't much building-specific metadata in UK-DALE):"
   ]
  },
  {
   "cell_type": "code",
   "execution_count": null,
   "id": "75ea8587",
   "metadata": {
    "hidden": true
   },
   "outputs": [],
   "source": [
    "# Define building/house number\n",
    "mybuilding = ds.buildings[1]\n",
    "print(type(ds.buildings[1]))\n",
    "print(mybuilding)"
   ]
  },
  {
   "cell_type": "markdown",
   "id": "f6e9d185",
   "metadata": {
    "heading_collapsed": true,
    "hidden": true
   },
   "source": [
    "### Access Building 1 metadata"
   ]
  },
  {
   "cell_type": "code",
   "execution_count": null,
   "id": "79688c64",
   "metadata": {
    "hidden": true
   },
   "outputs": [],
   "source": [
    "print(type(mybuilding.metadata))\n",
    "print(mybuilding.metadata.keys()) # Get all keys from dictionary\n",
    "print(mybuilding.metadata['energy_improvements'])"
   ]
  },
  {
   "cell_type": "markdown",
   "id": "c9cff6b3",
   "metadata": {
    "heading_collapsed": true,
    "hidden": true
   },
   "source": [
    "#### Extract specified key - timeframe"
   ]
  },
  {
   "cell_type": "code",
   "execution_count": null,
   "id": "6f3a76c3",
   "metadata": {
    "hidden": true
   },
   "outputs": [],
   "source": [
    "# Get the value of 'timeframe' by specifing the key in dictionary\n",
    "dict_metadata_timeframe = ds.buildings[1].metadata['timeframe']\n",
    "print(dict_metadata_timeframe)"
   ]
  },
  {
   "cell_type": "code",
   "execution_count": null,
   "id": "75d37a4d",
   "metadata": {
    "hidden": true
   },
   "outputs": [],
   "source": [
    "# Extract the value of 'start' in 'timeframe'\n",
    "dict_timeframe_start = ds.buildings[1].metadata['timeframe']['start']\n",
    "print(dict_timeframe_start)\n",
    "print(\"\")"
   ]
  },
  {
   "cell_type": "markdown",
   "id": "5dc7531e",
   "metadata": {
    "heading_collapsed": true,
    "hidden": true
   },
   "source": [
    "#### Extract specified key - rooms"
   ]
  },
  {
   "cell_type": "code",
   "execution_count": null,
   "id": "baf8a66c",
   "metadata": {
    "hidden": true
   },
   "outputs": [],
   "source": [
    "mybuilding.metadata['rooms']"
   ]
  },
  {
   "cell_type": "code",
   "execution_count": null,
   "id": "2f1aa607",
   "metadata": {
    "hidden": true
   },
   "outputs": [],
   "source": [
    "mybuilding.metadata['rooms'][1]"
   ]
  },
  {
   "cell_type": "markdown",
   "id": "f1496924",
   "metadata": {
    "heading_collapsed": true,
    "hidden": true
   },
   "source": [
    "### Building identifies"
   ]
  },
  {
   "cell_type": "code",
   "execution_count": null,
   "id": "ed8dd2ac",
   "metadata": {
    "hidden": true
   },
   "outputs": [],
   "source": [
    "mybuilding.identifier"
   ]
  },
  {
   "cell_type": "code",
   "execution_count": null,
   "id": "8784c285",
   "metadata": {
    "hidden": true
   },
   "outputs": [],
   "source": [
    "type(mybuilding.identifier)"
   ]
  },
  {
   "cell_type": "markdown",
   "id": "94e361bc",
   "metadata": {
    "heading_collapsed": true,
    "hidden": true
   },
   "source": [
    "### Show buidling metadata"
   ]
  },
  {
   "cell_type": "code",
   "execution_count": null,
   "id": "0f29c96c",
   "metadata": {
    "hidden": true
   },
   "outputs": [],
   "source": [
    "mybuilding.metadata"
   ]
  },
  {
   "cell_type": "markdown",
   "id": "dee0b2a4",
   "metadata": {
    "heading_collapsed": true
   },
   "source": [
    "# Quick view of Building.MeterGroup\n",
    "\n",
    "To access the building metergroup from Dataset class. It uses to formulate the group of appliances, and form it metergroup.  Also, it shows various detail appliances in the building or house in \"nilmtk.metergroup.MeterGroup\""
   ]
  },
  {
   "cell_type": "code",
   "execution_count": null,
   "id": "97bfcc87",
   "metadata": {
    "hidden": true
   },
   "outputs": [],
   "source": [
    "house_data = ds.buildings[1].elec\n",
    "print(type(house_data))\n",
    "print(house_data)   # Each building has an elec attribute which is a MeterGroup object (much more about those soon!)"
   ]
  },
  {
   "cell_type": "code",
   "execution_count": null,
   "id": "3b5cda6d",
   "metadata": {
    "hidden": true
   },
   "outputs": [],
   "source": [
    "for item in house_data.appliances:\n",
    "    print(item)"
   ]
  },
  {
   "cell_type": "code",
   "execution_count": null,
   "id": "abe37e46",
   "metadata": {
    "hidden": true
   },
   "outputs": [],
   "source": [
    "ds.buildings[1].elec.appliances[0]"
   ]
  },
  {
   "cell_type": "code",
   "execution_count": null,
   "id": "c885f5ac",
   "metadata": {
    "hidden": true
   },
   "outputs": [],
   "source": [
    "house = ds.buildings[1].elec"
   ]
  },
  {
   "cell_type": "code",
   "execution_count": null,
   "id": "208954ca",
   "metadata": {
    "hidden": true
   },
   "outputs": [],
   "source": [
    "house.select_using_appliances(type=['light', 'kettle', 'toaster'])"
   ]
  },
  {
   "cell_type": "code",
   "execution_count": null,
   "id": "7e523b9e",
   "metadata": {
    "hidden": true
   },
   "outputs": [],
   "source": [
    "house.select_using_appliances(room='bathroom')"
   ]
  },
  {
   "cell_type": "code",
   "execution_count": null,
   "id": "e4bc6dee",
   "metadata": {
    "hidden": true
   },
   "outputs": [],
   "source": [
    "house.select_using_appliances(category='lighting')"
   ]
  },
  {
   "cell_type": "code",
   "execution_count": null,
   "id": "55ce9dbf",
   "metadata": {
    "hidden": true
   },
   "outputs": [],
   "source": [
    "print(type(ds.buildings[1].elec))"
   ]
  },
  {
   "cell_type": "code",
   "execution_count": null,
   "id": "245fbcef",
   "metadata": {
    "hidden": true
   },
   "outputs": [],
   "source": [
    "house.__getitem__('toaster')"
   ]
  },
  {
   "cell_type": "markdown",
   "id": "bc63ab5d",
   "metadata": {
    "heading_collapsed": true
   },
   "source": [
    "# Workout & Findings\n",
    "\n",
    "After the completion this notebook, prepare a simple presentation slide to express your summary and new discovery information from here."
   ]
  },
  {
   "cell_type": "code",
   "execution_count": null,
   "id": "a92439f1-a0f9-419e-b7fa-15a7d8f4e82c",
   "metadata": {},
   "outputs": [],
   "source": []
  }
 ],
 "metadata": {
  "kernelspec": {
   "display_name": "Python 3 (ipykernel)",
   "language": "python",
   "name": "python3"
  },
  "language_info": {
   "codemirror_mode": {
    "name": "ipython",
    "version": 3
   },
   "file_extension": ".py",
   "mimetype": "text/x-python",
   "name": "python",
   "nbconvert_exporter": "python",
   "pygments_lexer": "ipython3",
   "version": "3.8.17"
  },
  "toc": {
   "base_numbering": 1,
   "nav_menu": {},
   "number_sections": true,
   "sideBar": true,
   "skip_h1_title": false,
   "title_cell": "Table of Contents",
   "title_sidebar": "Contents",
   "toc_cell": false,
   "toc_position": {},
   "toc_section_display": true,
   "toc_window_display": false
  }
 },
 "nbformat": 4,
 "nbformat_minor": 5
}
