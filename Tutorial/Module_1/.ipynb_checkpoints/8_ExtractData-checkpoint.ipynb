{
 "cells": [
  {
   "cell_type": "markdown",
   "id": "61c65fe8",
   "metadata": {
    "heading_collapsed": true
   },
   "source": [
    "# MeterGroup to Dataframe"
   ]
  },
  {
   "cell_type": "markdown",
   "id": "9d38da94",
   "metadata": {},
   "source": [
    "# Initialization for Python and NILMTK\n",
    "\n",
    "Let's kick-off to process and analysis the data with Python."
   ]
  },
  {
   "cell_type": "code",
   "execution_count": 1,
   "id": "c360b8c3",
   "metadata": {},
   "outputs": [],
   "source": [
    "import dateutil\n",
    "import warnings\n",
    "\n",
    "import matplotlib.pyplot as plt\n",
    "import numpy as np\n",
    "import pandas as pd\n",
    "\n",
    "from datetime import datetime\n",
    "\n",
    "import nilmtk as ntk\n",
    "import utility.tools as tools"
   ]
  },
  {
   "cell_type": "markdown",
   "id": "37521cdb",
   "metadata": {},
   "source": [
    "## Define constant and global variable"
   ]
  },
  {
   "cell_type": "code",
   "execution_count": 3,
   "id": "7d855e67",
   "metadata": {},
   "outputs": [],
   "source": [
    "warnings.filterwarnings(\"ignore\")\n",
    "plt.rcParams['figure.figsize'] = [15, 10]\n",
    "\n",
    "RAW_FILENAME = \"../../../ukdale/ukdale.h5\"\n",
    "\n",
    "START_TS ='2014-01-01 00:00:00'\n",
    "END_TS='2014-01-31 23:59:59'\n",
    "\n",
    "HOUSE_NUMBER = 1"
   ]
  },
  {
   "cell_type": "markdown",
   "id": "9bd849c6",
   "metadata": {},
   "source": [
    "## Create objects - nilmtk.DataSet"
   ]
  },
  {
   "cell_type": "code",
   "execution_count": 4,
   "id": "d03a7048",
   "metadata": {},
   "outputs": [],
   "source": [
    "# Create Dataset object for UK-DALE\n",
    "ukdale_ds = ntk.DataSet(RAW_FILENAME)\n",
    "\n",
    "# Set the duration window from START_TS to END_TS\n",
    "ukdale_ds.set_window(start=START_TS,end=END_TS)\n",
    "\n",
    "# Create MeterGroup for house_data\n",
    "# using global variable \"HOUSE_NUMBER\"\n",
    "#\n",
    "house_data = ukdale_ds.buildings[HOUSE_NUMBER].elec"
   ]
  },
  {
   "cell_type": "markdown",
   "id": "7c50581b",
   "metadata": {},
   "source": [
    "### List of appliances in list"
   ]
  },
  {
   "cell_type": "code",
   "execution_count": 5,
   "id": "c16d5039",
   "metadata": {},
   "outputs": [
    {
     "data": {
      "text/plain": [
       "list"
      ]
     },
     "execution_count": 5,
     "metadata": {},
     "output_type": "execute_result"
    }
   ],
   "source": [
    "type(house_data.appliances)"
   ]
  },
  {
   "cell_type": "code",
   "execution_count": 6,
   "id": "2c8f5494",
   "metadata": {
    "scrolled": true
   },
   "outputs": [
    {
     "data": {
      "text/plain": [
       "[Appliance(type='vacuum cleaner', instance=1),\n",
       " Appliance(type='light', instance=3),\n",
       " Appliance(type='light', instance=6),\n",
       " Appliance(type='light', instance=12),\n",
       " Appliance(type='laptop computer', instance=2),\n",
       " Appliance(type='wireless phone charger', instance=1),\n",
       " Appliance(type='light', instance=9),\n",
       " Appliance(type='radio', instance=2),\n",
       " Appliance(type='broadband router', instance=2),\n",
       " Appliance(type='light', instance=15),\n",
       " Appliance(type='immersion heater', instance=1),\n",
       " Appliance(type='washer dryer', instance=1),\n",
       " Appliance(type='food processor', instance=2),\n",
       " Appliance(type='mobile phone charger', instance=1),\n",
       " Appliance(type='audio system', instance=2),\n",
       " Appliance(type='desktop computer', instance=1),\n",
       " Appliance(type='laptop computer', instance=1),\n",
       " Appliance(type='fan', instance=2),\n",
       " Appliance(type='coffee maker', instance=1),\n",
       " Appliance(type='USB hub', instance=1),\n",
       " Appliance(type='security alarm', instance=1),\n",
       " Appliance(type='solar thermal pumping station', instance=1),\n",
       " Appliance(type='baby monitor', instance=1),\n",
       " Appliance(type='light', instance=5),\n",
       " Appliance(type='light', instance=2),\n",
       " Appliance(type='light', instance=8),\n",
       " Appliance(type='external hard disk', instance=1),\n",
       " Appliance(type='water pump', instance=1),\n",
       " Appliance(type='broadband router', instance=1),\n",
       " Appliance(type='clothes iron', instance=1),\n",
       " Appliance(type='light', instance=11),\n",
       " Appliance(type='light', instance=14),\n",
       " Appliance(type='radio', instance=1),\n",
       " Appliance(type='food processor', instance=1),\n",
       " Appliance(type='drill', instance=1),\n",
       " Appliance(type='tablet computer charger', instance=1),\n",
       " Appliance(type='kitchen aid', instance=1),\n",
       " Appliance(type='audio system', instance=1),\n",
       " Appliance(type='laptop computer', instance=3),\n",
       " Appliance(type='audio amplifier', instance=1),\n",
       " Appliance(type='soldering iron', instance=1),\n",
       " Appliance(type='microwave', instance=1),\n",
       " Appliance(type='fan', instance=1),\n",
       " Appliance(type='breadmaker', instance=1),\n",
       " Appliance(type='light', instance=1),\n",
       " Appliance(type='active subwoofer', instance=1),\n",
       " Appliance(type='boiler', instance=1),\n",
       " Appliance(type='light', instance=4),\n",
       " Appliance(type='light', instance=10),\n",
       " Appliance(type='fridge freezer', instance=1),\n",
       " Appliance(type='light', instance=7),\n",
       " Appliance(type='television', instance=1),\n",
       " Appliance(type='hair straighteners', instance=1),\n",
       " Appliance(type='HTPC', instance=1),\n",
       " Appliance(type='toasted sandwich maker', instance=1),\n",
       " Appliance(type='light', instance=16),\n",
       " Appliance(type='radio', instance=3),\n",
       " Appliance(type='ethernet switch', instance=1),\n",
       " Appliance(type='mobile phone charger', instance=2),\n",
       " Appliance(type='light', instance=13),\n",
       " Appliance(type='washer dryer', instance=2),\n",
       " Appliance(type='bouncy castle pump', instance=1),\n",
       " Appliance(type='computer', instance=1),\n",
       " Appliance(type='oven', instance=1),\n",
       " Appliance(type='toaster', instance=1),\n",
       " Appliance(type='charger', instance=1),\n",
       " Appliance(type='printer', instance=1),\n",
       " Appliance(type='kettle', instance=1),\n",
       " Appliance(type='baby monitor', instance=2),\n",
       " Appliance(type='computer monitor', instance=1),\n",
       " Appliance(type='dish washer', instance=1),\n",
       " Appliance(type='hair dryer', instance=1)]"
      ]
     },
     "execution_count": 6,
     "metadata": {},
     "output_type": "execute_result"
    }
   ],
   "source": [
    "house_data.appliances"
   ]
  },
  {
   "cell_type": "markdown",
   "id": "bc462183",
   "metadata": {},
   "source": [
    "### Show house_data"
   ]
  },
  {
   "cell_type": "code",
   "execution_count": 7,
   "id": "956bbf55",
   "metadata": {},
   "outputs": [
    {
     "data": {
      "text/plain": [
       "MeterGroup(meters=\n",
       "  ElecMeter(instance=2, building=1, dataset='UK-DALE', appliances=[Appliance(type='boiler', instance=1)])\n",
       "  ElecMeter(instance=3, building=1, dataset='UK-DALE', appliances=[Appliance(type='solar thermal pumping station', instance=1)])\n",
       "  ElecMeter(instance=4, building=1, dataset='UK-DALE', appliances=[Appliance(type='laptop computer', instance=1), Appliance(type='laptop computer', instance=3)])\n",
       "  ElecMeter(instance=5, building=1, dataset='UK-DALE', appliances=[Appliance(type='washer dryer', instance=1), Appliance(type='washer dryer', instance=2)])\n",
       "  ElecMeter(instance=6, building=1, dataset='UK-DALE', appliances=[Appliance(type='dish washer', instance=1)])\n",
       "  ElecMeter(instance=7, building=1, dataset='UK-DALE', appliances=[Appliance(type='television', instance=1)])\n",
       "  ElecMeter(instance=8, building=1, dataset='UK-DALE', appliances=[Appliance(type='light', instance=1), Appliance(type='light', instance=2)])\n",
       "  ElecMeter(instance=9, building=1, dataset='UK-DALE', appliances=[Appliance(type='HTPC', instance=1)])\n",
       "  ElecMeter(instance=10, building=1, dataset='UK-DALE', appliances=[Appliance(type='kettle', instance=1), Appliance(type='food processor', instance=1), Appliance(type='toasted sandwich maker', instance=1)])\n",
       "  ElecMeter(instance=11, building=1, dataset='UK-DALE', appliances=[Appliance(type='toaster', instance=1), Appliance(type='kitchen aid', instance=1), Appliance(type='food processor', instance=2)])\n",
       "  ElecMeter(instance=12, building=1, dataset='UK-DALE', appliances=[Appliance(type='fridge freezer', instance=1)])\n",
       "  ElecMeter(instance=13, building=1, dataset='UK-DALE', appliances=[Appliance(type='microwave', instance=1)])\n",
       "  ElecMeter(instance=14, building=1, dataset='UK-DALE', appliances=[Appliance(type='computer monitor', instance=1)])\n",
       "  ElecMeter(instance=15, building=1, dataset='UK-DALE', appliances=[Appliance(type='audio system', instance=1)])\n",
       "  ElecMeter(instance=16, building=1, dataset='UK-DALE', appliances=[Appliance(type='breadmaker', instance=1)])\n",
       "  ElecMeter(instance=17, building=1, dataset='UK-DALE', appliances=[Appliance(type='audio amplifier', instance=1)])\n",
       "  ElecMeter(instance=18, building=1, dataset='UK-DALE', appliances=[Appliance(type='broadband router', instance=1), Appliance(type='broadband router', instance=2)])\n",
       "  ElecMeter(instance=19, building=1, dataset='UK-DALE', appliances=[Appliance(type='light', instance=3), Appliance(type='bouncy castle pump', instance=1)])\n",
       "  ElecMeter(instance=20, building=1, dataset='UK-DALE', appliances=[Appliance(type='soldering iron', instance=1)])\n",
       "  ElecMeter(instance=21, building=1, dataset='UK-DALE', appliances=[Appliance(type='ethernet switch', instance=1), Appliance(type='USB hub', instance=1)])\n",
       "  ElecMeter(instance=22, building=1, dataset='UK-DALE', appliances=[Appliance(type='vacuum cleaner', instance=1)])\n",
       "  ElecMeter(instance=23, building=1, dataset='UK-DALE', appliances=[Appliance(type='light', instance=4)])\n",
       "  ElecMeter(instance=24, building=1, dataset='UK-DALE', appliances=[Appliance(type='light', instance=5)])\n",
       "  ElecMeter(instance=25, building=1, dataset='UK-DALE', appliances=[Appliance(type='light', instance=16)])\n",
       "  ElecMeter(instance=26, building=1, dataset='UK-DALE', appliances=[Appliance(type='light', instance=6)])\n",
       "  ElecMeter(instance=27, building=1, dataset='UK-DALE', appliances=[Appliance(type='tablet computer charger', instance=1)])\n",
       "  ElecMeter(instance=28, building=1, dataset='UK-DALE', appliances=[Appliance(type='active subwoofer', instance=1)])\n",
       "  ElecMeter(instance=29, building=1, dataset='UK-DALE', appliances=[Appliance(type='light', instance=7)])\n",
       "  ElecMeter(instance=30, building=1, dataset='UK-DALE', appliances=[Appliance(type='radio', instance=1)])\n",
       "  ElecMeter(instance=31, building=1, dataset='UK-DALE', appliances=[Appliance(type='light', instance=8)])\n",
       "  ElecMeter(instance=32, building=1, dataset='UK-DALE', appliances=[Appliance(type='wireless phone charger', instance=1), Appliance(type='audio system', instance=2)])\n",
       "  ElecMeter(instance=33, building=1, dataset='UK-DALE', appliances=[Appliance(type='light', instance=9)])\n",
       "  ElecMeter(instance=34, building=1, dataset='UK-DALE', appliances=[Appliance(type='mobile phone charger', instance=1)])\n",
       "  ElecMeter(instance=35, building=1, dataset='UK-DALE', appliances=[Appliance(type='light', instance=10)])\n",
       "  ElecMeter(instance=36, building=1, dataset='UK-DALE', appliances=[Appliance(type='coffee maker', instance=1)])\n",
       "  ElecMeter(instance=37, building=1, dataset='UK-DALE', appliances=[Appliance(type='radio', instance=2)])\n",
       "  ElecMeter(instance=38, building=1, dataset='UK-DALE', appliances=[Appliance(type='mobile phone charger', instance=2), Appliance(type='baby monitor', instance=2), Appliance(type='radio', instance=3)])\n",
       "  ElecMeter(instance=39, building=1, dataset='UK-DALE', appliances=[Appliance(type='hair dryer', instance=1)])\n",
       "  ElecMeter(instance=40, building=1, dataset='UK-DALE', appliances=[Appliance(type='hair straighteners', instance=1)])\n",
       "  ElecMeter(instance=41, building=1, dataset='UK-DALE', appliances=[Appliance(type='clothes iron', instance=1)])\n",
       "  ElecMeter(instance=42, building=1, dataset='UK-DALE', appliances=[Appliance(type='oven', instance=1)])\n",
       "  ElecMeter(instance=43, building=1, dataset='UK-DALE', appliances=[Appliance(type='computer', instance=1), Appliance(type='external hard disk', instance=1)])\n",
       "  ElecMeter(instance=44, building=1, dataset='UK-DALE', appliances=[Appliance(type='light', instance=11)])\n",
       "  ElecMeter(instance=45, building=1, dataset='UK-DALE', appliances=[Appliance(type='light', instance=12)])\n",
       "  ElecMeter(instance=46, building=1, dataset='UK-DALE', appliances=[Appliance(type='baby monitor', instance=1)])\n",
       "  ElecMeter(instance=47, building=1, dataset='UK-DALE', appliances=[Appliance(type='charger', instance=1)])\n",
       "  ElecMeter(instance=48, building=1, dataset='UK-DALE', appliances=[Appliance(type='light', instance=13)])\n",
       "  ElecMeter(instance=49, building=1, dataset='UK-DALE', appliances=[Appliance(type='light', instance=14)])\n",
       "  ElecMeter(instance=50, building=1, dataset='UK-DALE', appliances=[Appliance(type='light', instance=15)])\n",
       "  ElecMeter(instance=51, building=1, dataset='UK-DALE', appliances=[Appliance(type='desktop computer', instance=1)])\n",
       "  ElecMeter(instance=52, building=1, dataset='UK-DALE', appliances=[Appliance(type='fan', instance=1)])\n",
       "  ElecMeter(instance=53, building=1, dataset='UK-DALE', appliances=[Appliance(type='printer', instance=1)])\n",
       "  ElecMeter(instance=54, building=1, dataset='UK-DALE', site_meter, appliances=[Appliance(type='immersion heater', instance=1), Appliance(type='water pump', instance=1), Appliance(type='security alarm', instance=1), Appliance(type='fan', instance=2), Appliance(type='drill', instance=1), Appliance(type='laptop computer', instance=2)])\n",
       ")"
      ]
     },
     "execution_count": 7,
     "metadata": {},
     "output_type": "execute_result"
    }
   ],
   "source": [
    "house_data"
   ]
  },
  {
   "cell_type": "markdown",
   "id": "30618b65",
   "metadata": {
    "heading_collapsed": true
   },
   "source": [
    "# Transforming from MeterGroup to DataFrame"
   ]
  },
  {
   "cell_type": "markdown",
   "id": "c6cf2c13",
   "metadata": {
    "heading_collapsed": true,
    "hidden": true
   },
   "source": [
    "## Using API - select_using_appliances\n",
    "\n",
    "Example:\n",
    "- select_using_appliances(category='lighting')\n",
    "- select_using_appliances(type='fridge')\n",
    "- select_using_appliances(type=['fridge', 'kettle', 'toaster'])\n",
    "- select_using_appliances(building=1, category='lighting')\n",
    "- select_using_appliances(room='bathroom')"
   ]
  },
  {
   "cell_type": "code",
   "execution_count": 8,
   "id": "c8c6fd74",
   "metadata": {
    "hidden": true
   },
   "outputs": [
    {
     "data": {
      "text/html": [
       "<div>\n",
       "<style scoped>\n",
       "    .dataframe tbody tr th:only-of-type {\n",
       "        vertical-align: middle;\n",
       "    }\n",
       "\n",
       "    .dataframe tbody tr th {\n",
       "        vertical-align: top;\n",
       "    }\n",
       "\n",
       "    .dataframe thead th {\n",
       "        text-align: right;\n",
       "    }\n",
       "</style>\n",
       "<table border=\"1\" class=\"dataframe\">\n",
       "  <thead>\n",
       "    <tr style=\"text-align: right;\">\n",
       "      <th></th>\n",
       "      <th>(13, 1, UK-DALE)</th>\n",
       "      <th>(10, 1, UK-DALE)</th>\n",
       "      <th>(11, 1, UK-DALE)</th>\n",
       "    </tr>\n",
       "  </thead>\n",
       "  <tbody>\n",
       "    <tr>\n",
       "      <th>count</th>\n",
       "      <td>446399.000000</td>\n",
       "      <td>446400.000000</td>\n",
       "      <td>446400.000000</td>\n",
       "    </tr>\n",
       "    <tr>\n",
       "      <th>mean</th>\n",
       "      <td>5.547256</td>\n",
       "      <td>11.711927</td>\n",
       "      <td>6.763750</td>\n",
       "    </tr>\n",
       "    <tr>\n",
       "      <th>std</th>\n",
       "      <td>83.382286</td>\n",
       "      <td>157.690262</td>\n",
       "      <td>102.883743</td>\n",
       "    </tr>\n",
       "    <tr>\n",
       "      <th>min</th>\n",
       "      <td>0.000000</td>\n",
       "      <td>0.000000</td>\n",
       "      <td>0.000000</td>\n",
       "    </tr>\n",
       "    <tr>\n",
       "      <th>25%</th>\n",
       "      <td>1.000000</td>\n",
       "      <td>1.000000</td>\n",
       "      <td>0.000000</td>\n",
       "    </tr>\n",
       "    <tr>\n",
       "      <th>50%</th>\n",
       "      <td>1.000000</td>\n",
       "      <td>1.000000</td>\n",
       "      <td>0.000000</td>\n",
       "    </tr>\n",
       "    <tr>\n",
       "      <th>75%</th>\n",
       "      <td>1.000000</td>\n",
       "      <td>1.000000</td>\n",
       "      <td>0.000000</td>\n",
       "    </tr>\n",
       "    <tr>\n",
       "      <th>max</th>\n",
       "      <td>3267.000000</td>\n",
       "      <td>3114.000000</td>\n",
       "      <td>2702.000000</td>\n",
       "    </tr>\n",
       "  </tbody>\n",
       "</table>\n",
       "</div>"
      ],
      "text/plain": [
       "       (13, 1, UK-DALE)  (10, 1, UK-DALE)  (11, 1, UK-DALE)\n",
       "count     446399.000000     446400.000000     446400.000000\n",
       "mean           5.547256         11.711927          6.763750\n",
       "std           83.382286        157.690262        102.883743\n",
       "min            0.000000          0.000000          0.000000\n",
       "25%            1.000000          1.000000          0.000000\n",
       "50%            1.000000          1.000000          0.000000\n",
       "75%            1.000000          1.000000          0.000000\n",
       "max         3267.000000       3114.000000       2702.000000"
      ]
     },
     "execution_count": 8,
     "metadata": {},
     "output_type": "execute_result"
    }
   ],
   "source": [
    "# Create custom MeterGroup\n",
    "custom_mg = house_data.select_using_appliances(type=['microwave', 'kettle', 'toaster'])\n",
    "\n",
    "# Extract data to dataframe\n",
    "custom_mg_df = custom_mg.dataframe_of_meters()\n",
    "\n",
    "# Show summary of dataframe\n",
    "custom_mg_df.describe()"
   ]
  },
  {
   "cell_type": "markdown",
   "id": "eede0757",
   "metadata": {
    "hidden": true
   },
   "source": [
    "### Change the column header for dataframe"
   ]
  },
  {
   "cell_type": "code",
   "execution_count": 9,
   "id": "35d4602f",
   "metadata": {
    "hidden": true
   },
   "outputs": [
    {
     "data": {
      "text/html": [
       "<div>\n",
       "<style scoped>\n",
       "    .dataframe tbody tr th:only-of-type {\n",
       "        vertical-align: middle;\n",
       "    }\n",
       "\n",
       "    .dataframe tbody tr th {\n",
       "        vertical-align: top;\n",
       "    }\n",
       "\n",
       "    .dataframe thead th {\n",
       "        text-align: right;\n",
       "    }\n",
       "</style>\n",
       "<table border=\"1\" class=\"dataframe\">\n",
       "  <thead>\n",
       "    <tr style=\"text-align: right;\">\n",
       "      <th></th>\n",
       "      <th>Microwave</th>\n",
       "      <th>Kettle</th>\n",
       "      <th>Toaster</th>\n",
       "    </tr>\n",
       "  </thead>\n",
       "  <tbody>\n",
       "    <tr>\n",
       "      <th>2014-01-01 00:00:00+00:00</th>\n",
       "      <td>1.0</td>\n",
       "      <td>1.0</td>\n",
       "      <td>1.0</td>\n",
       "    </tr>\n",
       "    <tr>\n",
       "      <th>2014-01-01 00:00:06+00:00</th>\n",
       "      <td>1.0</td>\n",
       "      <td>1.0</td>\n",
       "      <td>1.0</td>\n",
       "    </tr>\n",
       "    <tr>\n",
       "      <th>2014-01-01 00:00:12+00:00</th>\n",
       "      <td>1.0</td>\n",
       "      <td>1.0</td>\n",
       "      <td>1.0</td>\n",
       "    </tr>\n",
       "    <tr>\n",
       "      <th>2014-01-01 00:00:18+00:00</th>\n",
       "      <td>1.0</td>\n",
       "      <td>1.0</td>\n",
       "      <td>1.0</td>\n",
       "    </tr>\n",
       "    <tr>\n",
       "      <th>2014-01-01 00:00:24+00:00</th>\n",
       "      <td>1.0</td>\n",
       "      <td>1.0</td>\n",
       "      <td>1.0</td>\n",
       "    </tr>\n",
       "  </tbody>\n",
       "</table>\n",
       "</div>"
      ],
      "text/plain": [
       "                           Microwave  Kettle  Toaster\n",
       "2014-01-01 00:00:00+00:00        1.0     1.0      1.0\n",
       "2014-01-01 00:00:06+00:00        1.0     1.0      1.0\n",
       "2014-01-01 00:00:12+00:00        1.0     1.0      1.0\n",
       "2014-01-01 00:00:18+00:00        1.0     1.0      1.0\n",
       "2014-01-01 00:00:24+00:00        1.0     1.0      1.0"
      ]
     },
     "execution_count": 9,
     "metadata": {},
     "output_type": "execute_result"
    }
   ],
   "source": [
    "# Change readable column name\n",
    "custom_mg_df.columns = house_data.get_labels(custom_mg_df.columns)\n",
    "\n",
    "custom_mg_df.head()"
   ]
  },
  {
   "cell_type": "markdown",
   "id": "223e6d0f",
   "metadata": {
    "hidden": true
   },
   "source": [
    "### Export to dataframe to CSV"
   ]
  },
  {
   "cell_type": "code",
   "execution_count": 10,
   "id": "130f2af5",
   "metadata": {
    "hidden": true
   },
   "outputs": [],
   "source": [
    "custom_mg_df.to_csv(\"custom_mg_df.csv\")"
   ]
  },
  {
   "cell_type": "code",
   "execution_count": 11,
   "id": "f80fb05e",
   "metadata": {
    "hidden": true
   },
   "outputs": [
    {
     "data": {
      "text/html": [
       "<div>\n",
       "<style scoped>\n",
       "    .dataframe tbody tr th:only-of-type {\n",
       "        vertical-align: middle;\n",
       "    }\n",
       "\n",
       "    .dataframe tbody tr th {\n",
       "        vertical-align: top;\n",
       "    }\n",
       "\n",
       "    .dataframe thead th {\n",
       "        text-align: right;\n",
       "    }\n",
       "</style>\n",
       "<table border=\"1\" class=\"dataframe\">\n",
       "  <thead>\n",
       "    <tr style=\"text-align: right;\">\n",
       "      <th></th>\n",
       "      <th>Microwave</th>\n",
       "      <th>Kettle</th>\n",
       "      <th>Toaster</th>\n",
       "    </tr>\n",
       "  </thead>\n",
       "  <tbody>\n",
       "    <tr>\n",
       "      <th>count</th>\n",
       "      <td>446399.000000</td>\n",
       "      <td>446400.000000</td>\n",
       "      <td>446400.000000</td>\n",
       "    </tr>\n",
       "    <tr>\n",
       "      <th>mean</th>\n",
       "      <td>5.547256</td>\n",
       "      <td>11.711928</td>\n",
       "      <td>6.763750</td>\n",
       "    </tr>\n",
       "    <tr>\n",
       "      <th>std</th>\n",
       "      <td>83.382286</td>\n",
       "      <td>157.690255</td>\n",
       "      <td>102.883743</td>\n",
       "    </tr>\n",
       "    <tr>\n",
       "      <th>min</th>\n",
       "      <td>0.000000</td>\n",
       "      <td>0.000000</td>\n",
       "      <td>0.000000</td>\n",
       "    </tr>\n",
       "    <tr>\n",
       "      <th>25%</th>\n",
       "      <td>1.000000</td>\n",
       "      <td>1.000000</td>\n",
       "      <td>0.000000</td>\n",
       "    </tr>\n",
       "    <tr>\n",
       "      <th>50%</th>\n",
       "      <td>1.000000</td>\n",
       "      <td>1.000000</td>\n",
       "      <td>0.000000</td>\n",
       "    </tr>\n",
       "    <tr>\n",
       "      <th>75%</th>\n",
       "      <td>1.000000</td>\n",
       "      <td>1.000000</td>\n",
       "      <td>0.000000</td>\n",
       "    </tr>\n",
       "    <tr>\n",
       "      <th>max</th>\n",
       "      <td>3267.000000</td>\n",
       "      <td>3114.000000</td>\n",
       "      <td>2702.000000</td>\n",
       "    </tr>\n",
       "  </tbody>\n",
       "</table>\n",
       "</div>"
      ],
      "text/plain": [
       "           Microwave         Kettle        Toaster\n",
       "count  446399.000000  446400.000000  446400.000000\n",
       "mean        5.547256      11.711928       6.763750\n",
       "std        83.382286     157.690255     102.883743\n",
       "min         0.000000       0.000000       0.000000\n",
       "25%         1.000000       1.000000       0.000000\n",
       "50%         1.000000       1.000000       0.000000\n",
       "75%         1.000000       1.000000       0.000000\n",
       "max      3267.000000    3114.000000    2702.000000"
      ]
     },
     "execution_count": 11,
     "metadata": {},
     "output_type": "execute_result"
    }
   ],
   "source": [
    "csv_custom_mg_df = pd.read_csv(\"custom_mg_df.csv\")\n",
    "\n",
    "csv_custom_mg_df.describe()"
   ]
  },
  {
   "cell_type": "markdown",
   "id": "70482458",
   "metadata": {
    "heading_collapsed": true,
    "hidden": true
   },
   "source": [
    "## Using API of Top K of appliances - select_top_k"
   ]
  },
  {
   "cell_type": "code",
   "execution_count": 12,
   "id": "d99fa296",
   "metadata": {
    "hidden": true
   },
   "outputs": [
    {
     "name": "stdout",
     "output_type": "stream",
     "text": [
      "52/52 ElecMeter(instance=53, building=1, dataset='UK-DALE', appliances=[Appliance(type='printer', instance=1)])ance=1)])e(type='external hard disk', instance=1)])e=2), Appliance(type='radio', instance=3)])1)])\n",
      "\n",
      "Data Type of mg_top is <class 'nilmtk.metergroup.MeterGroup'>.\n"
     ]
    },
    {
     "data": {
      "text/plain": [
       "MeterGroup(meters=\n",
       "  ElecMeter(instance=12, building=1, dataset='UK-DALE', appliances=[Appliance(type='fridge freezer', instance=1)])\n",
       "  ElecMeter(instance=5, building=1, dataset='UK-DALE', appliances=[Appliance(type='washer dryer', instance=1), Appliance(type='washer dryer', instance=2)])\n",
       "  ElecMeter(instance=25, building=1, dataset='UK-DALE', appliances=[Appliance(type='light', instance=16)])\n",
       ")"
      ]
     },
     "execution_count": 12,
     "metadata": {},
     "output_type": "execute_result"
    }
   ],
   "source": [
    "# Select top 5 objects from MeterGroup, return MeterGroup object \n",
    "mg_top = house_data.submeters().select_top_k(k=3)\n",
    "\n",
    "print(\"\\n\\nData Type of mg_top is {}.\".format(type(mg_top))) \n",
    "\n",
    "# Show the selected MeterGroup values\n",
    "mg_top"
   ]
  },
  {
   "cell_type": "code",
   "execution_count": 13,
   "id": "83d10988",
   "metadata": {
    "hidden": true
   },
   "outputs": [
    {
     "data": {
      "text/html": [
       "<div>\n",
       "<style scoped>\n",
       "    .dataframe tbody tr th:only-of-type {\n",
       "        vertical-align: middle;\n",
       "    }\n",
       "\n",
       "    .dataframe tbody tr th {\n",
       "        vertical-align: top;\n",
       "    }\n",
       "\n",
       "    .dataframe thead th {\n",
       "        text-align: right;\n",
       "    }\n",
       "</style>\n",
       "<table border=\"1\" class=\"dataframe\">\n",
       "  <thead>\n",
       "    <tr style=\"text-align: right;\">\n",
       "      <th></th>\n",
       "      <th>Fridge freezer</th>\n",
       "      <th>Washer dryer</th>\n",
       "      <th>Light</th>\n",
       "    </tr>\n",
       "  </thead>\n",
       "  <tbody>\n",
       "    <tr>\n",
       "      <th>count</th>\n",
       "      <td>446400.000000</td>\n",
       "      <td>446399.000000</td>\n",
       "      <td>446400.000000</td>\n",
       "    </tr>\n",
       "    <tr>\n",
       "      <th>mean</th>\n",
       "      <td>36.816189</td>\n",
       "      <td>31.805964</td>\n",
       "      <td>23.749281</td>\n",
       "    </tr>\n",
       "    <tr>\n",
       "      <th>std</th>\n",
       "      <td>53.171547</td>\n",
       "      <td>220.907303</td>\n",
       "      <td>48.031818</td>\n",
       "    </tr>\n",
       "    <tr>\n",
       "      <th>min</th>\n",
       "      <td>0.000000</td>\n",
       "      <td>0.000000</td>\n",
       "      <td>0.000000</td>\n",
       "    </tr>\n",
       "    <tr>\n",
       "      <th>25%</th>\n",
       "      <td>0.000000</td>\n",
       "      <td>0.000000</td>\n",
       "      <td>0.000000</td>\n",
       "    </tr>\n",
       "    <tr>\n",
       "      <th>50%</th>\n",
       "      <td>0.000000</td>\n",
       "      <td>0.000000</td>\n",
       "      <td>0.000000</td>\n",
       "    </tr>\n",
       "    <tr>\n",
       "      <th>75%</th>\n",
       "      <td>86.000000</td>\n",
       "      <td>0.000000</td>\n",
       "      <td>21.000000</td>\n",
       "    </tr>\n",
       "    <tr>\n",
       "      <th>max</th>\n",
       "      <td>1850.000000</td>\n",
       "      <td>3963.000000</td>\n",
       "      <td>343.000000</td>\n",
       "    </tr>\n",
       "  </tbody>\n",
       "</table>\n",
       "</div>"
      ],
      "text/plain": [
       "       Fridge freezer   Washer dryer          Light\n",
       "count   446400.000000  446399.000000  446400.000000\n",
       "mean        36.816189      31.805964      23.749281\n",
       "std         53.171547     220.907303      48.031818\n",
       "min          0.000000       0.000000       0.000000\n",
       "25%          0.000000       0.000000       0.000000\n",
       "50%          0.000000       0.000000       0.000000\n",
       "75%         86.000000       0.000000      21.000000\n",
       "max       1850.000000    3963.000000     343.000000"
      ]
     },
     "execution_count": 13,
     "metadata": {},
     "output_type": "execute_result"
    }
   ],
   "source": [
    "# Load data to dataframe from MeterGroup\n",
    "mg_top_df = mg_top.dataframe_of_meters()\n",
    "\n",
    "# Change readable column name\n",
    "mg_top_df.columns = house_data.get_labels(mg_top_df.columns)\n",
    "\n",
    "# Show dataframe info for MeterGroup\n",
    "mg_top_df.describe()"
   ]
  },
  {
   "cell_type": "markdown",
   "id": "af918532",
   "metadata": {
    "heading_collapsed": true,
    "hidden": true
   },
   "source": [
    "## Using customized MetaGroup and specfic instance number(s) "
   ]
  },
  {
   "cell_type": "code",
   "execution_count": 14,
   "id": "727b0731",
   "metadata": {
    "hidden": true
   },
   "outputs": [
    {
     "data": {
      "text/plain": [
       "MeterGroup(meters=\n",
       "  ElecMeter(instance=2, building=1, dataset='UK-DALE', appliances=[Appliance(type='boiler', instance=1)])\n",
       "  ElecMeter(instance=3, building=1, dataset='UK-DALE', appliances=[Appliance(type='solar thermal pumping station', instance=1)])\n",
       "  ElecMeter(instance=5, building=1, dataset='UK-DALE', appliances=[Appliance(type='washer dryer', instance=1), Appliance(type='washer dryer', instance=2)])\n",
       "  ElecMeter(instance=7, building=1, dataset='UK-DALE', appliances=[Appliance(type='television', instance=1)])\n",
       "  ElecMeter(instance=8, building=1, dataset='UK-DALE', appliances=[Appliance(type='light', instance=1), Appliance(type='light', instance=2)])\n",
       ")"
      ]
     },
     "execution_count": 14,
     "metadata": {},
     "output_type": "execute_result"
    }
   ],
   "source": [
    "my_em_2 = house_data.__getitem__(2)\n",
    "my_em_3 = house_data.__getitem__(3)\n",
    "my_em_5 = house_data.__getitem__(5)\n",
    "my_em_7 = house_data.__getitem__(7)\n",
    "my_em_8 = house_data.__getitem__(8)\n",
    "\n",
    "mg = ntk.MeterGroup([my_em_2, my_em_3, my_em_5, my_em_7, my_em_8])\n",
    "mg"
   ]
  },
  {
   "cell_type": "code",
   "execution_count": 15,
   "id": "97e04230",
   "metadata": {
    "hidden": true
   },
   "outputs": [
    {
     "data": {
      "text/plain": [
       "(446400, 5)"
      ]
     },
     "execution_count": 15,
     "metadata": {},
     "output_type": "execute_result"
    }
   ],
   "source": [
    "df = mg.dataframe_of_meters()\n",
    "\n",
    "df.shape"
   ]
  },
  {
   "cell_type": "code",
   "execution_count": 16,
   "id": "6dc36b2b",
   "metadata": {
    "hidden": true
   },
   "outputs": [
    {
     "data": {
      "text/html": [
       "<div>\n",
       "<style scoped>\n",
       "    .dataframe tbody tr th:only-of-type {\n",
       "        vertical-align: middle;\n",
       "    }\n",
       "\n",
       "    .dataframe tbody tr th {\n",
       "        vertical-align: top;\n",
       "    }\n",
       "\n",
       "    .dataframe thead th {\n",
       "        text-align: right;\n",
       "    }\n",
       "</style>\n",
       "<table border=\"1\" class=\"dataframe\">\n",
       "  <thead>\n",
       "    <tr style=\"text-align: right;\">\n",
       "      <th></th>\n",
       "      <th>Boiler</th>\n",
       "      <th>Solar thermal pumping station</th>\n",
       "      <th>Washer dryer</th>\n",
       "      <th>Television</th>\n",
       "      <th>Light</th>\n",
       "    </tr>\n",
       "  </thead>\n",
       "  <tbody>\n",
       "    <tr>\n",
       "      <th>count</th>\n",
       "      <td>446400.000000</td>\n",
       "      <td>446400.000000</td>\n",
       "      <td>446399.000000</td>\n",
       "      <td>446399.000000</td>\n",
       "      <td>446400.000000</td>\n",
       "    </tr>\n",
       "    <tr>\n",
       "      <th>mean</th>\n",
       "      <td>19.932907</td>\n",
       "      <td>3.676338</td>\n",
       "      <td>31.805964</td>\n",
       "      <td>9.733294</td>\n",
       "      <td>14.715464</td>\n",
       "    </tr>\n",
       "    <tr>\n",
       "      <th>std</th>\n",
       "      <td>25.161802</td>\n",
       "      <td>13.268074</td>\n",
       "      <td>220.907303</td>\n",
       "      <td>28.423477</td>\n",
       "      <td>43.610966</td>\n",
       "    </tr>\n",
       "    <tr>\n",
       "      <th>min</th>\n",
       "      <td>0.000000</td>\n",
       "      <td>0.000000</td>\n",
       "      <td>0.000000</td>\n",
       "      <td>0.000000</td>\n",
       "      <td>0.000000</td>\n",
       "    </tr>\n",
       "    <tr>\n",
       "      <th>25%</th>\n",
       "      <td>0.000000</td>\n",
       "      <td>0.000000</td>\n",
       "      <td>0.000000</td>\n",
       "      <td>1.000000</td>\n",
       "      <td>0.000000</td>\n",
       "    </tr>\n",
       "    <tr>\n",
       "      <th>50%</th>\n",
       "      <td>12.000000</td>\n",
       "      <td>0.000000</td>\n",
       "      <td>0.000000</td>\n",
       "      <td>1.000000</td>\n",
       "      <td>0.000000</td>\n",
       "    </tr>\n",
       "    <tr>\n",
       "      <th>75%</th>\n",
       "      <td>12.000000</td>\n",
       "      <td>0.000000</td>\n",
       "      <td>0.000000</td>\n",
       "      <td>1.000000</td>\n",
       "      <td>0.000000</td>\n",
       "    </tr>\n",
       "    <tr>\n",
       "      <th>max</th>\n",
       "      <td>122.000000</td>\n",
       "      <td>62.000000</td>\n",
       "      <td>3963.000000</td>\n",
       "      <td>1248.000000</td>\n",
       "      <td>345.000000</td>\n",
       "    </tr>\n",
       "  </tbody>\n",
       "</table>\n",
       "</div>"
      ],
      "text/plain": [
       "              Boiler  Solar thermal pumping station   Washer dryer  \\\n",
       "count  446400.000000                  446400.000000  446399.000000   \n",
       "mean       19.932907                       3.676338      31.805964   \n",
       "std        25.161802                      13.268074     220.907303   \n",
       "min         0.000000                       0.000000       0.000000   \n",
       "25%         0.000000                       0.000000       0.000000   \n",
       "50%        12.000000                       0.000000       0.000000   \n",
       "75%        12.000000                       0.000000       0.000000   \n",
       "max       122.000000                      62.000000    3963.000000   \n",
       "\n",
       "          Television          Light  \n",
       "count  446399.000000  446400.000000  \n",
       "mean        9.733294      14.715464  \n",
       "std        28.423477      43.610966  \n",
       "min         0.000000       0.000000  \n",
       "25%         1.000000       0.000000  \n",
       "50%         1.000000       0.000000  \n",
       "75%         1.000000       0.000000  \n",
       "max      1248.000000     345.000000  "
      ]
     },
     "execution_count": 16,
     "metadata": {},
     "output_type": "execute_result"
    }
   ],
   "source": [
    "# Change readable column name\n",
    "df.columns = house_data.get_labels(df.columns)\n",
    "\n",
    "df.describe()"
   ]
  },
  {
   "cell_type": "markdown",
   "id": "cef1cbe6",
   "metadata": {},
   "source": [
    "# Exploring more APIs of MeterGroup"
   ]
  },
  {
   "cell_type": "code",
   "execution_count": 17,
   "id": "61462be4",
   "metadata": {},
   "outputs": [
    {
     "data": {
      "text/plain": [
       "ElecMeter(instance=2, building=1, dataset='UK-DALE', appliances=[Appliance(type='boiler', instance=1)])"
      ]
     },
     "execution_count": 17,
     "metadata": {},
     "output_type": "execute_result"
    }
   ],
   "source": [
    "e = house_data.meters[0]\n",
    "e"
   ]
  },
  {
   "cell_type": "code",
   "execution_count": 18,
   "id": "be535f64",
   "metadata": {},
   "outputs": [
    {
     "data": {
      "text/plain": [
       "{'data_logger': {'creators': ['Jack Kelly'],\n",
       "  'model': 'rfm_ecomanager_logger',\n",
       "  'model_url': 'https://github.com/JackKelly/rfm_ecomanager_logger'},\n",
       " 'manufacturer': 'Current Cost',\n",
       " 'max_sample_period': 120,\n",
       " 'measurements': [{'upper_limit': 25000,\n",
       "   'lower_limit': 0,\n",
       "   'physical_quantity': 'power',\n",
       "   'type': 'apparent'}],\n",
       " 'model': 'CurrentCost Tx',\n",
       " 'model_url': 'http://www.currentcost.com/product-transmitter.html',\n",
       " 'sample_period': 6,\n",
       " 'wireless': True,\n",
       " 'wireless_configuration': {'base': 'creators: [Jack Kelly] model: rfm_edf_ecomanager model_url: https://github.com/JackKelly/rfm_edf_ecomanager/\\n',\n",
       "  'protocol': 'custom',\n",
       "  'carrier_frequency': 434}}"
      ]
     },
     "execution_count": 18,
     "metadata": {},
     "output_type": "execute_result"
    }
   ],
   "source": [
    "e.device"
   ]
  },
  {
   "cell_type": "code",
   "execution_count": 19,
   "id": "d743dc22",
   "metadata": {},
   "outputs": [
    {
     "data": {
      "text/plain": [
       "ElecMeterID(instance=2, building=1, dataset='UK-DALE')"
      ]
     },
     "execution_count": 19,
     "metadata": {},
     "output_type": "execute_result"
    }
   ],
   "source": [
    "e.identifier"
   ]
  },
  {
   "cell_type": "code",
   "execution_count": 20,
   "id": "7878b539",
   "metadata": {},
   "outputs": [
    {
     "data": {
      "text/plain": [
       "<bound method ElecMeter.instance of ElecMeter(instance=2, building=1, dataset='UK-DALE', appliances=[Appliance(type='boiler', instance=1)])>"
      ]
     },
     "execution_count": 20,
     "metadata": {},
     "output_type": "execute_result"
    }
   ],
   "source": [
    "e.instance"
   ]
  },
  {
   "cell_type": "code",
   "execution_count": 21,
   "id": "0265c108",
   "metadata": {},
   "outputs": [
    {
     "data": {
      "text/plain": [
       "'/building1/elec/meter2'"
      ]
     },
     "execution_count": 21,
     "metadata": {},
     "output_type": "execute_result"
    }
   ],
   "source": [
    "e.key"
   ]
  },
  {
   "cell_type": "code",
   "execution_count": 22,
   "id": "e71c6871",
   "metadata": {},
   "outputs": [
    {
     "data": {
      "text/plain": [
       "<bound method Electric.when_on of ElecMeter(instance=2, building=1, dataset='UK-DALE', appliances=[Appliance(type='boiler', instance=1)])>"
      ]
     },
     "execution_count": 22,
     "metadata": {},
     "output_type": "execute_result"
    }
   ],
   "source": [
    "e.when_on"
   ]
  },
  {
   "cell_type": "markdown",
   "id": "f13dc713",
   "metadata": {},
   "source": [
    "## API - Get item from class of nilmtk.elecmeter.ElecMeter "
   ]
  },
  {
   "cell_type": "markdown",
   "id": "8c22ecc1",
   "metadata": {},
   "source": [
    "### Get item by instance number and return ElecMeter"
   ]
  },
  {
   "cell_type": "code",
   "execution_count": 24,
   "id": "66947948",
   "metadata": {},
   "outputs": [
    {
     "data": {
      "text/plain": [
       "nilmtk.elecmeter.ElecMeter"
      ]
     },
     "execution_count": 24,
     "metadata": {},
     "output_type": "execute_result"
    }
   ],
   "source": [
    "# Retrieve \n",
    "myitem1 = house_data.__getitem__(2)\n",
    "\n",
    "type(myitem1)"
   ]
  },
  {
   "cell_type": "code",
   "execution_count": 25,
   "id": "ee1e0d6c",
   "metadata": {},
   "outputs": [
    {
     "data": {
      "text/plain": [
       "ElecMeter(instance=2, building=1, dataset='UK-DALE', appliances=[Appliance(type='boiler', instance=1)])"
      ]
     },
     "execution_count": 25,
     "metadata": {},
     "output_type": "execute_result"
    }
   ],
   "source": [
    "myitem1"
   ]
  },
  {
   "cell_type": "code",
   "execution_count": 26,
   "id": "3c440baf",
   "metadata": {},
   "outputs": [
    {
     "data": {
      "text/plain": [
       "{'data_logger': {'creators': ['Jack Kelly'],\n",
       "  'model': 'rfm_ecomanager_logger',\n",
       "  'model_url': 'https://github.com/JackKelly/rfm_ecomanager_logger'},\n",
       " 'manufacturer': 'Current Cost',\n",
       " 'max_sample_period': 120,\n",
       " 'measurements': [{'upper_limit': 25000,\n",
       "   'lower_limit': 0,\n",
       "   'physical_quantity': 'power',\n",
       "   'type': 'apparent'}],\n",
       " 'model': 'CurrentCost Tx',\n",
       " 'model_url': 'http://www.currentcost.com/product-transmitter.html',\n",
       " 'sample_period': 6,\n",
       " 'wireless': True,\n",
       " 'wireless_configuration': {'base': 'creators: [Jack Kelly] model: rfm_edf_ecomanager model_url: https://github.com/JackKelly/rfm_edf_ecomanager/\\n',\n",
       "  'protocol': 'custom',\n",
       "  'carrier_frequency': 434}}"
      ]
     },
     "execution_count": 26,
     "metadata": {},
     "output_type": "execute_result"
    }
   ],
   "source": [
    "myitem1.device"
   ]
  },
  {
   "cell_type": "markdown",
   "id": "69e64554",
   "metadata": {},
   "source": [
    "### Get item by appliance name & return ElecMeter object"
   ]
  },
  {
   "cell_type": "code",
   "execution_count": 27,
   "id": "3c725ac8",
   "metadata": {},
   "outputs": [],
   "source": [
    "myitem2 = house_data.__getitem__('light')"
   ]
  },
  {
   "cell_type": "code",
   "execution_count": 28,
   "id": "53cb4955",
   "metadata": {},
   "outputs": [
    {
     "data": {
      "text/plain": [
       "ElecMeter(instance=8, building=1, dataset='UK-DALE', appliances=[Appliance(type='light', instance=1), Appliance(type='light', instance=2)])"
      ]
     },
     "execution_count": 28,
     "metadata": {},
     "output_type": "execute_result"
    }
   ],
   "source": [
    "myitem2"
   ]
  },
  {
   "cell_type": "code",
   "execution_count": 29,
   "id": "ddb1063d",
   "metadata": {},
   "outputs": [
    {
     "data": {
      "text/plain": [
       "<bound method ElecMeter.instance of ElecMeter(instance=8, building=1, dataset='UK-DALE', appliances=[Appliance(type='light', instance=1), Appliance(type='light', instance=2)])>"
      ]
     },
     "execution_count": 29,
     "metadata": {},
     "output_type": "execute_result"
    }
   ],
   "source": [
    "myitem2.instance"
   ]
  },
  {
   "cell_type": "markdown",
   "id": "2f996bf8",
   "metadata": {},
   "source": [
    "### Get item by specifying in ElecMeter format \n",
    "\n",
    "```\n",
    "(2, 1, 'UK-DALE')\n",
    "```\n",
    "***means as below:***\n",
    "```\n",
    "ElecMeter(instance=2, building=1, dataset='UK-DALE')\n",
    "```"
   ]
  },
  {
   "cell_type": "code",
   "execution_count": 30,
   "id": "cf0b4e44",
   "metadata": {},
   "outputs": [
    {
     "data": {
      "text/plain": [
       "nilmtk.elecmeter.ElecMeter"
      ]
     },
     "execution_count": 30,
     "metadata": {},
     "output_type": "execute_result"
    }
   ],
   "source": [
    "myitem3 = house_data.__getitem__((2, 1, 'UK-DALE'))\n",
    "\n",
    "type(myitem3)"
   ]
  },
  {
   "cell_type": "code",
   "execution_count": 31,
   "id": "ea1af780",
   "metadata": {},
   "outputs": [
    {
     "data": {
      "text/plain": [
       "nilmtk.elecmeter.ElecMeterID"
      ]
     },
     "execution_count": 31,
     "metadata": {},
     "output_type": "execute_result"
    }
   ],
   "source": [
    "type(myitem3.identifier)"
   ]
  },
  {
   "cell_type": "code",
   "execution_count": 32,
   "id": "4371912b",
   "metadata": {},
   "outputs": [
    {
     "data": {
      "text/plain": [
       "ElecMeterID(instance=2, building=1, dataset='UK-DALE')"
      ]
     },
     "execution_count": 32,
     "metadata": {},
     "output_type": "execute_result"
    }
   ],
   "source": [
    "myitem3.identifier"
   ]
  },
  {
   "cell_type": "markdown",
   "id": "9720ff60",
   "metadata": {},
   "source": [
    "### Get item by using ElecMeterID"
   ]
  },
  {
   "cell_type": "code",
   "execution_count": 33,
   "id": "910bc778",
   "metadata": {},
   "outputs": [],
   "source": [
    "from collections import namedtuple\n",
    "ElecMeterID = namedtuple('ElecMeterID', ['instance', 'building', 'dataset'])\n",
    "\n",
    "my_emid_2 = ElecMeterID(instance=2,\n",
    "                    building=1,\n",
    "                    dataset='UK-DALE')\n",
    "\n",
    "my_emid_3 = ElecMeterID(instance=3,\n",
    "                    building=1,\n",
    "                    dataset='UK-DALE')\n",
    "\n",
    "my_emid_5 = ElecMeterID(instance=5,\n",
    "                    building=1,\n",
    "                    dataset='UK-DALE')"
   ]
  },
  {
   "cell_type": "code",
   "execution_count": 34,
   "id": "9352ca2f",
   "metadata": {},
   "outputs": [
    {
     "data": {
      "text/plain": [
       "ElecMeterID(instance=2, building=1, dataset='UK-DALE')"
      ]
     },
     "execution_count": 34,
     "metadata": {},
     "output_type": "execute_result"
    }
   ],
   "source": [
    "my_emid_2"
   ]
  },
  {
   "cell_type": "code",
   "execution_count": 35,
   "id": "7cc7a005",
   "metadata": {},
   "outputs": [
    {
     "data": {
      "text/plain": [
       "ElecMeter(instance=2, building=1, dataset='UK-DALE', appliances=[Appliance(type='boiler', instance=1)])"
      ]
     },
     "execution_count": 35,
     "metadata": {},
     "output_type": "execute_result"
    }
   ],
   "source": [
    "myobj = house_data.__getitem__(my_emid_2)\n",
    "myobj"
   ]
  },
  {
   "cell_type": "markdown",
   "id": "4f95504c",
   "metadata": {},
   "source": [
    "## Get two appliances, and return MeterGroup"
   ]
  },
  {
   "cell_type": "markdown",
   "id": "204803bc",
   "metadata": {},
   "source": [
    "### Specifies in instance number"
   ]
  },
  {
   "cell_type": "code",
   "execution_count": 36,
   "id": "7718626d",
   "metadata": {},
   "outputs": [
    {
     "data": {
      "text/plain": [
       "nilmtk.metergroup.MeterGroup"
      ]
     },
     "execution_count": 36,
     "metadata": {},
     "output_type": "execute_result"
    }
   ],
   "source": [
    "myitem4 = house_data.__getitem__((2,3))\n",
    "#(1,2), 1, 'REDD')`\n",
    "type(myitem4)"
   ]
  },
  {
   "cell_type": "code",
   "execution_count": 37,
   "id": "5f7f5df1",
   "metadata": {},
   "outputs": [
    {
     "data": {
      "text/plain": [
       "MeterGroup(meters=\n",
       "  ElecMeter(instance=2, building=1, dataset='UK-DALE', appliances=[Appliance(type='boiler', instance=1)])\n",
       "  ElecMeter(instance=3, building=1, dataset='UK-DALE', appliances=[Appliance(type='solar thermal pumping station', instance=1)])\n",
       ")"
      ]
     },
     "execution_count": 37,
     "metadata": {},
     "output_type": "execute_result"
    }
   ],
   "source": [
    "myitem4"
   ]
  },
  {
   "cell_type": "markdown",
   "id": "db536181",
   "metadata": {},
   "source": [
    "### Specifies in ElecMeter fromat"
   ]
  },
  {
   "cell_type": "code",
   "execution_count": 38,
   "id": "f22e7cdf",
   "metadata": {},
   "outputs": [
    {
     "data": {
      "text/plain": [
       "nilmtk.metergroup.MeterGroup"
      ]
     },
     "execution_count": 38,
     "metadata": {},
     "output_type": "execute_result"
    }
   ],
   "source": [
    "myitem5 = house_data.__getitem__(((2, 1, 'UK-DALE'), (6, 1, 'UK-DALE')))\n",
    "type(myitem5)"
   ]
  },
  {
   "cell_type": "code",
   "execution_count": 39,
   "id": "e7e0aaa0",
   "metadata": {},
   "outputs": [
    {
     "data": {
      "text/plain": [
       "MeterGroup(meters=\n",
       "  ElecMeter(instance=2, building=1, dataset='UK-DALE', appliances=[Appliance(type='boiler', instance=1)])\n",
       "  ElecMeter(instance=6, building=1, dataset='UK-DALE', appliances=[Appliance(type='dish washer', instance=1)])\n",
       ")"
      ]
     },
     "execution_count": 39,
     "metadata": {},
     "output_type": "execute_result"
    }
   ],
   "source": [
    "myitem5"
   ]
  },
  {
   "cell_type": "markdown",
   "id": "70bd3670",
   "metadata": {},
   "source": [
    "### Specfiies in ElectMeterID"
   ]
  },
  {
   "cell_type": "code",
   "execution_count": 40,
   "id": "206d0854",
   "metadata": {},
   "outputs": [],
   "source": [
    "ElecMeterID = namedtuple('ElecMeterID', ['instance', 'building', 'dataset'])\n",
    "\n",
    "my_emid_2 = ElecMeterID(instance=2,\n",
    "                    building=1,\n",
    "                    dataset='UK-DALE')\n",
    "\n",
    "my_emid_3 = ElecMeterID(instance=3,\n",
    "                    building=1,\n",
    "                    dataset='UK-DALE')\n",
    "\n",
    "my_emid_5 = ElecMeterID(instance=5,\n",
    "                    building=1,\n",
    "                    dataset='UK-DALE')"
   ]
  },
  {
   "cell_type": "code",
   "execution_count": 41,
   "id": "1b786040",
   "metadata": {},
   "outputs": [
    {
     "data": {
      "text/plain": [
       "MeterGroup(meters=\n",
       "  ElecMeter(instance=2, building=1, dataset='UK-DALE', appliances=[Appliance(type='boiler', instance=1)])\n",
       "  ElecMeter(instance=3, building=1, dataset='UK-DALE', appliances=[Appliance(type='solar thermal pumping station', instance=1)])\n",
       ")"
      ]
     },
     "execution_count": 41,
     "metadata": {},
     "output_type": "execute_result"
    }
   ],
   "source": [
    "myobj = house_data.__getitem__((my_emid_2, my_emid_3))\n",
    "myobj"
   ]
  },
  {
   "cell_type": "markdown",
   "id": "022203b9",
   "metadata": {
    "heading_collapsed": true
   },
   "source": [
    "# About -  <class 'tuple'>"
   ]
  },
  {
   "cell_type": "code",
   "execution_count": 42,
   "id": "c8ed86b6",
   "metadata": {
    "hidden": true
   },
   "outputs": [
    {
     "data": {
      "text/plain": [
       "tuple"
      ]
     },
     "execution_count": 42,
     "metadata": {},
     "output_type": "execute_result"
    }
   ],
   "source": [
    "a = (1, 3, 4)\n",
    "type(a)"
   ]
  },
  {
   "cell_type": "code",
   "execution_count": 43,
   "id": "e10423dd",
   "metadata": {
    "hidden": true
   },
   "outputs": [
    {
     "data": {
      "text/plain": [
       "tuple"
      ]
     },
     "execution_count": 43,
     "metadata": {},
     "output_type": "execute_result"
    }
   ],
   "source": [
    "b = ((1, 2, 'aa'), (3, 4, 'ab'))\n",
    "type(b)"
   ]
  },
  {
   "cell_type": "code",
   "execution_count": 44,
   "id": "4234c202",
   "metadata": {
    "hidden": true
   },
   "outputs": [
    {
     "name": "stdout",
     "output_type": "stream",
     "text": [
      "<class 'tuple'> - (1, 2, 'aa')\n",
      "<class 'tuple'> - (3, 4, 'ab')\n"
     ]
    }
   ],
   "source": [
    "for itm in b:\n",
    "    print(\"{} - {}\".format(type(itm), itm))"
   ]
  },
  {
   "cell_type": "code",
   "execution_count": 45,
   "id": "352a7905",
   "metadata": {
    "hidden": true
   },
   "outputs": [
    {
     "data": {
      "text/plain": [
       "list"
      ]
     },
     "execution_count": 45,
     "metadata": {},
     "output_type": "execute_result"
    }
   ],
   "source": [
    "c = [(1, 2, 'aa'), (3, 4, 'ab')]\n",
    "type(c)"
   ]
  },
  {
   "cell_type": "code",
   "execution_count": 46,
   "id": "c43e6d45",
   "metadata": {
    "hidden": true
   },
   "outputs": [
    {
     "name": "stdout",
     "output_type": "stream",
     "text": [
      "<class 'tuple'> - (1, 2, 'aa')\n",
      "<class 'tuple'> - (3, 4, 'ab')\n"
     ]
    }
   ],
   "source": [
    "for itm in c:\n",
    "    print(\"{} - {}\".format(type(itm), itm))"
   ]
  },
  {
   "cell_type": "code",
   "execution_count": null,
   "id": "1b07a373-e033-4311-a081-e11ab75bee1b",
   "metadata": {},
   "outputs": [],
   "source": []
  }
 ],
 "metadata": {
  "kernelspec": {
   "display_name": "Python 3 (ipykernel)",
   "language": "python",
   "name": "python3"
  },
  "language_info": {
   "codemirror_mode": {
    "name": "ipython",
    "version": 3
   },
   "file_extension": ".py",
   "mimetype": "text/x-python",
   "name": "python",
   "nbconvert_exporter": "python",
   "pygments_lexer": "ipython3",
   "version": "3.8.17"
  },
  "toc": {
   "base_numbering": 1,
   "nav_menu": {},
   "number_sections": true,
   "sideBar": true,
   "skip_h1_title": false,
   "title_cell": "Table of Contents",
   "title_sidebar": "Contents",
   "toc_cell": false,
   "toc_position": {},
   "toc_section_display": true,
   "toc_window_display": false
  }
 },
 "nbformat": 4,
 "nbformat_minor": 5
}
