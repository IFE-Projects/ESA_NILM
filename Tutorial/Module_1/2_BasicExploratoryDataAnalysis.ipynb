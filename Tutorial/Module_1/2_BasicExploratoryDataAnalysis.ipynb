{
 "cells": [
  {
   "cell_type": "markdown",
   "id": "5ff7fd5b",
   "metadata": {
    "heading_collapsed": true
   },
   "source": [
    "# Introduction to Initial Data Analysis\n",
    "\n",
    "Initial Data Analysis (IDA) consists of steps performed on the data of a study typically between the end of the data collection point.  IDA starts of those statistical analyses that address \"research questions\". It is important to detect the issues, then dealing with data issues as early as possible.  \n",
    "\n",
    "The output should contain the simplify of data collection with data summary report. \n",
    "\n",
    "- Created Date : **10/4/2022**\n",
    "- Updated Date : **14/4/2022**\n",
    "- Author       : KK Yong\n",
    "\n",
    "**References:**\n",
    "- [Using Dictionary in Python](https://realpython.com/python-dicts/)\n",
    "- [Handling Nested Dictionary](https://www.programiz.com/python-programming/nested-dictionary)\n",
    "- [OrderedDict in Python](https://www.geeksforgeeks.org/ordereddict-in-python/)\n",
    "- [Using Pandas Series](https://pythonbasics.org/pandas-series/)\n",
    "- [MultiIndex / advanced indexing](https://pandas.pydata.org/docs/user_guide/advanced.html)"
   ]
  },
  {
   "cell_type": "markdown",
   "id": "319afa64",
   "metadata": {
    "heading_collapsed": true
   },
   "source": [
    "# Initialization for Python and NILMTK\n",
    "\n",
    "Let's kick-off to process and analysis the data with Python."
   ]
  },
  {
   "cell_type": "code",
   "execution_count": 2,
   "id": "40589629",
   "metadata": {
    "hidden": true
   },
   "outputs": [],
   "source": [
    "import dateutil\n",
    "import warnings\n",
    "\n",
    "import matplotlib.pyplot as plt\n",
    "import pandas as pd\n",
    "\n",
    "from datetime import datetime\n",
    "\n",
    "import nilmtk as ntk"
   ]
  },
  {
   "cell_type": "markdown",
   "id": "11df9bae",
   "metadata": {
    "heading_collapsed": true,
    "hidden": true
   },
   "source": [
    "## Define constant and global variable"
   ]
  },
  {
   "cell_type": "code",
   "execution_count": 3,
   "id": "20008da4",
   "metadata": {
    "hidden": true
   },
   "outputs": [],
   "source": [
    "warnings.filterwarnings(\"ignore\")\n",
    "plt.rcParams['figure.figsize'] = [15, 10]\n",
    "\n",
    "RAW_FILENAME = \"../../../ukdale/ukdale.h5\"\n",
    "\n",
    "START_TS ='2013-04-01 00:00:00'\n",
    "END_TS='2013-04-01 12:00:00'"
   ]
  },
  {
   "cell_type": "markdown",
   "id": "7186f0b5",
   "metadata": {
    "heading_collapsed": true,
    "hidden": true
   },
   "source": [
    "## Overview of UK-DALE Dataset"
   ]
  },
  {
   "cell_type": "code",
   "execution_count": 4,
   "id": "5a7382b5",
   "metadata": {
    "hidden": true
   },
   "outputs": [],
   "source": [
    "# Load dataset\n",
    "ukdale = ntk.DataSet(RAW_FILENAME)"
   ]
  },
  {
   "cell_type": "code",
   "execution_count": 5,
   "id": "5120fa3b",
   "metadata": {
    "hidden": true
   },
   "outputs": [
    {
     "data": {
      "text/html": [
       "<ul><li><strong>contact</strong>: jack.kelly@imperial.ac.uk</li><li><strong>creators</strong>: <ul><li>Kelly, Jack</li></ul></li><li><strong>date</strong>: 2017-04-26</li><li><strong>description</strong>: Appliance-by-appliance and whole-home power demand for 5 UK homes. Appliance power demand was recorded once every 6 seconds. Whole-home power demand was recorded once every 6 seconds for all homes and additionally at 16kHz for homes 1, 2 and 5. Detailed metadata is included.</li><li><strong>description_of_subjects</strong>: 4 MSc students and 1 PhD student.</li><li><strong>funding</strong>: <ul><li>Jack Kelly's PhD is funded by an EPSRC DTA</li><li>Hardware necessary for this project was funded from Jack Kelly's Intel EU PhD Fellowship</li></ul></li><li><strong>geo_location</strong>: <ul><li><strong>country</strong>: GB</li><li><strong>latitude</strong>: 51.464462</li><li><strong>locality</strong>: London</li><li><strong>longitude</strong>: -0.076544</li></ul></li><li><strong>geospatial_coverage</strong>: Southern England</li><li><strong>institution</strong>: Imperial College London</li><li><strong>long_name</strong>: UK Domestic Appliance-Level Electricity</li><li><strong>name</strong>: UK-DALE</li><li><strong>number_of_buildings</strong>: 5</li><li><strong>publisher</strong>: UK Energy Research Centre Energy Data Centre (UKERC EDC)</li><li><strong>related_documents</strong>: <ul><li>Jack Kelly and William Knottenbelt. The UK-DALE dataset, domestic appliance-level electricity demand and whole-house demand from five UK homes.  To appear in Scientific Data 2:150007.  DOI:10.1038/sdata.2015.7 arXiv:1404.0284 (2015).</li><li>Dataset is available for download from <a href=\"http://www.doc.ic.ac.uk/~dk3810/data/\">http://www.doc.ic.ac.uk/~dk3810/data/</a></li><li>Dataset is also available from the UK Energy Research Council's Energy Data Centre: The 1-second data is available from <a href=\"http://data.ukedc.rl.ac.uk/cgi-bin/dataset_catalogue/view.cgi.py?id=19\">http://data.ukedc.rl.ac.uk/cgi-bin/dataset_catalogue/view.cgi.py?id=19</a> and the 6-second data is available from <a href=\"http://data.ukedc.rl.ac.uk/cgi-bin/dataset_catalogue/view.cgi.py?id=18\">http://data.ukedc.rl.ac.uk/cgi-bin/dataset_catalogue/view.cgi.py?id=18</a> but please note that this archive is updated less frequently than the data on www.doc.ic.ac.uk/~dk3810/data/</li></ul></li><li><strong>rights_list</strong>: <ul><li>{'name': 'Creative Commons Attribution 4.0 International (CC BY 4.0)', 'uri': 'http://creativecommons.org/licenses/by/4.0/'}</li></ul></li><li><strong>schema</strong>: <a href=\"https://github.com/nilmtk/nilm_metadata/tree/v0.2\">https://github.com/nilmtk/nilm_metadata/tree/v0.2</a></li><li><strong>subject</strong>: Disaggregated domestic electricity demand</li><li><strong>timeframe</strong>: <ul><li><strong>end</strong>: 2017-04-26T18:35:53+01:00</li><li><strong>start</strong>: 2012-11-09T22:28:15+00:00</li></ul></li><li><strong>timezone</strong>: Europe/London</li><li><strong>meter_devices</strong>: <ul><li><strong>CurrentCostTx</strong>: <ul><li><strong>data_logger</strong>: <ul><li><strong>creators</strong>: <ul><li>Jack Kelly</li></ul></li><li><strong>model</strong>: rfm_ecomanager_logger</li><li><strong>model_url</strong>: <a href=\"https://github.com/JackKelly/rfm_ecomanager_logger\">https://github.com/JackKelly/rfm_ecomanager_logger</a></li></ul></li><li><strong>manufacturer</strong>: Current Cost</li><li><strong>max_sample_period</strong>: 120</li><li><strong>measurements</strong>: <ul><li>{'upper_limit': 25000, 'lower_limit': 0, 'physical_quantity': 'power', 'type': 'apparent'}</li></ul></li><li><strong>model</strong>: CurrentCost Tx</li><li><strong>model_url</strong>: <a href=\"http://www.currentcost.com/product-transmitter.html\">http://www.currentcost.com/product-transmitter.html</a></li><li><strong>sample_period</strong>: 6</li><li><strong>wireless</strong>: True</li><li><strong>wireless_configuration</strong>: <ul><li><strong>base</strong>: creators: [Jack Kelly] model: rfm_edf_ecomanager model_url: <a href=\"https://github.com/JackKelly/rfm_edf_ecomanager/\">https://github.com/JackKelly/rfm_edf_ecomanager/</a>\n",
       "</li><li><strong>protocol</strong>: custom</li><li><strong>carrier_frequency</strong>: 434</li></ul></li></ul></li><li><strong>EcoManagerWholeHouseTx</strong>: <ul><li><strong>brand</strong>: EcoManager</li><li><strong>brand_url</strong>: <a href=\"http://www.edfenergy.com/products-services/for-your-home/ecomanager\">http://www.edfenergy.com/products-services/for-your-home/ecomanager</a></li><li><strong>data_logger</strong>: <ul><li><strong>creators</strong>: <ul><li>Jack Kelly</li></ul></li><li><strong>model</strong>: rfm_ecomanager_logger</li><li><strong>model_url</strong>: <a href=\"https://github.com/JackKelly/rfm_ecomanager_logger\">https://github.com/JackKelly/rfm_ecomanager_logger</a></li></ul></li><li><strong>manufacturer</strong>: Current Cost / Sailwider</li><li><strong>max_sample_period</strong>: 120</li><li><strong>measurements</strong>: <ul><li>{'upper_limit': 25000, 'lower_limit': 0, 'physical_quantity': 'power', 'type': 'apparent'}</li></ul></li><li><strong>model</strong>: EcoManagerWholeHouseTx</li><li><strong>model_url</strong>: <a href=\"https://shop.edfenergy.com/Item.aspx?id=547\">https://shop.edfenergy.com/Item.aspx?id=547</a></li><li><strong>sample_period</strong>: 6</li><li><strong>seller</strong>: EDF Energy</li><li><strong>site_meter</strong>: True</li><li><strong>wireless</strong>: True</li><li><strong>wireless_configuration</strong>: <ul><li><strong>base</strong>: creators: [Jack Kelly] model: rfm_edf_ecomanager model_url: <a href=\"https://github.com/JackKelly/rfm_edf_ecomanager/\">https://github.com/JackKelly/rfm_edf_ecomanager/</a>\n",
       "</li><li><strong>protocol</strong>: custom</li><li><strong>carrier_frequency</strong>: 434</li></ul></li></ul></li><li><strong>EcoManagerTxPlug</strong>: <ul><li><strong>brand</strong>: EcoManager</li><li><strong>brand_url</strong>: <a href=\"http://www.edfenergy.com/products-services/for-your-home/ecomanager\">http://www.edfenergy.com/products-services/for-your-home/ecomanager</a></li><li><strong>data_logger</strong>: <ul><li><strong>creators</strong>: <ul><li>Jack Kelly</li></ul></li><li><strong>model</strong>: rfm_ecomanager_logger</li><li><strong>model_url</strong>: <a href=\"https://github.com/JackKelly/rfm_ecomanager_logger\">https://github.com/JackKelly/rfm_ecomanager_logger</a></li></ul></li><li><strong>manufacturer</strong>: Current Cost / Sailwider</li><li><strong>max_sample_period</strong>: 120</li><li><strong>measurements</strong>: <ul><li>{'upper_limit': 3300, 'lower_limit': 0, 'physical_quantity': 'power', 'type': 'active'}</li></ul></li><li><strong>model</strong>: EcoManagerTxPlug</li><li><strong>model_url</strong>: <a href=\"https://shop.edfenergy.com/Item.aspx?id=540\">https://shop.edfenergy.com/Item.aspx?id=540</a></li><li><strong>sample_period</strong>: 6</li><li><strong>seller</strong>: EDF Energy</li><li><strong>wireless</strong>: True</li><li><strong>wireless_configuration</strong>: <ul><li><strong>base</strong>: creators: [Jack Kelly] model: rfm_edf_ecomanager model_url: <a href=\"https://github.com/JackKelly/rfm_edf_ecomanager/\">https://github.com/JackKelly/rfm_edf_ecomanager/</a>\n",
       "</li><li><strong>protocol</strong>: custom</li><li><strong>carrier_frequency</strong>: 434</li></ul></li></ul></li><li><strong>SoundCardPowerMeter</strong>: <ul><li><strong>manufacturer</strong>: Jack Kelly / Imperial College London</li><li><strong>max_sample_period</strong>: 3</li><li><strong>measurements</strong>: <ul><li>{'upper_limit': 25000, 'lower_limit': 0, 'physical_quantity': 'power', 'type': 'active'}</li><li>{'upper_limit': 25000, 'lower_limit': 0, 'physical_quantity': 'power', 'type': 'apparent'}</li><li>{'description': 'RMS voltage', 'upper_limit': 275, 'lower_limit': 180, 'physical_quantity': 'voltage'}</li></ul></li><li><strong>model</strong>: Sound Card Power Meter</li><li><strong>model_url</strong>: <a href=\"https://github.com/JackKelly/snd_card_power_meter\">https://github.com/JackKelly/snd_card_power_meter</a></li><li><strong>sample_period</strong>: 1</li><li><strong>wireless</strong>: False</li></ul></li></ul></li></ul>"
      ],
      "text/plain": [
       "<IPython.core.display.HTML object>"
      ]
     },
     "metadata": {},
     "output_type": "display_data"
    }
   ],
   "source": [
    "# Print metadata\n",
    "ntk.utils.print_dict(ukdale.metadata)"
   ]
  },
  {
   "cell_type": "markdown",
   "id": "e340cf03",
   "metadata": {
    "hidden": true
   },
   "source": [
    "### Access the Dictionary of Key-Value Pair Vs List"
   ]
  },
  {
   "cell_type": "code",
   "execution_count": 6,
   "id": "336554cb",
   "metadata": {
    "hidden": true
   },
   "outputs": [
    {
     "name": "stdout",
     "output_type": "stream",
     "text": [
      "\n",
      "List of Keys at the top level, total 20 items.\n",
      "['contact', 'creators', 'date', 'description', 'description_of_subjects', 'funding', 'geo_location', 'geospatial_coverage', 'institution', 'long_name', 'name', 'number_of_buildings', 'publisher', 'related_documents', 'rights_list', 'schema', 'subject', 'timeframe', 'timezone', 'meter_devices']\n",
      "\n",
      "List of Keys inside the 'meter_devices' sublevel\n",
      "['CurrentCostTx', 'EcoManagerWholeHouseTx', 'EcoManagerTxPlug', 'SoundCardPowerMeter']\n",
      "\n",
      "List of Keys inside the 'timeframe' sublevel\n",
      "['end', 'start']\n",
      "\n",
      "Show values of 'description', which at top level\n",
      "Appliance-by-appliance and whole-home power demand for 5 UK homes. Appliance power demand was recorded once every 6 seconds. Whole-home power demand was recorded once every 6 seconds for all homes and additionally at 16kHz for homes 1, 2 and 5. Detailed metadata is included.\n",
      "\n",
      "List of Keys inside the 'timeframe' sublevel\n",
      "Data type of timeframe is <class 'dict'>\n",
      "['2017-04-26T18:35:53+01:00', '2012-11-09T22:28:15+00:00']\n"
     ]
    }
   ],
   "source": [
    "print(\"\\nList of Keys at the top level, total {} items.\".format(len(list(ukdale.metadata))))\n",
    "print(list(ukdale.metadata))\n",
    "\n",
    "print(\"\\nList of Keys inside the 'meter_devices' sublevel\")\n",
    "print(list(ukdale.metadata['meter_devices']))\n",
    "\n",
    "print(\"\\nList of Keys inside the 'timeframe' sublevel\")\n",
    "print(list(ukdale.metadata['timeframe']))\n",
    "\n",
    "print(\"\\nShow values of 'description', which at top level\")\n",
    "print(ukdale.metadata['description'])\n",
    "\n",
    "print(\"\\nList of Keys inside the 'timeframe' sublevel\")\n",
    "print(\"Data type of timeframe is {}\".format(type(ukdale.metadata['timeframe'])))\n",
    "print(list(ukdale.metadata['timeframe'].values()))"
   ]
  },
  {
   "cell_type": "markdown",
   "id": "a7b4b032",
   "metadata": {
    "hidden": true
   },
   "source": [
    "###  Detect branches of DICT - \"ukdale.metadata\""
   ]
  },
  {
   "cell_type": "code",
   "execution_count": 7,
   "id": "25119d27",
   "metadata": {
    "hidden": true
   },
   "outputs": [
    {
     "name": "stdout",
     "output_type": "stream",
     "text": [
      "geo_location - Data Type is <class 'str'>.\n",
      "timeframe - Data Type is <class 'str'>.\n",
      "meter_devices - Data Type is <class 'str'>.\n",
      "\n",
      "Length of dict in list = 3.\n",
      "...4 - <class 'dict'>\n",
      "country - Data Type is <class 'str'>.\n",
      "latitude - Data Type is <class 'float'>.\n",
      "locality - Data Type is <class 'str'>.\n",
      "longitude - Data Type is <class 'float'>.\n",
      "...2 - <class 'dict'>\n",
      "end - Data Type is <class 'str'>.\n",
      "start - Data Type is <class 'str'>.\n",
      "...4 - <class 'dict'>\n",
      "CurrentCostTx - Data Type is <class 'dict'>.\n",
      "EcoManagerWholeHouseTx - Data Type is <class 'dict'>.\n",
      "EcoManagerTxPlug - Data Type is <class 'dict'>.\n",
      "SoundCardPowerMeter - Data Type is <class 'dict'>.\n"
     ]
    }
   ],
   "source": [
    "cnt = 0\n",
    "tmplst_dict = list()\n",
    "d = ukdale.metadata\n",
    "for e in d:\n",
    "    if type(d[e]) is dict:\n",
    "        cnt += 1\n",
    "        tmplst_dict.append(d[e])\n",
    "        print(\"{} - Data Type is {}.\".format(e,type(e)))\n",
    "#    else:\n",
    "#        print(\"{} - Data Type is {}.\".format(e,type(e)))\n",
    "\n",
    "print(\"\\nLength of dict in list = {}.\".format(len(tmplst_dict)))\n",
    "for item in tmplst_dict:\n",
    "    #if type(subitem) is dict:\n",
    "    #print(\"{} - Data Type is {}.\".format(item, type(item)))\n",
    "    print(\"...{} - {}\".format(len(item) ,type(item)))\n",
    "    for subitem in item:\n",
    "        print(\"{} - Data Type is {}.\".format(subitem, type(item[subitem])))"
   ]
  },
  {
   "cell_type": "code",
   "execution_count": 8,
   "id": "4d9310d9",
   "metadata": {
    "hidden": true
   },
   "outputs": [
    {
     "name": "stdout",
     "output_type": "stream",
     "text": [
      "cnt_lvl=0.\tcounter=0.\t#\t  -geo_location\n",
      "cnt_lvl=1.\tcounter=1.\t#\t  -timeframe\n",
      "cnt_lvl=2.\tcounter=2.\t#\t  -meter_devices\n",
      "cnt_lvl=0.\tcounter=3.\t##\t    -CurrentCostTx\n",
      "cnt_lvl=0.\tcounter=4.\t###\t      -data_logger\n",
      "cnt_lvl=1.\tcounter=5.\t###\t      -wireless_configuration\n",
      "cnt_lvl=1.\tcounter=6.\t##\t    -EcoManagerWholeHouseTx\n",
      "cnt_lvl=0.\tcounter=7.\t###\t      -data_logger\n",
      "cnt_lvl=1.\tcounter=8.\t###\t      -wireless_configuration\n",
      "cnt_lvl=2.\tcounter=9.\t##\t    -EcoManagerTxPlug\n",
      "cnt_lvl=0.\tcounter=10.\t###\t      -data_logger\n",
      "cnt_lvl=1.\tcounter=11.\t###\t      -wireless_configuration\n",
      "cnt_lvl=3.\tcounter=12.\t##\t    -SoundCardPowerMeter\n"
     ]
    }
   ],
   "source": [
    "def print_hierarchy(d,s):\n",
    "    cnt=0\n",
    "    cnt_dict = 0\n",
    "    cnt_other = 0\n",
    "    cnt_lvl = 0\n",
    "    global counter\n",
    "    s += \"#\"\n",
    "    for e in d:\n",
    "        emptysp = \"\"\n",
    "        if type(d[e]) is dict:\n",
    "            for i in range (len(s)):\n",
    "                emptysp += \"  \"\n",
    "            print(\"cnt_lvl={}.\\tcounter={}.\\t{}\\t{}-{}\".format(cnt_lvl,counter, s, emptysp, e))\n",
    "            dict_tree[e] = s\n",
    "            cnt_lvl += 1\n",
    "            counter += 1\n",
    "            cnt += print_hierarchy(d[e],s)\n",
    "        else:\n",
    "            cnt_other += 1\n",
    "    cnt_lvl -= 1\n",
    "    return cnt\n",
    "\n",
    "dict_tree = dict()\n",
    "counter = 0\n",
    "\n",
    "ret_cnt = print_hierarchy(ukdale.metadata,\"\")"
   ]
  },
  {
   "cell_type": "code",
   "execution_count": 9,
   "id": "6c662e12",
   "metadata": {
    "hidden": true
   },
   "outputs": [
    {
     "name": "stdout",
     "output_type": "stream",
     "text": [
      "\n",
      "List of Keys in 'meter_devices' -> CurrentCostTx -> measurements' sublevel\n",
      "Data type of dict_md_cct_mea is <class 'list'>.\n",
      "\n",
      "[{'upper_limit': 25000, 'lower_limit': 0, 'physical_quantity': 'power', 'type': 'apparent'}]\n"
     ]
    }
   ],
   "source": [
    "# Working with nested dictionary\n",
    "\n",
    "dict_md_cct_mea = ukdale.metadata[\"meter_devices\"][\"CurrentCostTx\"][\"measurements\"]\n",
    "print(\"\\nList of Keys in 'meter_devices' -> CurrentCostTx -> measurements' sublevel\")\n",
    "print(\"Data type of dict_md_cct_mea is {}.\\n\".format(type(ukdale.metadata[\"meter_devices\"][\"CurrentCostTx\"][\"measurements\"])))\n",
    "print(list(ukdale.metadata[\"meter_devices\"][\"CurrentCostTx\"][\"measurements\"]))"
   ]
  },
  {
   "cell_type": "markdown",
   "id": "ef8f343f",
   "metadata": {
    "hidden": true
   },
   "source": [
    "### Understanding different between **( ) { } [ ]** in python\n",
    "\n",
    "**( )** is a tuple: An immutable collection of values, usually (but not necessarily) of different types. \n",
    "\n",
    "**[ ]** is a list: A mutable collection of values, usually (but not necessarily) of the same type. \n",
    "\n",
    "**{ }** is a dict: Use a dictionary for key value pairs."
   ]
  },
  {
   "cell_type": "code",
   "execution_count": 10,
   "id": "4cbbdd52",
   "metadata": {
    "hidden": true
   },
   "outputs": [
    {
     "name": "stdout",
     "output_type": "stream",
     "text": [
      "Count of the obj_mea list = 1\n",
      "\n",
      "List of keys for dict_mea\t= ['upper_limit', 'lower_limit', 'physical_quantity', 'type']\n",
      "List of values for dict_mea\t= dict_values([25000, 0, 'power', 'apparent'])\n",
      "\n",
      "Get value for lower_limit = 25000. Data Type is <class 'int'>\n"
     ]
    }
   ],
   "source": [
    "lst_mea = ukdale.metadata[\"meter_devices\"][\"CurrentCostTx\"][\"measurements\"]\n",
    "print(\"Count of the obj_mea list = {}\".format(len(lst_mea)))\n",
    "\n",
    "dict_mea = lst_mea[0]\n",
    "print(\"\\nList of keys for dict_mea\\t= {}\".format(list(dict_mea)))\n",
    "print(\"List of values for dict_mea\\t= {}\".format(dict_mea.values()))\n",
    "\n",
    "val_ul = lst_mea[0].get(\"upper_limit\")\n",
    "print(\"\\nGet value for lower_limit = {}. Data Type is {}\".format(val_ul, type(val_ul)))"
   ]
  },
  {
   "cell_type": "markdown",
   "id": "2e5f5ecf",
   "metadata": {
    "hidden": true
   },
   "source": [
    "### Drill down ukdale.metatdata with \"dict\" data type in \"DateTime\""
   ]
  },
  {
   "cell_type": "code",
   "execution_count": 11,
   "id": "19f9cebc",
   "metadata": {
    "hidden": true
   },
   "outputs": [
    {
     "name": "stdout",
     "output_type": "stream",
     "text": [
      "Data Type for the variable of ukdale.metadata is <class 'dict'>\n",
      "\n",
      "Raw string format\n",
      "Data Type of start_date is <class 'str'>, value string is 2012-11-09T22:28:15+00:00\n",
      "Data Type of end_date is <class 'str'>, value string is 2017-04-26T18:35:53+01:00\n",
      "\n",
      "Converted the iso format\n",
      "Data Type of start_date is <class 'datetime.datetime'>, value string is 2012-11-09 22:28:15+00:00\n",
      "Data Type of end_date is <class 'datetime.datetime'>, value string is 2017-04-26 18:35:53+01:00\n",
      "\n",
      "Duration/Delta\n",
      "Total of the recorded timespan is 1628 days or 4 years\n"
     ]
    }
   ],
   "source": [
    "print(\"Data Type for the variable of ukdale.metadata is {}\".format(type(ukdale.metadata)))\n",
    "\n",
    "# Using dict - key & value  \n",
    "\n",
    "start_date_ukdale = ukdale.metadata.get(\"timeframe\").get(\"start\")\n",
    "end_date_ukdale = ukdale.metadata.get(\"timeframe\").get(\"end\")\n",
    "\n",
    "print(\"\\nRaw string format\")\n",
    "print(\"Data Type of start_date is {}, value string is {}\".format(type(start_date_ukdale), start_date_ukdale))\n",
    "print(\"Data Type of end_date is {}, value string is {}\".format(type(end_date_ukdale), end_date_ukdale))\n",
    "\n",
    "# The raw datetime string is in iso format.  As a result, it need to import the 'dateutil' library.\n",
    "# Then, convert the datetime iso format to data type of Datetime for python.\n",
    "# ts - short form of timestamp\n",
    "\n",
    "start_ts_ukdale = dateutil.parser.parse(start_date_ukdale)\n",
    "end_ts_ukdale = dateutil.parser.parse(end_date_ukdale)\n",
    "\n",
    "print(\"\\nConverted the iso format\")\n",
    "print(\"Data Type of start_date is {}, value string is {}\".format(type(start_ts_ukdale), start_ts_ukdale))\n",
    "print(\"Data Type of end_date is {}, value string is {}\".format(type(end_ts_ukdale), end_ts_ukdale))\n",
    "\n",
    "print(\"\\nDuration/Delta\")\n",
    "delta_in_days = end_ts_ukdale - start_ts_ukdale\n",
    "delta_in_years = dateutil.relativedelta.relativedelta(end_ts_ukdale, start_ts_ukdale).years\n",
    "print(\"Total of the recorded timespan is {} days or {} years\".format(delta_in_days.days, delta_in_years))"
   ]
  },
  {
   "cell_type": "markdown",
   "id": "b4f60e96",
   "metadata": {
    "hidden": true
   },
   "source": [
    "### Short Findings\n",
    "\n",
    "- Found out that the start date is 2012-11-09 until 2017-04-26 (~1628 days or ~4 years)"
   ]
  },
  {
   "cell_type": "markdown",
   "id": "1061575b",
   "metadata": {
    "heading_collapsed": true,
    "hidden": true
   },
   "source": [
    "## Search certain timeframe"
   ]
  },
  {
   "cell_type": "code",
   "execution_count": 12,
   "id": "61cd0171",
   "metadata": {
    "hidden": true
   },
   "outputs": [
    {
     "name": "stdout",
     "output_type": "stream",
     "text": [
      "OrderedDict([(1, Building(instance=1, dataset='UK-DALE')), (2, Building(instance=2, dataset='UK-DALE')), (3, Building(instance=3, dataset='UK-DALE')), (4, Building(instance=4, dataset='UK-DALE')), (5, Building(instance=5, dataset='UK-DALE'))])\n",
      "\n",
      "Data Type of ukdale.buildings = <class 'collections.OrderedDict'>. Count = 5.\n"
     ]
    }
   ],
   "source": [
    "print(ukdale.buildings)\n",
    "print(\"\\nData Type of ukdale.buildings = {}. Count = {}.\".format(type(ukdale.buildings), len(ukdale.buildings)))"
   ]
  },
  {
   "cell_type": "code",
   "execution_count": 13,
   "id": "b010d18c",
   "metadata": {
    "hidden": true
   },
   "outputs": [
    {
     "name": "stdout",
     "output_type": "stream",
     "text": [
      "TimeFrame(start='2012-11-09 22:28:18+00:00', end='2017-04-26 18:35:58.500000+01:00', empty=False)\n"
     ]
    }
   ],
   "source": [
    "# Doubt to clear!!\n",
    "#\n",
    "# The start and end date for these data should 2012 to 2017.  However, the info extratcted\n",
    "# from it that showing 1 hour data on 2013-04-01.\n",
    "#\n",
    "# Therefore, need further investigation!\n",
    "\n",
    "print(ukdale.buildings[1].elec.get_timeframe())"
   ]
  },
  {
   "cell_type": "code",
   "execution_count": 14,
   "id": "f65c0b25",
   "metadata": {
    "hidden": true
   },
   "outputs": [
    {
     "name": "stdout",
     "output_type": "stream",
     "text": [
      "buidling no = 1.\n",
      "TimeFrame(start='2012-11-09 22:28:18+00:00', end='2017-04-26 18:35:58.500000+01:00', empty=False)\n",
      "Sample Period = 6.\n",
      "Appliances = 72.\n",
      "\n",
      "\n",
      "buidling no = 2.\n",
      "TimeFrame(start='2013-02-17 15:39:19+00:00', end='2013-10-10 06:16:00.500000+01:00', empty=False)\n",
      "Sample Period = 6.\n",
      "Appliances = 18.\n",
      "\n",
      "\n",
      "buidling no = 3.\n",
      "TimeFrame(start='2013-02-27 20:35:14+00:00', end='2013-04-08 06:15:05+01:00', empty=False)\n",
      "Sample Period = 6.\n",
      "Appliances = 4.\n",
      "\n",
      "\n",
      "buidling no = 4.\n",
      "TimeFrame(start='2013-03-09 14:40:07+00:00', end='2013-10-01 06:15:14+01:00', empty=False)\n",
      "Sample Period = 6.\n",
      "Appliances = 11.\n",
      "\n",
      "\n",
      "buidling no = 5.\n",
      "TimeFrame(start='2014-06-29 17:23:43.200000048+01:00', end='2014-11-13 20:35:25.099999905+00:00', empty=False)\n",
      "Sample Period = 6.\n",
      "Appliances = 24.\n",
      "\n",
      "\n"
     ]
    }
   ],
   "source": [
    "# Loop through the Data Type of OrderedDict \n",
    "\n",
    "for item in ukdale.buildings:\n",
    "    rec = ukdale.buildings[item].elec\n",
    "    print(\"buidling no = {}.\".format(item))\n",
    "    print(rec.get_timeframe())\n",
    "    print(\"Sample Period = {}.\".format(rec.sample_period()))\n",
    "    print(\"Appliances = {}.\".format(len(rec.appliances)))\n",
    "    print(\"\\n\")"
   ]
  },
  {
   "cell_type": "markdown",
   "id": "6f0060d7",
   "metadata": {
    "heading_collapsed": true,
    "hidden": true
   },
   "source": [
    "## Extract House/Building 4 for data based on timeframe "
   ]
  },
  {
   "cell_type": "code",
   "execution_count": 21,
   "id": "31c3c70c",
   "metadata": {
    "hidden": true
   },
   "outputs": [
    {
     "data": {
      "text/plain": [
       "<matplotlib.axes._subplots.AxesSubplot at 0x1ffb6eeaee0>"
      ]
     },
     "execution_count": 21,
     "metadata": {},
     "output_type": "execute_result"
    },
    {
     "data": {
      "image/png": "[encoded data removed]",
      "text/plain": [
       "<Figure size 1500x1000 with 1 Axes>"
      ]
     },
     "metadata": {},
     "output_type": "display_data"
    }
   ],
   "source": [
    "# Select Data based on specific time range\n",
    "ukdale.set_window(start=START_TS,end=END_TS)\n",
    "house_data = ukdale.buildings[4].elec\n",
    "\n",
    "# Simple plot house 4 time series of the power consumption\n",
    "house_data.plot()"
   ]
  },
  {
   "cell_type": "markdown",
   "id": "c4a0400c",
   "metadata": {
    "heading_collapsed": true,
    "hidden": true
   },
   "source": [
    "### MetaGroup\n",
    "\n",
    "Dataset consists of various grouping of electricty meters.  There is grouping type of appliances with its sampling rate, site meter for whole house, or appliance-level submeter, or a circuit-level submeter.  The NILMTK's design has consist of the key calss is **MeterGroup**. It stores a list of meters and allows to select subset of meters, aggregate power from all meters and many other functions.\n",
    "\n",
    "To access MetaGroup objects, **nilmtk.global_meter_group**.  This holds every meter currently loaded.  There is one **MeterGroups** per building, it can access via **Building.elec** attribute.  There is also **nested MetaGroups** for aggregating togehter split-phase mains and dual-supply (240 volt) applliances in North American and Canadian datasets.  You can call the API **\".nested_metergroups()\"**."
   ]
  },
  {
   "cell_type": "code",
   "execution_count": 22,
   "id": "2e727f2c",
   "metadata": {
    "hidden": true
   },
   "outputs": [
    {
     "name": "stdout",
     "output_type": "stream",
     "text": [
      "MeterGroup(meters=\n",
      "  ElecMeter(instance=1, building=4, dataset='UK-DALE', site_meter, appliances=[])\n",
      "  ElecMeter(instance=2, building=4, dataset='UK-DALE', appliances=[Appliance(type='television', instance=1), Appliance(type='DVD player', instance=1), Appliance(type='set top box', instance=1), Appliance(type='light', instance=1)])\n",
      "  ElecMeter(instance=3, building=4, dataset='UK-DALE', appliances=[Appliance(type='kettle', instance=1), Appliance(type='radio', instance=1)])\n",
      "  ElecMeter(instance=4, building=4, dataset='UK-DALE', appliances=[Appliance(type='boiler', instance=1)])\n",
      "  ElecMeter(instance=5, building=4, dataset='UK-DALE', appliances=[Appliance(type='freezer', instance=1)])\n",
      "  ElecMeter(instance=6, building=4, dataset='UK-DALE', appliances=[Appliance(type='washing machine', instance=1), Appliance(type='microwave', instance=1), Appliance(type='breadmaker', instance=1)])\n",
      ")\n",
      "\n",
      "Data Type for the variable of house_data is <class 'nilmtk.metergroup.MeterGroup'>.\n"
     ]
    }
   ],
   "source": [
    "print(house_data)\n",
    "\n",
    "print(\"\\nData Type for the variable of house_data is {}.\".format(type(house_data)))"
   ]
  },
  {
   "cell_type": "code",
   "execution_count": 23,
   "id": "8cecdc28",
   "metadata": {
    "hidden": true
   },
   "outputs": [
    {
     "data": {
      "text/plain": [
       "ElecMeter(instance=1, building=4, dataset='UK-DALE', site_meter, appliances=[])"
      ]
     },
     "execution_count": 23,
     "metadata": {},
     "output_type": "execute_result"
    }
   ],
   "source": [
    "house_data.mains()"
   ]
  },
  {
   "cell_type": "markdown",
   "id": "8c31b422",
   "metadata": {
    "hidden": true
   },
   "source": [
    "***WORKOUT!***\n",
    "\n",
    "* There isn't any nested MetaGroups in this MeterGroup object.  You can try out and find out any nested group in other similiar object or change different house/building. On the other hand, you can also review the documentation of UK-DALE dataset.*"
   ]
  },
  {
   "cell_type": "markdown",
   "id": "84b6d630",
   "metadata": {
    "heading_collapsed": true,
    "hidden": true
   },
   "source": [
    "### Load all columns data (default) to a dataframe\n",
    "\n",
    "This is to show ways of loading data from a NILMTK DataStore into the memory, as a dataframe.  The load function returns a generator of DataFrames loaded from the DataStore based on the conditions specified. If no conditions are specified, then all data from all the columns is loaded. This is a quick guide to [Python generators.](http://stackoverflow.com/a/1756156/732596)"
   ]
  },
  {
   "cell_type": "code",
   "execution_count": 24,
   "id": "70764ec3",
   "metadata": {
    "hidden": true
   },
   "outputs": [
    {
     "name": "stdout",
     "output_type": "stream",
     "text": [
      "ElecMeter(instance=1, building=4, dataset='UK-DALE', site_meter, appliances=[])\n"
     ]
    },
    {
     "data": {
      "text/html": [
       "<div>\n",
       "<style scoped>\n",
       "    .dataframe tbody tr th:only-of-type {\n",
       "        vertical-align: middle;\n",
       "    }\n",
       "\n",
       "    .dataframe tbody tr th {\n",
       "        vertical-align: top;\n",
       "    }\n",
       "\n",
       "    .dataframe thead tr th {\n",
       "        text-align: left;\n",
       "    }\n",
       "</style>\n",
       "<table border=\"1\" class=\"dataframe\">\n",
       "  <thead>\n",
       "    <tr>\n",
       "      <th>physical_quantity</th>\n",
       "      <th>power</th>\n",
       "    </tr>\n",
       "    <tr>\n",
       "      <th>type</th>\n",
       "      <th>apparent</th>\n",
       "    </tr>\n",
       "  </thead>\n",
       "  <tbody>\n",
       "    <tr>\n",
       "      <th>2013-04-01 00:00:00+01:00</th>\n",
       "      <td>433.600006</td>\n",
       "    </tr>\n",
       "    <tr>\n",
       "      <th>2013-04-01 00:00:30+01:00</th>\n",
       "      <td>625.000000</td>\n",
       "    </tr>\n",
       "    <tr>\n",
       "      <th>2013-04-01 00:01:00+01:00</th>\n",
       "      <td>476.799988</td>\n",
       "    </tr>\n",
       "    <tr>\n",
       "      <th>2013-04-01 00:01:30+01:00</th>\n",
       "      <td>482.000000</td>\n",
       "    </tr>\n",
       "    <tr>\n",
       "      <th>2013-04-01 00:02:00+01:00</th>\n",
       "      <td>482.600006</td>\n",
       "    </tr>\n",
       "  </tbody>\n",
       "</table>\n",
       "</div>"
      ],
      "text/plain": [
       "physical_quantity               power\n",
       "type                         apparent\n",
       "2013-04-01 00:00:00+01:00  433.600006\n",
       "2013-04-01 00:00:30+01:00  625.000000\n",
       "2013-04-01 00:01:00+01:00  476.799988\n",
       "2013-04-01 00:01:30+01:00  482.000000\n",
       "2013-04-01 00:02:00+01:00  482.600006"
      ]
     },
     "execution_count": 24,
     "metadata": {},
     "output_type": "execute_result"
    }
   ],
   "source": [
    "#\n",
    "# Load 'site_meter' (aggregated data) to variable \"main_df\" dataframe\n",
    "#\n",
    "# Sample Period is in second. It can be resampling to a specified period, eg 12, 24, 30 or 60.\n",
    "# Default sample rate is 6 second per log\n",
    "#\n",
    "print(house_data[1])\n",
    "main_df = next(house_data[1].load(sample_period=30))\n",
    "\n",
    "main_df.head()"
   ]
  },
  {
   "cell_type": "code",
   "execution_count": 18,
   "id": "18c892d7",
   "metadata": {
    "hidden": true
   },
   "outputs": [
    {
     "data": {
      "text/plain": [
       "[ElecMeter(instance=1, building=4, dataset='UK-DALE', site_meter, appliances=[]),\n",
       " ElecMeter(instance=2, building=4, dataset='UK-DALE', appliances=[Appliance(type='television', instance=1), Appliance(type='DVD player', instance=1), Appliance(type='set top box', instance=1), Appliance(type='light', instance=1)]),\n",
       " ElecMeter(instance=3, building=4, dataset='UK-DALE', appliances=[Appliance(type='kettle', instance=1), Appliance(type='radio', instance=1)]),\n",
       " ElecMeter(instance=4, building=4, dataset='UK-DALE', appliances=[Appliance(type='boiler', instance=1)]),\n",
       " ElecMeter(instance=5, building=4, dataset='UK-DALE', appliances=[Appliance(type='freezer', instance=1)]),\n",
       " ElecMeter(instance=6, building=4, dataset='UK-DALE', appliances=[Appliance(type='washing machine', instance=1), Appliance(type='microwave', instance=1), Appliance(type='breadmaker', instance=1)])]"
      ]
     },
     "execution_count": 18,
     "metadata": {},
     "output_type": "execute_result"
    }
   ],
   "source": [
    "# Print all available meters and appliance in house 4\n",
    "\n",
    "house_data.all_meters()"
   ]
  },
  {
   "cell_type": "markdown",
   "id": "9b5873f0",
   "metadata": {
    "hidden": true
   },
   "source": [
    "### Load only washing machine to dataframe"
   ]
  },
  {
   "cell_type": "code",
   "execution_count": 26,
   "id": "cb75f6a6",
   "metadata": {
    "hidden": true
   },
   "outputs": [
    {
     "name": "stdout",
     "output_type": "stream",
     "text": [
      "ElecMeter(instance=6, building=4, dataset='UK-DALE', appliances=[Appliance(type='washing machine', instance=1), Appliance(type='microwave', instance=1), Appliance(type='breadmaker', instance=1)])\n",
      "physical_quantity          power\n",
      "type                      active\n",
      "2013-04-01 00:00:05+01:00    0.0\n",
      "2013-04-01 00:00:11+01:00    0.0\n",
      "2013-04-01 00:00:17+01:00    0.0\n",
      "2013-04-01 00:00:23+01:00    0.0\n",
      "2013-04-01 00:00:29+01:00    0.0\n",
      "...                          ...\n",
      "2013-04-01 11:59:33+01:00    0.0\n",
      "2013-04-01 11:59:39+01:00    0.0\n",
      "2013-04-01 11:59:45+01:00    0.0\n",
      "2013-04-01 11:59:51+01:00    0.0\n",
      "2013-04-01 11:59:57+01:00    0.0\n",
      "\n",
      "[7041 rows x 1 columns]\n"
     ]
    },
    {
     "data": {
      "text/plain": [
       "<matplotlib.axes._subplots.AxesSubplot at 0x1ffb6b2e700>"
      ]
     },
     "execution_count": 26,
     "metadata": {},
     "output_type": "execute_result"
    },
    {
     "data": {
      "image/png": "[encoded data removed]",
      "text/plain": [
       "<Figure size 1500x1000 with 1 Axes>"
      ]
     },
     "metadata": {},
     "output_type": "display_data"
    }
   ],
   "source": [
    "print(house_data['washing machine'])\n",
    "df_wm = next(house_data['washing machine'].load())\n",
    "print(df_wm)\n",
    "df_wm.plot()"
   ]
  },
  {
   "cell_type": "markdown",
   "id": "750b71c3",
   "metadata": {
    "hidden": true
   },
   "source": [
    "***WORKOUT!***\n",
    "\n",
    "*You can practice to zoom to the interesting time zone, and further exploring the statistical analysis.*"
   ]
  },
  {
   "cell_type": "code",
   "execution_count": 20,
   "id": "ff2d43f4",
   "metadata": {
    "hidden": true
   },
   "outputs": [
    {
     "data": {
      "text/html": [
       "<div>\n",
       "<style scoped>\n",
       "    .dataframe tbody tr th:only-of-type {\n",
       "        vertical-align: middle;\n",
       "    }\n",
       "\n",
       "    .dataframe tbody tr th {\n",
       "        vertical-align: top;\n",
       "    }\n",
       "\n",
       "    .dataframe thead tr th {\n",
       "        text-align: left;\n",
       "    }\n",
       "</style>\n",
       "<table border=\"1\" class=\"dataframe\">\n",
       "  <thead>\n",
       "    <tr>\n",
       "      <th>physical_quantity</th>\n",
       "      <th>power</th>\n",
       "    </tr>\n",
       "    <tr>\n",
       "      <th>type</th>\n",
       "      <th>active</th>\n",
       "    </tr>\n",
       "  </thead>\n",
       "  <tbody>\n",
       "    <tr>\n",
       "      <th>count</th>\n",
       "      <td>7041.000000</td>\n",
       "    </tr>\n",
       "    <tr>\n",
       "      <th>mean</th>\n",
       "      <td>90.950714</td>\n",
       "    </tr>\n",
       "    <tr>\n",
       "      <th>std</th>\n",
       "      <td>398.856598</td>\n",
       "    </tr>\n",
       "    <tr>\n",
       "      <th>min</th>\n",
       "      <td>0.000000</td>\n",
       "    </tr>\n",
       "    <tr>\n",
       "      <th>25%</th>\n",
       "      <td>0.000000</td>\n",
       "    </tr>\n",
       "    <tr>\n",
       "      <th>50%</th>\n",
       "      <td>0.000000</td>\n",
       "    </tr>\n",
       "    <tr>\n",
       "      <th>75%</th>\n",
       "      <td>0.000000</td>\n",
       "    </tr>\n",
       "    <tr>\n",
       "      <th>max</th>\n",
       "      <td>3171.000000</td>\n",
       "    </tr>\n",
       "  </tbody>\n",
       "</table>\n",
       "</div>"
      ],
      "text/plain": [
       "physical_quantity        power\n",
       "type                    active\n",
       "count              7041.000000\n",
       "mean                 90.950714\n",
       "std                 398.856598\n",
       "min                   0.000000\n",
       "25%                   0.000000\n",
       "50%                   0.000000\n",
       "75%                   0.000000\n",
       "max                3171.000000"
      ]
     },
     "execution_count": 20,
     "metadata": {},
     "output_type": "execute_result"
    }
   ],
   "source": [
    "df_wm.describe()"
   ]
  },
  {
   "cell_type": "markdown",
   "id": "e94e8361",
   "metadata": {
    "hidden": true
   },
   "source": [
    "***WORKOUT!***\n",
    "\n",
    "*Various sampling rate setting may provide different slice-and-dice of the description.  It also can further the statistical analysis with std and mean.*"
   ]
  },
  {
   "cell_type": "markdown",
   "id": "b5168205",
   "metadata": {
    "hidden": true
   },
   "source": [
    "### Get column data and  load specfic column of data\n",
    "\n",
    "This is to show how to extract specify column of data.  It picks washine machine as an example.  Thus, api '.available_columns' is to show all the columns name.\n",
    "\n",
    "Also, it can load specific data to another data type, which is pandas series.  This utilize the API of '.power_series()'.  It provides a generator of one dimenstional pandas.Series objects, each containing power data."
   ]
  },
  {
   "cell_type": "code",
   "execution_count": 21,
   "id": "b80cce85",
   "metadata": {
    "hidden": true
   },
   "outputs": [
    {
     "data": {
      "text/plain": [
       "[('power', 'active')]"
      ]
     },
     "execution_count": 21,
     "metadata": {},
     "output_type": "execute_result"
    }
   ],
   "source": [
    "# Get column header\n",
    "\n",
    "obj_wm = house_data['washing machine']\n",
    "obj_wm.available_columns()"
   ]
  },
  {
   "cell_type": "code",
   "execution_count": 22,
   "id": "0a8febe9",
   "metadata": {
    "hidden": true
   },
   "outputs": [
    {
     "data": {
      "text/plain": [
       "2013-04-01 00:00:05+01:00    0.0\n",
       "2013-04-01 00:00:11+01:00    0.0\n",
       "2013-04-01 00:00:17+01:00    0.0\n",
       "2013-04-01 00:00:23+01:00    0.0\n",
       "2013-04-01 00:00:29+01:00    0.0\n",
       "Name: (power, active), dtype: float32"
      ]
     },
     "execution_count": 22,
     "metadata": {},
     "output_type": "execute_result"
    }
   ],
   "source": [
    "series_wm = next(obj_wm.power_series())\n",
    "series_wm.head()"
   ]
  },
  {
   "cell_type": "markdown",
   "id": "300776b5",
   "metadata": {
    "hidden": true
   },
   "source": [
    "***Notes:***\n",
    "\n",
    "*Due to the current dataset only providing (power, active) single column value, therefore, it cannot specify other. It can do in below argument to the function.  If there is 'reactive', 'active' or 'voltage'. Below are the code reference.*\n",
    "\n",
    "```\n",
    "obj_tv = elec['television']\n",
    "\n",
    "df = next(obj_tv.load(physical_quantity='voltage'))\n",
    "df = next(obj_tv.load(physical_quantity='power', ac_type='reactive'))\n",
    "df = next(obj_tv.load(ac_type='active'))\n",
    "```"
   ]
  },
  {
   "cell_type": "markdown",
   "id": "8e1dae94",
   "metadata": {
    "heading_collapsed": true,
    "hidden": true
   },
   "source": [
    "##  APIs of Stats for MeterGroups"
   ]
  },
  {
   "cell_type": "markdown",
   "id": "870a6ffe",
   "metadata": {
    "heading_collapsed": true,
    "hidden": true
   },
   "source": [
    "### Using Pandas Series to perform simple analysis\n",
    "\n",
    "**House  power consumption extract from \"main\" meter with simple plot**."
   ]
  },
  {
   "cell_type": "code",
   "execution_count": 23,
   "id": "d6fcdedf",
   "metadata": {
    "hidden": true
   },
   "outputs": [
    {
     "data": {
      "text/plain": [
       "2013-04-01 00:00:05+01:00    431.0\n",
       "2013-04-01 00:00:11+01:00    437.0\n",
       "2013-04-01 00:00:17+01:00    436.0\n",
       "2013-04-01 00:00:23+01:00    432.0\n",
       "2013-04-01 00:00:29+01:00    432.0\n",
       "Name: (power, apparent), dtype: float32"
      ]
     },
     "execution_count": 23,
     "metadata": {},
     "output_type": "execute_result"
    }
   ],
   "source": [
    "house_data.mains().power_series_all_data().head()"
   ]
  },
  {
   "cell_type": "code",
   "execution_count": 24,
   "id": "a7ea0645",
   "metadata": {
    "hidden": true
   },
   "outputs": [
    {
     "data": {
      "text/plain": [
       "<matplotlib.axes._subplots.AxesSubplot at 0x259e3d9bf40>"
      ]
     },
     "execution_count": 24,
     "metadata": {},
     "output_type": "execute_result"
    },
    {
     "data": {
      "image/png": "[encoded data removed]",
      "text/plain": [
       "<Figure size 1500x1000 with 1 Axes>"
      ]
     },
     "metadata": {},
     "output_type": "display_data"
    }
   ],
   "source": [
    "house_data.mains().power_series_all_data().plot()"
   ]
  },
  {
   "cell_type": "code",
   "execution_count": 25,
   "id": "e5917332",
   "metadata": {
    "hidden": true
   },
   "outputs": [
    {
     "name": "stdout",
     "output_type": "stream",
     "text": [
      "Start Date    : 2013-04-01 00:00:00\n",
      "End Date      : 2013-04-01 12:00:00\n",
      "\n",
      "Total of Hours (hr:min:sec)  = 12:00:00\n",
      "Total of power consumption   = 2953268.00\n",
      "Median of power consumption  = 236.00\n",
      "Average of power consumption = 420.10\n"
     ]
    }
   ],
   "source": [
    "start_dtts = dateutil.parser.parse(START_TS)\n",
    "end_dtts = dateutil.parser.parse(END_TS)\n",
    "delta_in_days = end_dtts - start_dtts\n",
    "\n",
    "print(\"Start Date    : {}\".format(START_TS))\n",
    "print(\"End Date      : {}\\n\".format(END_TS))\n",
    "print(\"Total of Hours (hr:min:sec)  = {}\".format(delta_in_days))\n",
    "print(\"Total of power consumption   = {:.2f}\".format(house_data.mains().power_series_all_data().sum()))\n",
    "print(\"Median of power consumption  = {:.2f}\".format(house_data.mains().power_series_all_data().median()))\n",
    "print(\"Average of power consumption = {:.2f}\".format(house_data.mains().power_series_all_data().mean()))"
   ]
  },
  {
   "cell_type": "markdown",
   "id": "a3f3f624",
   "metadata": {
    "hidden": true
   },
   "source": [
    "***WORKOUT!***\n",
    "\n",
    "*You can practice to create histogram chart to group by hours, and further exploring the statistical analysis.*"
   ]
  },
  {
   "cell_type": "markdown",
   "id": "b3dd75e6",
   "metadata": {
    "heading_collapsed": true,
    "hidden": true
   },
   "source": [
    "### Using NILMTK APIs to perform statistical analysis"
   ]
  },
  {
   "cell_type": "markdown",
   "id": "45b1d268",
   "metadata": {
    "hidden": true
   },
   "source": [
    "This is to see the proportion of energy submetered in house/building 4"
   ]
  },
  {
   "cell_type": "code",
   "execution_count": 26,
   "id": "1a9106f1",
   "metadata": {
    "hidden": true
   },
   "outputs": [
    {
     "name": "stdout",
     "output_type": "stream",
     "text": [
      "Running MeterGroup.proportion_of_energy_submetered...\n"
     ]
    },
    {
     "data": {
      "text/plain": [
       "0.47063977997579187"
      ]
     },
     "execution_count": 26,
     "metadata": {},
     "output_type": "execute_result"
    }
   ],
   "source": [
    "house_data.proportion_of_energy_submetered()"
   ]
  },
  {
   "cell_type": "code",
   "execution_count": 27,
   "id": "b9861985",
   "metadata": {
    "hidden": true
   },
   "outputs": [
    {
     "data": {
      "text/plain": [
       "['apparent', 'active']"
      ]
     },
     "execution_count": 27,
     "metadata": {},
     "output_type": "execute_result"
    }
   ],
   "source": [
    "house_data.available_ac_types('power')"
   ]
  },
  {
   "cell_type": "code",
   "execution_count": 28,
   "id": "150a8c81",
   "metadata": {
    "hidden": true
   },
   "outputs": [
    {
     "data": {
      "text/plain": [
       "['apparent']"
      ]
     },
     "execution_count": 28,
     "metadata": {},
     "output_type": "execute_result"
    }
   ],
   "source": [
    "house_data.mains().available_ac_types('power')"
   ]
  },
  {
   "cell_type": "code",
   "execution_count": 29,
   "id": "b51f8455",
   "metadata": {
    "hidden": true
   },
   "outputs": [
    {
     "data": {
      "text/plain": [
       "['active']"
      ]
     },
     "execution_count": 29,
     "metadata": {},
     "output_type": "execute_result"
    }
   ],
   "source": [
    "house_data.submeters().available_ac_types('power')"
   ]
  },
  {
   "cell_type": "code",
   "execution_count": 30,
   "id": "be0349c1",
   "metadata": {
    "hidden": true
   },
   "outputs": [
    {
     "data": {
      "text/plain": [
       "apparent    5.003591\n",
       "dtype: float64"
      ]
     },
     "execution_count": 30,
     "metadata": {},
     "output_type": "execute_result"
    }
   ],
   "source": [
    "# Total Energy returns in 'kWh'\n",
    "\n",
    "house_data.mains().total_energy() "
   ]
  },
  {
   "cell_type": "code",
   "execution_count": 31,
   "id": "332823d1",
   "metadata": {
    "hidden": true
   },
   "outputs": [
    {
     "name": "stdout",
     "output_type": "stream",
     "text": [
      "5/5 ElecMeter(instance=6, building=4, dataset='UK-DALE', appliances=[Appliance(type='washing machine', instance=1), Appliance(type='microwave', instance=1), Appliance(type='breadmaker', instance=1)])liance(type='light', instance=1)])"
     ]
    },
    {
     "data": {
      "text/html": [
       "<div>\n",
       "<style scoped>\n",
       "    .dataframe tbody tr th:only-of-type {\n",
       "        vertical-align: middle;\n",
       "    }\n",
       "\n",
       "    .dataframe tbody tr th {\n",
       "        vertical-align: top;\n",
       "    }\n",
       "\n",
       "    .dataframe thead th {\n",
       "        text-align: right;\n",
       "    }\n",
       "</style>\n",
       "<table border=\"1\" class=\"dataframe\">\n",
       "  <thead>\n",
       "    <tr style=\"text-align: right;\">\n",
       "      <th></th>\n",
       "      <th>(2, 4, UK-DALE)</th>\n",
       "      <th>(3, 4, UK-DALE)</th>\n",
       "      <th>(4, 4, UK-DALE)</th>\n",
       "      <th>(5, 4, UK-DALE)</th>\n",
       "      <th>(6, 4, UK-DALE)</th>\n",
       "    </tr>\n",
       "  </thead>\n",
       "  <tbody>\n",
       "    <tr>\n",
       "      <th>active</th>\n",
       "      <td>0.165139</td>\n",
       "      <td>0.274928</td>\n",
       "      <td>0.536349</td>\n",
       "      <td>0.305463</td>\n",
       "      <td>1.073009</td>\n",
       "    </tr>\n",
       "    <tr>\n",
       "      <th>apparent</th>\n",
       "      <td>NaN</td>\n",
       "      <td>NaN</td>\n",
       "      <td>NaN</td>\n",
       "      <td>NaN</td>\n",
       "      <td>NaN</td>\n",
       "    </tr>\n",
       "    <tr>\n",
       "      <th>reactive</th>\n",
       "      <td>NaN</td>\n",
       "      <td>NaN</td>\n",
       "      <td>NaN</td>\n",
       "      <td>NaN</td>\n",
       "      <td>NaN</td>\n",
       "    </tr>\n",
       "  </tbody>\n",
       "</table>\n",
       "</div>"
      ],
      "text/plain": [
       "          (2, 4, UK-DALE)  (3, 4, UK-DALE)  (4, 4, UK-DALE)  (5, 4, UK-DALE)  \\\n",
       "active           0.165139         0.274928         0.536349         0.305463   \n",
       "apparent              NaN              NaN              NaN              NaN   \n",
       "reactive              NaN              NaN              NaN              NaN   \n",
       "\n",
       "          (6, 4, UK-DALE)  \n",
       "active           1.073009  \n",
       "apparent              NaN  \n",
       "reactive              NaN  "
      ]
     },
     "execution_count": 31,
     "metadata": {},
     "output_type": "execute_result"
    }
   ],
   "source": [
    "# Energy use per submeter\n",
    "\n",
    "house_data.submeters().energy_per_meter()"
   ]
  },
  {
   "cell_type": "markdown",
   "id": "99847946",
   "metadata": {
    "heading_collapsed": true
   },
   "source": [
    "# Your Summary and Finding\n",
    "\n",
    "Let's exercise here, and further this initial data exploration with its analysis.  Then, you provide the summary and findings here. \n",
    "\n",
    "- Created Date: ??\n",
    "- Updated Date: ??\n",
    "\n",
    "**Findings:**\n",
    "- ?\n",
    "- ?\n",
    "- ?"
   ]
  },
  {
   "cell_type": "code",
   "execution_count": null,
   "id": "afe19a6f-491f-4fe6-948e-372f74a2a994",
   "metadata": {},
   "outputs": [],
   "source": []
  }
 ],
 "metadata": {
  "kernelspec": {
   "display_name": "Python 3 (ipykernel)",
   "language": "python",
   "name": "python3"
  },
  "language_info": {
   "codemirror_mode": {
    "name": "ipython",
    "version": 3
   },
   "file_extension": ".py",
   "mimetype": "text/x-python",
   "name": "python",
   "nbconvert_exporter": "python",
   "pygments_lexer": "ipython3",
   "version": "3.8.17"
  },
  "toc": {
   "base_numbering": 1,
   "nav_menu": {
    "height": "157px",
    "width": "320px"
   },
   "number_sections": true,
   "sideBar": true,
   "skip_h1_title": false,
   "title_cell": "Table of Contents",
   "title_sidebar": "Contents",
   "toc_cell": false,
   "toc_position": {},
   "toc_section_display": true,
   "toc_window_display": false
  }
 },
 "nbformat": 4,
 "nbformat_minor": 5
}
