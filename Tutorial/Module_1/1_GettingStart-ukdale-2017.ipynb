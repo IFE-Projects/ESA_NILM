{
 "cells": [
  {
   "cell_type": "markdown",
   "id": "bcfb1c63",
   "metadata": {
    "heading_collapsed": true
   },
   "source": [
    "# Overview UK-DALE 2017 Dataset\n",
    "\n",
    "NILMTK uses an open file format based on the HDF5 binary file format to store both the power data and the metadata. The very first step when using NILMTK is to convert your dataset to the NILMTK HDF5 file format.\n",
    "\n",
    "UK Domestic Appliance Level Electricity (UK-DALE).  This is the full UK-DALE-disaggregated h5 format data, which had ~5GB raw size.\n",
    "\n",
    "Created at: **11/4/2022**\n",
    "\n",
    "**References**\n",
    "- [General Info for UK-DALE 2017](https://data.ukedc.rl.ac.uk/browse/edc/efficiency/residential/EnergyConsumption/Domestic/UK-DALE-2017/ReadMe_DALE-2017.html)\n",
    "- [Download Raw Dataset at ukedc](https://data.ukedc.rl.ac.uk/browse/edc/efficiency/residential/EnergyConsumption/Domestic/UK-DALE-2017/UK-DALE-FULL-disaggregated)\n",
    "- [More NILMTK APIs](http://nilmtk.github.io/nilmtk/master/index.html)\n",
    "- HDF5 - Hierarchical Data Formats\n",
    "  - [What is HDF5 format](https://en.wikipedia.org/wiki/Hierarchical_Data_Format)\n",
    "  - [HDF5 for Python](https://www.h5py.org)\n",
    "- Documentation\n",
    "  - [Google Python Style Guide](https://google.github.io/styleguide/pyguide.html)\n",
    "  - [Markdown Cheat Sheet -MD](https://www.markdownguide.org/cheat-sheet/)\n",
    "  - [pandas 0.25.3 Documentation](https://pandas.pydata.org/pandas-docs/version/0.25.3/)\n",
    "  - [series Documentation](https://pandas.pydata.org/pandas-docs/version/0.25.3/reference/series.html)\n",
    "  - [Python 3.6.10 Documentation](https://docs.python.org/release/3.6.10/)\n"
   ]
  },
  {
   "cell_type": "markdown",
   "id": "1f351af8",
   "metadata": {
    "heading_collapsed": true
   },
   "source": [
    "# Initialization for Python and NILMTK\n"
   ]
  },
  {
   "cell_type": "code",
   "execution_count": 1,
   "id": "a2485785",
   "metadata": {
    "hidden": true
   },
   "outputs": [],
   "source": [
    "import os\n",
    "import platform\n",
    "import sys\n",
    "\n",
    "import pandas as pd\n",
    "\n",
    "import nilmtk as ntk"
   ]
  },
  {
   "cell_type": "markdown",
   "id": "77d93e83",
   "metadata": {
    "hidden": true
   },
   "source": [
    "## Get Version Information"
   ]
  },
  {
   "cell_type": "code",
   "execution_count": 3,
   "id": "188da781",
   "metadata": {
    "hidden": true
   },
   "outputs": [
    {
     "name": "stdout",
     "output_type": "stream",
     "text": [
      "Python Version: 3.8.17 | packaged by conda-forge | (default, Jun 16 2023, 07:01:59) [MSC v.1929 64 bit (AMD64)]\n",
      "Pandas Version: 0.25.3\n",
      "NILMTK Version: 0.4.0.dev1+git.303d45b\n",
      "OS Version:     Windows-10-10.0.19045-SP0\n"
     ]
    }
   ],
   "source": [
    "print(\"Python Version: {}\".format(sys.version))\n",
    "print(\"Pandas Version: {}\".format(pd.__version__))\n",
    "print(\"NILMTK Version: {}\".format(ntk.__version__))\n",
    "print(\"OS Version:     {}\".format(platform.platform()))"
   ]
  },
  {
   "cell_type": "markdown",
   "id": "f5f6b432",
   "metadata": {
    "hidden": true
   },
   "source": [
    "## Define Global, Constant Variables and Functions"
   ]
  },
  {
   "cell_type": "code",
   "execution_count": 7,
   "id": "da09000a-709a-40bd-b785-84e67e407463",
   "metadata": {},
   "outputs": [],
   "source": [
    "path = f\"../../../ukdale\"\n",
    "FILENAME = fr\"{path}/ukdale.h5\"\n",
    "if os.path.isfile(FILENAME) == False:\n",
    "    from nilmtk.dataset_converters import convert_ukdale\n",
    "    convert_ukdale(path, f'{path}/ukdale.h5')"
   ]
  },
  {
   "cell_type": "markdown",
   "id": "f129231d",
   "metadata": {
    "hidden": true
   },
   "source": [
    "## Open UK-DALE 2017 HDF5 file in NILMTK"
   ]
  },
  {
   "cell_type": "code",
   "execution_count": 8,
   "id": "5f623049",
   "metadata": {
    "hidden": true
   },
   "outputs": [
    {
     "name": "stdout",
     "output_type": "stream",
     "text": [
      "Raw h5 file size is ~5.87GB\n",
      "ds data type is <class 'nilmtk.dataset.DataSet'>\n"
     ]
    }
   ],
   "source": [
    "ds = ntk.DataSet(FILENAME)\n",
    "\n",
    "raw_file_size = os.path.getsize(FILENAME)\n",
    "print(\"Raw h5 file size is ~{:.2f}GB\".format(raw_file_size / 1024 / 1024 / 1024))\n",
    "print(\"ds data type is {}\".format(type(ds)))"
   ]
  },
  {
   "cell_type": "markdown",
   "id": "44192d5c",
   "metadata": {
    "heading_collapsed": true
   },
   "source": [
    "# Exploring the Dataset\n",
    "\n",
    "This is to hava a quick look into whats in UK-DALE dataset object.  \n",
    "\n",
    "Reference:\n",
    "- [Python 3.6 Doc - collection.OrderedDict](https://docs.python.org/3.6/library/collections.html#ordereddict-objects)\n",
    "- [Python 3.6 Doc - dict](https://docs.python.org/3.6/tutorial/datastructures.html#dictionaries)"
   ]
  },
  {
   "cell_type": "markdown",
   "id": "d36b3033",
   "metadata": {
    "heading_collapsed": true,
    "hidden": true
   },
   "source": [
    "## Dataset.Metadata \n",
    "There is a lot of metadata associated with the dataset, including information about the \n",
    "models of meter device the authors used to record UK-DALE."
   ]
  },
  {
   "cell_type": "markdown",
   "id": "ce845ed1",
   "metadata": {
    "hidden": true
   },
   "source": [
    "### Print out the metadata to see the key and value"
   ]
  },
  {
   "cell_type": "code",
   "execution_count": 9,
   "id": "efcef167",
   "metadata": {
    "hidden": true
   },
   "outputs": [
    {
     "name": "stdout",
     "output_type": "stream",
     "text": [
      "<class 'dict'>\n"
     ]
    },
    {
     "data": {
      "text/html": [
       "<ul><li><strong>contact</strong>: jack.kelly@imperial.ac.uk</li><li><strong>creators</strong>: <ul><li>Kelly, Jack</li></ul></li><li><strong>date</strong>: 2017-04-26</li><li><strong>description</strong>: Appliance-by-appliance and whole-home power demand for 5 UK homes. Appliance power demand was recorded once every 6 seconds. Whole-home power demand was recorded once every 6 seconds for all homes and additionally at 16kHz for homes 1, 2 and 5. Detailed metadata is included.</li><li><strong>description_of_subjects</strong>: 4 MSc students and 1 PhD student.</li><li><strong>funding</strong>: <ul><li>Jack Kelly's PhD is funded by an EPSRC DTA</li><li>Hardware necessary for this project was funded from Jack Kelly's Intel EU PhD Fellowship</li></ul></li><li><strong>geo_location</strong>: <ul><li><strong>country</strong>: GB</li><li><strong>latitude</strong>: 51.464462</li><li><strong>locality</strong>: London</li><li><strong>longitude</strong>: -0.076544</li></ul></li><li><strong>geospatial_coverage</strong>: Southern England</li><li><strong>institution</strong>: Imperial College London</li><li><strong>long_name</strong>: UK Domestic Appliance-Level Electricity</li><li><strong>name</strong>: UK-DALE</li><li><strong>number_of_buildings</strong>: 5</li><li><strong>publisher</strong>: UK Energy Research Centre Energy Data Centre (UKERC EDC)</li><li><strong>related_documents</strong>: <ul><li>Jack Kelly and William Knottenbelt. The UK-DALE dataset, domestic appliance-level electricity demand and whole-house demand from five UK homes.  To appear in Scientific Data 2:150007.  DOI:10.1038/sdata.2015.7 arXiv:1404.0284 (2015).</li><li>Dataset is available for download from <a href=\"http://www.doc.ic.ac.uk/~dk3810/data/\">http://www.doc.ic.ac.uk/~dk3810/data/</a></li><li>Dataset is also available from the UK Energy Research Council's Energy Data Centre: The 1-second data is available from <a href=\"http://data.ukedc.rl.ac.uk/cgi-bin/dataset_catalogue/view.cgi.py?id=19\">http://data.ukedc.rl.ac.uk/cgi-bin/dataset_catalogue/view.cgi.py?id=19</a> and the 6-second data is available from <a href=\"http://data.ukedc.rl.ac.uk/cgi-bin/dataset_catalogue/view.cgi.py?id=18\">http://data.ukedc.rl.ac.uk/cgi-bin/dataset_catalogue/view.cgi.py?id=18</a> but please note that this archive is updated less frequently than the data on www.doc.ic.ac.uk/~dk3810/data/</li></ul></li><li><strong>rights_list</strong>: <ul><li>{'name': 'Creative Commons Attribution 4.0 International (CC BY 4.0)', 'uri': 'http://creativecommons.org/licenses/by/4.0/'}</li></ul></li><li><strong>schema</strong>: <a href=\"https://github.com/nilmtk/nilm_metadata/tree/v0.2\">https://github.com/nilmtk/nilm_metadata/tree/v0.2</a></li><li><strong>subject</strong>: Disaggregated domestic electricity demand</li><li><strong>timeframe</strong>: <ul><li><strong>end</strong>: 2017-04-26T18:35:53+01:00</li><li><strong>start</strong>: 2012-11-09T22:28:15+00:00</li></ul></li><li><strong>timezone</strong>: Europe/London</li><li><strong>meter_devices</strong>: <ul><li><strong>CurrentCostTx</strong>: <ul><li><strong>data_logger</strong>: <ul><li><strong>creators</strong>: <ul><li>Jack Kelly</li></ul></li><li><strong>model</strong>: rfm_ecomanager_logger</li><li><strong>model_url</strong>: <a href=\"https://github.com/JackKelly/rfm_ecomanager_logger\">https://github.com/JackKelly/rfm_ecomanager_logger</a></li></ul></li><li><strong>manufacturer</strong>: Current Cost</li><li><strong>max_sample_period</strong>: 120</li><li><strong>measurements</strong>: <ul><li>{'upper_limit': 25000, 'lower_limit': 0, 'physical_quantity': 'power', 'type': 'apparent'}</li></ul></li><li><strong>model</strong>: CurrentCost Tx</li><li><strong>model_url</strong>: <a href=\"http://www.currentcost.com/product-transmitter.html\">http://www.currentcost.com/product-transmitter.html</a></li><li><strong>sample_period</strong>: 6</li><li><strong>wireless</strong>: True</li><li><strong>wireless_configuration</strong>: <ul><li><strong>base</strong>: creators: [Jack Kelly] model: rfm_edf_ecomanager model_url: <a href=\"https://github.com/JackKelly/rfm_edf_ecomanager/\">https://github.com/JackKelly/rfm_edf_ecomanager/</a>\n",
       "</li><li><strong>protocol</strong>: custom</li><li><strong>carrier_frequency</strong>: 434</li></ul></li></ul></li><li><strong>EcoManagerWholeHouseTx</strong>: <ul><li><strong>brand</strong>: EcoManager</li><li><strong>brand_url</strong>: <a href=\"http://www.edfenergy.com/products-services/for-your-home/ecomanager\">http://www.edfenergy.com/products-services/for-your-home/ecomanager</a></li><li><strong>data_logger</strong>: <ul><li><strong>creators</strong>: <ul><li>Jack Kelly</li></ul></li><li><strong>model</strong>: rfm_ecomanager_logger</li><li><strong>model_url</strong>: <a href=\"https://github.com/JackKelly/rfm_ecomanager_logger\">https://github.com/JackKelly/rfm_ecomanager_logger</a></li></ul></li><li><strong>manufacturer</strong>: Current Cost / Sailwider</li><li><strong>max_sample_period</strong>: 120</li><li><strong>measurements</strong>: <ul><li>{'upper_limit': 25000, 'lower_limit': 0, 'physical_quantity': 'power', 'type': 'apparent'}</li></ul></li><li><strong>model</strong>: EcoManagerWholeHouseTx</li><li><strong>model_url</strong>: <a href=\"https://shop.edfenergy.com/Item.aspx?id=547\">https://shop.edfenergy.com/Item.aspx?id=547</a></li><li><strong>sample_period</strong>: 6</li><li><strong>seller</strong>: EDF Energy</li><li><strong>site_meter</strong>: True</li><li><strong>wireless</strong>: True</li><li><strong>wireless_configuration</strong>: <ul><li><strong>base</strong>: creators: [Jack Kelly] model: rfm_edf_ecomanager model_url: <a href=\"https://github.com/JackKelly/rfm_edf_ecomanager/\">https://github.com/JackKelly/rfm_edf_ecomanager/</a>\n",
       "</li><li><strong>protocol</strong>: custom</li><li><strong>carrier_frequency</strong>: 434</li></ul></li></ul></li><li><strong>EcoManagerTxPlug</strong>: <ul><li><strong>brand</strong>: EcoManager</li><li><strong>brand_url</strong>: <a href=\"http://www.edfenergy.com/products-services/for-your-home/ecomanager\">http://www.edfenergy.com/products-services/for-your-home/ecomanager</a></li><li><strong>data_logger</strong>: <ul><li><strong>creators</strong>: <ul><li>Jack Kelly</li></ul></li><li><strong>model</strong>: rfm_ecomanager_logger</li><li><strong>model_url</strong>: <a href=\"https://github.com/JackKelly/rfm_ecomanager_logger\">https://github.com/JackKelly/rfm_ecomanager_logger</a></li></ul></li><li><strong>manufacturer</strong>: Current Cost / Sailwider</li><li><strong>max_sample_period</strong>: 120</li><li><strong>measurements</strong>: <ul><li>{'upper_limit': 3300, 'lower_limit': 0, 'physical_quantity': 'power', 'type': 'active'}</li></ul></li><li><strong>model</strong>: EcoManagerTxPlug</li><li><strong>model_url</strong>: <a href=\"https://shop.edfenergy.com/Item.aspx?id=540\">https://shop.edfenergy.com/Item.aspx?id=540</a></li><li><strong>sample_period</strong>: 6</li><li><strong>seller</strong>: EDF Energy</li><li><strong>wireless</strong>: True</li><li><strong>wireless_configuration</strong>: <ul><li><strong>base</strong>: creators: [Jack Kelly] model: rfm_edf_ecomanager model_url: <a href=\"https://github.com/JackKelly/rfm_edf_ecomanager/\">https://github.com/JackKelly/rfm_edf_ecomanager/</a>\n",
       "</li><li><strong>protocol</strong>: custom</li><li><strong>carrier_frequency</strong>: 434</li></ul></li></ul></li><li><strong>SoundCardPowerMeter</strong>: <ul><li><strong>manufacturer</strong>: Jack Kelly / Imperial College London</li><li><strong>max_sample_period</strong>: 3</li><li><strong>measurements</strong>: <ul><li>{'upper_limit': 25000, 'lower_limit': 0, 'physical_quantity': 'power', 'type': 'active'}</li><li>{'upper_limit': 25000, 'lower_limit': 0, 'physical_quantity': 'power', 'type': 'apparent'}</li><li>{'description': 'RMS voltage', 'upper_limit': 275, 'lower_limit': 180, 'physical_quantity': 'voltage'}</li></ul></li><li><strong>model</strong>: Sound Card Power Meter</li><li><strong>model_url</strong>: <a href=\"https://github.com/JackKelly/snd_card_power_meter\">https://github.com/JackKelly/snd_card_power_meter</a></li><li><strong>sample_period</strong>: 1</li><li><strong>wireless</strong>: False</li></ul></li></ul></li></ul>"
      ],
      "text/plain": [
       "<IPython.core.display.HTML object>"
      ]
     },
     "metadata": {},
     "output_type": "display_data"
    }
   ],
   "source": [
    "print(type(ds.metadata))\n",
    "ntk.utils.print_dict(ds.metadata)"
   ]
  },
  {
   "cell_type": "markdown",
   "id": "f3abd772",
   "metadata": {
    "hidden": true
   },
   "source": [
    "### Get - \"ds.buildings\" in 'collections.OrderedDict'"
   ]
  },
  {
   "cell_type": "code",
   "execution_count": 12,
   "id": "aeb181ab",
   "metadata": {
    "hidden": true
   },
   "outputs": [
    {
     "name": "stdout",
     "output_type": "stream",
     "text": [
      "5\n",
      "<class 'collections.OrderedDict'>\n"
     ]
    },
    {
     "data": {
      "text/html": [
       "<ul><li><strong>1</strong>: Building(instance=1, dataset='UK-DALE')</li><li><strong>2</strong>: Building(instance=2, dataset='UK-DALE')</li><li><strong>3</strong>: Building(instance=3, dataset='UK-DALE')</li><li><strong>4</strong>: Building(instance=4, dataset='UK-DALE')</li><li><strong>5</strong>: Building(instance=5, dataset='UK-DALE')</li></ul>"
      ],
      "text/plain": [
       "<IPython.core.display.HTML object>"
      ]
     },
     "metadata": {},
     "output_type": "display_data"
    }
   ],
   "source": [
    "print(len(ds.buildings))\n",
    "print(type(ds.buildings))\n",
    "ntk.utils.print_dict(ds.buildings)"
   ]
  },
  {
   "cell_type": "markdown",
   "id": "8d10c33b",
   "metadata": {
    "heading_collapsed": true,
    "hidden": true
   },
   "source": [
    "## Dataset.Buildling \n",
    "\n",
    "Each building has a little bit of metadata associated with it (there isn't much building-specific metadata in UK-DALE):"
   ]
  },
  {
   "cell_type": "code",
   "execution_count": 13,
   "id": "75ea8587",
   "metadata": {
    "hidden": true
   },
   "outputs": [
    {
     "name": "stdout",
     "output_type": "stream",
     "text": [
      "<class 'nilmtk.building.Building'>\n",
      "Building(instance=1, dataset='UK-DALE')\n"
     ]
    }
   ],
   "source": [
    "# Define building/house number\n",
    "mybuilding = ds.buildings[1]\n",
    "print(type(ds.buildings[1]))\n",
    "print(mybuilding)"
   ]
  },
  {
   "cell_type": "markdown",
   "id": "f6e9d185",
   "metadata": {
    "heading_collapsed": true,
    "hidden": true
   },
   "source": [
    "### Access Building 1 metadata"
   ]
  },
  {
   "cell_type": "code",
   "execution_count": 14,
   "id": "79688c64",
   "metadata": {
    "hidden": true
   },
   "outputs": [
    {
     "name": "stdout",
     "output_type": "stream",
     "text": [
      "<class 'dict'>\n",
      "dict_keys(['building_type', 'construction_year', 'description', 'description_of_occupants', 'energy_improvements', 'heating', 'instance', 'n_occupants', 'original_name', 'ownership', 'rooms', 'timeframe', 'dataset'])\n",
      "['solar thermal', 'loft insulation', 'solid wall insulation', 'double glazing']\n"
     ]
    }
   ],
   "source": [
    "print(type(mybuilding.metadata))\n",
    "print(mybuilding.metadata.keys()) # Get all keys from dictionary\n",
    "print(mybuilding.metadata['energy_improvements'])"
   ]
  },
  {
   "cell_type": "markdown",
   "id": "c9cff6b3",
   "metadata": {
    "heading_collapsed": true,
    "hidden": true
   },
   "source": [
    "#### Extract specified key - timeframe"
   ]
  },
  {
   "cell_type": "code",
   "execution_count": 15,
   "id": "6f3a76c3",
   "metadata": {
    "hidden": true
   },
   "outputs": [
    {
     "name": "stdout",
     "output_type": "stream",
     "text": [
      "{'end': '2017-04-26T18:35:53+01:00', 'start': '2012-11-09T22:28:15+00:00'}\n"
     ]
    }
   ],
   "source": [
    "# Get the value of 'timeframe' by specifing the key in dictionary\n",
    "dict_metadata_timeframe = ds.buildings[1].metadata['timeframe']\n",
    "print(dict_metadata_timeframe)"
   ]
  },
  {
   "cell_type": "code",
   "execution_count": 16,
   "id": "75d37a4d",
   "metadata": {
    "hidden": true
   },
   "outputs": [
    {
     "name": "stdout",
     "output_type": "stream",
     "text": [
      "2012-11-09T22:28:15+00:00\n",
      "\n"
     ]
    }
   ],
   "source": [
    "# Extract the value of 'start' in 'timeframe'\n",
    "dict_timeframe_start = ds.buildings[1].metadata['timeframe']['start']\n",
    "print(dict_timeframe_start)\n",
    "print(\"\")"
   ]
  },
  {
   "cell_type": "markdown",
   "id": "5dc7531e",
   "metadata": {
    "heading_collapsed": true,
    "hidden": true
   },
   "source": [
    "#### Extract specified key - rooms"
   ]
  },
  {
   "cell_type": "code",
   "execution_count": 17,
   "id": "baf8a66c",
   "metadata": {
    "hidden": true
   },
   "outputs": [
    {
     "data": {
      "text/plain": [
       "[{'floor': 0, 'name': 'lounge'},\n",
       " {'floor': 0, 'instance': 1, 'name': 'hall'},\n",
       " {'floor': 1, 'instance': 2, 'name': 'hall'},\n",
       " {'floor': 0, 'name': 'kitchen'},\n",
       " {'floor': 0, 'name': 'utility'},\n",
       " {'floor': 0, 'name': 'dining room'},\n",
       " {'description': 'master bedroom',\n",
       "  'floor': 1,\n",
       "  'instance': 1,\n",
       "  'name': 'bedroom'},\n",
       " {'description': \"kid's bedroom\",\n",
       "  'floor': 1,\n",
       "  'instance': 2,\n",
       "  'name': 'bedroom'},\n",
       " {'description': 'occasionally used as a spare bedroom ',\n",
       "  'floor': 1,\n",
       "  'instance': 1,\n",
       "  'name': 'study'},\n",
       " {'description': 'shower + bath + toilet + sink + cupboards + hot water tank + boiler + solar thermal pumping station',\n",
       "  'floor': 1,\n",
       "  'instance': 1,\n",
       "  'name': 'bathroom'}]"
      ]
     },
     "execution_count": 17,
     "metadata": {},
     "output_type": "execute_result"
    }
   ],
   "source": [
    "mybuilding.metadata['rooms']"
   ]
  },
  {
   "cell_type": "code",
   "execution_count": 18,
   "id": "2f1aa607",
   "metadata": {
    "hidden": true
   },
   "outputs": [
    {
     "data": {
      "text/plain": [
       "{'floor': 0, 'instance': 1, 'name': 'hall'}"
      ]
     },
     "execution_count": 18,
     "metadata": {},
     "output_type": "execute_result"
    }
   ],
   "source": [
    "mybuilding.metadata['rooms'][1]"
   ]
  },
  {
   "cell_type": "markdown",
   "id": "f1496924",
   "metadata": {
    "heading_collapsed": true,
    "hidden": true
   },
   "source": [
    "### Building identifies"
   ]
  },
  {
   "cell_type": "code",
   "execution_count": 19,
   "id": "ed8dd2ac",
   "metadata": {
    "hidden": true
   },
   "outputs": [
    {
     "data": {
      "text/plain": [
       "BuildingID(instance=1, dataset='UK-DALE')"
      ]
     },
     "execution_count": 19,
     "metadata": {},
     "output_type": "execute_result"
    }
   ],
   "source": [
    "mybuilding.identifier"
   ]
  },
  {
   "cell_type": "code",
   "execution_count": 20,
   "id": "8784c285",
   "metadata": {
    "hidden": true
   },
   "outputs": [
    {
     "data": {
      "text/plain": [
       "nilmtk.building.BuildingID"
      ]
     },
     "execution_count": 20,
     "metadata": {},
     "output_type": "execute_result"
    }
   ],
   "source": [
    "type(mybuilding.identifier)"
   ]
  },
  {
   "cell_type": "markdown",
   "id": "94e361bc",
   "metadata": {
    "heading_collapsed": true,
    "hidden": true
   },
   "source": [
    "### Show buidling metadata"
   ]
  },
  {
   "cell_type": "code",
   "execution_count": 21,
   "id": "0f29c96c",
   "metadata": {
    "hidden": true
   },
   "outputs": [
    {
     "data": {
      "text/plain": [
       "{'building_type': 'end of terrace',\n",
       " 'construction_year': 1905,\n",
       " 'description': 'Some individual appliance meters are switched off from the socket for significant portions of time.  These include (using original names): laptop, kettle, toaster, lcd_office, hifi_office, livingroom_s_lamp, soldering_iron, gigE_&_USBhub, hoover, iPad_charger, utilityrm_lamp, hair_dryer, straighteners, iron, childs_ds_lamp, office_lamp3, office_pc, gigE_switch',\n",
       " 'description_of_occupants': '2 adults and 1 dog started living in the house in 2006 (i.e. before the dataset started recording).  One child born 2011-08-27 and a second child born 2014-04-27.',\n",
       " 'energy_improvements': ['solar thermal',\n",
       "  'loft insulation',\n",
       "  'solid wall insulation',\n",
       "  'double glazing'],\n",
       " 'heating': ['natural gas'],\n",
       " 'instance': 1,\n",
       " 'n_occupants': 4,\n",
       " 'original_name': 'house_1',\n",
       " 'ownership': 'bought',\n",
       " 'rooms': [{'floor': 0, 'name': 'lounge'},\n",
       "  {'floor': 0, 'instance': 1, 'name': 'hall'},\n",
       "  {'floor': 1, 'instance': 2, 'name': 'hall'},\n",
       "  {'floor': 0, 'name': 'kitchen'},\n",
       "  {'floor': 0, 'name': 'utility'},\n",
       "  {'floor': 0, 'name': 'dining room'},\n",
       "  {'description': 'master bedroom',\n",
       "   'floor': 1,\n",
       "   'instance': 1,\n",
       "   'name': 'bedroom'},\n",
       "  {'description': \"kid's bedroom\",\n",
       "   'floor': 1,\n",
       "   'instance': 2,\n",
       "   'name': 'bedroom'},\n",
       "  {'description': 'occasionally used as a spare bedroom ',\n",
       "   'floor': 1,\n",
       "   'instance': 1,\n",
       "   'name': 'study'},\n",
       "  {'description': 'shower + bath + toilet + sink + cupboards + hot water tank + boiler + solar thermal pumping station',\n",
       "   'floor': 1,\n",
       "   'instance': 1,\n",
       "   'name': 'bathroom'}],\n",
       " 'timeframe': {'end': '2017-04-26T18:35:53+01:00',\n",
       "  'start': '2012-11-09T22:28:15+00:00'},\n",
       " 'dataset': 'UK-DALE'}"
      ]
     },
     "execution_count": 21,
     "metadata": {},
     "output_type": "execute_result"
    }
   ],
   "source": [
    "mybuilding.metadata"
   ]
  },
  {
   "cell_type": "markdown",
   "id": "dee0b2a4",
   "metadata": {
    "heading_collapsed": true
   },
   "source": [
    "# Quick view of Building.MeterGroup\n",
    "\n",
    "To access the building metergroup from Dataset class. It uses to formulate the group of appliances, and form it metergroup.  Also, it shows various detail appliances in the building or house in \"nilmtk.metergroup.MeterGroup\""
   ]
  },
  {
   "cell_type": "code",
   "execution_count": 22,
   "id": "97bfcc87",
   "metadata": {
    "hidden": true
   },
   "outputs": [
    {
     "name": "stdout",
     "output_type": "stream",
     "text": [
      "<class 'nilmtk.metergroup.MeterGroup'>\n",
      "MeterGroup(meters=\n",
      "  ElecMeter(instance=2, building=1, dataset='UK-DALE', appliances=[Appliance(type='boiler', instance=1)])\n",
      "  ElecMeter(instance=3, building=1, dataset='UK-DALE', appliances=[Appliance(type='solar thermal pumping station', instance=1)])\n",
      "  ElecMeter(instance=4, building=1, dataset='UK-DALE', appliances=[Appliance(type='laptop computer', instance=1), Appliance(type='laptop computer', instance=3)])\n",
      "  ElecMeter(instance=5, building=1, dataset='UK-DALE', appliances=[Appliance(type='washer dryer', instance=1), Appliance(type='washer dryer', instance=2)])\n",
      "  ElecMeter(instance=6, building=1, dataset='UK-DALE', appliances=[Appliance(type='dish washer', instance=1)])\n",
      "  ElecMeter(instance=7, building=1, dataset='UK-DALE', appliances=[Appliance(type='television', instance=1)])\n",
      "  ElecMeter(instance=8, building=1, dataset='UK-DALE', appliances=[Appliance(type='light', instance=1), Appliance(type='light', instance=2)])\n",
      "  ElecMeter(instance=9, building=1, dataset='UK-DALE', appliances=[Appliance(type='HTPC', instance=1)])\n",
      "  ElecMeter(instance=10, building=1, dataset='UK-DALE', appliances=[Appliance(type='kettle', instance=1), Appliance(type='food processor', instance=1), Appliance(type='toasted sandwich maker', instance=1)])\n",
      "  ElecMeter(instance=11, building=1, dataset='UK-DALE', appliances=[Appliance(type='toaster', instance=1), Appliance(type='kitchen aid', instance=1), Appliance(type='food processor', instance=2)])\n",
      "  ElecMeter(instance=12, building=1, dataset='UK-DALE', appliances=[Appliance(type='fridge freezer', instance=1)])\n",
      "  ElecMeter(instance=13, building=1, dataset='UK-DALE', appliances=[Appliance(type='microwave', instance=1)])\n",
      "  ElecMeter(instance=14, building=1, dataset='UK-DALE', appliances=[Appliance(type='computer monitor', instance=1)])\n",
      "  ElecMeter(instance=15, building=1, dataset='UK-DALE', appliances=[Appliance(type='audio system', instance=1)])\n",
      "  ElecMeter(instance=16, building=1, dataset='UK-DALE', appliances=[Appliance(type='breadmaker', instance=1)])\n",
      "  ElecMeter(instance=17, building=1, dataset='UK-DALE', appliances=[Appliance(type='audio amplifier', instance=1)])\n",
      "  ElecMeter(instance=18, building=1, dataset='UK-DALE', appliances=[Appliance(type='broadband router', instance=1), Appliance(type='broadband router', instance=2)])\n",
      "  ElecMeter(instance=19, building=1, dataset='UK-DALE', appliances=[Appliance(type='light', instance=3), Appliance(type='bouncy castle pump', instance=1)])\n",
      "  ElecMeter(instance=20, building=1, dataset='UK-DALE', appliances=[Appliance(type='soldering iron', instance=1)])\n",
      "  ElecMeter(instance=21, building=1, dataset='UK-DALE', appliances=[Appliance(type='ethernet switch', instance=1), Appliance(type='USB hub', instance=1)])\n",
      "  ElecMeter(instance=22, building=1, dataset='UK-DALE', appliances=[Appliance(type='vacuum cleaner', instance=1)])\n",
      "  ElecMeter(instance=23, building=1, dataset='UK-DALE', appliances=[Appliance(type='light', instance=4)])\n",
      "  ElecMeter(instance=24, building=1, dataset='UK-DALE', appliances=[Appliance(type='light', instance=5)])\n",
      "  ElecMeter(instance=25, building=1, dataset='UK-DALE', appliances=[Appliance(type='light', instance=16)])\n",
      "  ElecMeter(instance=26, building=1, dataset='UK-DALE', appliances=[Appliance(type='light', instance=6)])\n",
      "  ElecMeter(instance=27, building=1, dataset='UK-DALE', appliances=[Appliance(type='tablet computer charger', instance=1)])\n",
      "  ElecMeter(instance=28, building=1, dataset='UK-DALE', appliances=[Appliance(type='active subwoofer', instance=1)])\n",
      "  ElecMeter(instance=29, building=1, dataset='UK-DALE', appliances=[Appliance(type='light', instance=7)])\n",
      "  ElecMeter(instance=30, building=1, dataset='UK-DALE', appliances=[Appliance(type='radio', instance=1)])\n",
      "  ElecMeter(instance=31, building=1, dataset='UK-DALE', appliances=[Appliance(type='light', instance=8)])\n",
      "  ElecMeter(instance=32, building=1, dataset='UK-DALE', appliances=[Appliance(type='wireless phone charger', instance=1), Appliance(type='audio system', instance=2)])\n",
      "  ElecMeter(instance=33, building=1, dataset='UK-DALE', appliances=[Appliance(type='light', instance=9)])\n",
      "  ElecMeter(instance=34, building=1, dataset='UK-DALE', appliances=[Appliance(type='mobile phone charger', instance=1)])\n",
      "  ElecMeter(instance=35, building=1, dataset='UK-DALE', appliances=[Appliance(type='light', instance=10)])\n",
      "  ElecMeter(instance=36, building=1, dataset='UK-DALE', appliances=[Appliance(type='coffee maker', instance=1)])\n",
      "  ElecMeter(instance=37, building=1, dataset='UK-DALE', appliances=[Appliance(type='radio', instance=2)])\n",
      "  ElecMeter(instance=38, building=1, dataset='UK-DALE', appliances=[Appliance(type='mobile phone charger', instance=2), Appliance(type='baby monitor', instance=2), Appliance(type='radio', instance=3)])\n",
      "  ElecMeter(instance=39, building=1, dataset='UK-DALE', appliances=[Appliance(type='hair dryer', instance=1)])\n",
      "  ElecMeter(instance=40, building=1, dataset='UK-DALE', appliances=[Appliance(type='hair straighteners', instance=1)])\n",
      "  ElecMeter(instance=41, building=1, dataset='UK-DALE', appliances=[Appliance(type='clothes iron', instance=1)])\n",
      "  ElecMeter(instance=42, building=1, dataset='UK-DALE', appliances=[Appliance(type='oven', instance=1)])\n",
      "  ElecMeter(instance=43, building=1, dataset='UK-DALE', appliances=[Appliance(type='computer', instance=1), Appliance(type='external hard disk', instance=1)])\n",
      "  ElecMeter(instance=44, building=1, dataset='UK-DALE', appliances=[Appliance(type='light', instance=11)])\n",
      "  ElecMeter(instance=45, building=1, dataset='UK-DALE', appliances=[Appliance(type='light', instance=12)])\n",
      "  ElecMeter(instance=46, building=1, dataset='UK-DALE', appliances=[Appliance(type='baby monitor', instance=1)])\n",
      "  ElecMeter(instance=47, building=1, dataset='UK-DALE', appliances=[Appliance(type='charger', instance=1)])\n",
      "  ElecMeter(instance=48, building=1, dataset='UK-DALE', appliances=[Appliance(type='light', instance=13)])\n",
      "  ElecMeter(instance=49, building=1, dataset='UK-DALE', appliances=[Appliance(type='light', instance=14)])\n",
      "  ElecMeter(instance=50, building=1, dataset='UK-DALE', appliances=[Appliance(type='light', instance=15)])\n",
      "  ElecMeter(instance=51, building=1, dataset='UK-DALE', appliances=[Appliance(type='desktop computer', instance=1)])\n",
      "  ElecMeter(instance=52, building=1, dataset='UK-DALE', appliances=[Appliance(type='fan', instance=1)])\n",
      "  ElecMeter(instance=53, building=1, dataset='UK-DALE', appliances=[Appliance(type='printer', instance=1)])\n",
      "  ElecMeter(instance=54, building=1, dataset='UK-DALE', site_meter, appliances=[Appliance(type='immersion heater', instance=1), Appliance(type='water pump', instance=1), Appliance(type='security alarm', instance=1), Appliance(type='fan', instance=2), Appliance(type='drill', instance=1), Appliance(type='laptop computer', instance=2)])\n",
      ")\n"
     ]
    }
   ],
   "source": [
    "house_data = ds.buildings[1].elec\n",
    "print(type(house_data))\n",
    "print(house_data)   # Each building has an elec attribute which is a MeterGroup object (much more about those soon!)"
   ]
  },
  {
   "cell_type": "code",
   "execution_count": 23,
   "id": "3b5cda6d",
   "metadata": {
    "hidden": true
   },
   "outputs": [
    {
     "name": "stdout",
     "output_type": "stream",
     "text": [
      "Appliance(type='light', instance=1)\n",
      "Appliance(type='drill', instance=1)\n",
      "Appliance(type='dish washer', instance=1)\n",
      "Appliance(type='light', instance=4)\n",
      "Appliance(type='microwave', instance=1)\n",
      "Appliance(type='vacuum cleaner', instance=1)\n",
      "Appliance(type='light', instance=7)\n",
      "Appliance(type='radio', instance=2)\n",
      "Appliance(type='light', instance=13)\n",
      "Appliance(type='light', instance=10)\n",
      "Appliance(type='light', instance=16)\n",
      "Appliance(type='hair dryer', instance=1)\n",
      "Appliance(type='hair straighteners', instance=1)\n",
      "Appliance(type='printer', instance=1)\n",
      "Appliance(type='laptop computer', instance=2)\n",
      "Appliance(type='computer monitor', instance=1)\n",
      "Appliance(type='wireless phone charger', instance=1)\n",
      "Appliance(type='toaster', instance=1)\n",
      "Appliance(type='water pump', instance=1)\n",
      "Appliance(type='audio system', instance=2)\n",
      "Appliance(type='active subwoofer', instance=1)\n",
      "Appliance(type='HTPC', instance=1)\n",
      "Appliance(type='mobile phone charger', instance=2)\n",
      "Appliance(type='clothes iron', instance=1)\n",
      "Appliance(type='food processor', instance=2)\n",
      "Appliance(type='audio amplifier', instance=1)\n",
      "Appliance(type='boiler', instance=1)\n",
      "Appliance(type='light', instance=6)\n",
      "Appliance(type='computer', instance=1)\n",
      "Appliance(type='light', instance=3)\n",
      "Appliance(type='light', instance=9)\n",
      "Appliance(type='light', instance=15)\n",
      "Appliance(type='radio', instance=1)\n",
      "Appliance(type='security alarm', instance=1)\n",
      "Appliance(type='light', instance=12)\n",
      "Appliance(type='fan', instance=2)\n",
      "Appliance(type='toasted sandwich maker', instance=1)\n",
      "Appliance(type='washer dryer', instance=2)\n",
      "Appliance(type='laptop computer', instance=1)\n",
      "Appliance(type='immersion heater', instance=1)\n",
      "Appliance(type='broadband router', instance=2)\n",
      "Appliance(type='baby monitor', instance=2)\n",
      "Appliance(type='desktop computer', instance=1)\n",
      "Appliance(type='audio system', instance=1)\n",
      "Appliance(type='kettle', instance=1)\n",
      "Appliance(type='light', instance=2)\n",
      "Appliance(type='food processor', instance=1)\n",
      "Appliance(type='breadmaker', instance=1)\n",
      "Appliance(type='light', instance=8)\n",
      "Appliance(type='light', instance=5)\n",
      "Appliance(type='mobile phone charger', instance=1)\n",
      "Appliance(type='oven', instance=1)\n",
      "Appliance(type='washer dryer', instance=1)\n",
      "Appliance(type='radio', instance=3)\n",
      "Appliance(type='light', instance=11)\n",
      "Appliance(type='charger', instance=1)\n",
      "Appliance(type='light', instance=14)\n",
      "Appliance(type='ethernet switch', instance=1)\n",
      "Appliance(type='fan', instance=1)\n",
      "Appliance(type='broadband router', instance=1)\n",
      "Appliance(type='laptop computer', instance=3)\n",
      "Appliance(type='USB hub', instance=1)\n",
      "Appliance(type='tablet computer charger', instance=1)\n",
      "Appliance(type='baby monitor', instance=1)\n",
      "Appliance(type='solar thermal pumping station', instance=1)\n",
      "Appliance(type='television', instance=1)\n",
      "Appliance(type='kitchen aid', instance=1)\n",
      "Appliance(type='bouncy castle pump', instance=1)\n",
      "Appliance(type='soldering iron', instance=1)\n",
      "Appliance(type='coffee maker', instance=1)\n",
      "Appliance(type='external hard disk', instance=1)\n",
      "Appliance(type='fridge freezer', instance=1)\n"
     ]
    }
   ],
   "source": [
    "for item in house_data.appliances:\n",
    "    print(item)"
   ]
  },
  {
   "cell_type": "code",
   "execution_count": 24,
   "id": "abe37e46",
   "metadata": {
    "hidden": true
   },
   "outputs": [
    {
     "data": {
      "text/plain": [
       "Appliance(type='light', instance=1)"
      ]
     },
     "execution_count": 24,
     "metadata": {},
     "output_type": "execute_result"
    }
   ],
   "source": [
    "ds.buildings[1].elec.appliances[0]"
   ]
  },
  {
   "cell_type": "code",
   "execution_count": 25,
   "id": "c885f5ac",
   "metadata": {
    "hidden": true
   },
   "outputs": [],
   "source": [
    "house = ds.buildings[1].elec"
   ]
  },
  {
   "cell_type": "code",
   "execution_count": 26,
   "id": "208954ca",
   "metadata": {
    "hidden": true
   },
   "outputs": [
    {
     "data": {
      "text/plain": [
       "MeterGroup(meters=\n",
       "  ElecMeter(instance=8, building=1, dataset='UK-DALE', appliances=[Appliance(type='light', instance=1), Appliance(type='light', instance=2)])\n",
       "  ElecMeter(instance=19, building=1, dataset='UK-DALE', appliances=[Appliance(type='light', instance=3), Appliance(type='bouncy castle pump', instance=1)])\n",
       "  ElecMeter(instance=23, building=1, dataset='UK-DALE', appliances=[Appliance(type='light', instance=4)])\n",
       "  ElecMeter(instance=24, building=1, dataset='UK-DALE', appliances=[Appliance(type='light', instance=5)])\n",
       "  ElecMeter(instance=25, building=1, dataset='UK-DALE', appliances=[Appliance(type='light', instance=16)])\n",
       "  ElecMeter(instance=26, building=1, dataset='UK-DALE', appliances=[Appliance(type='light', instance=6)])\n",
       "  ElecMeter(instance=29, building=1, dataset='UK-DALE', appliances=[Appliance(type='light', instance=7)])\n",
       "  ElecMeter(instance=31, building=1, dataset='UK-DALE', appliances=[Appliance(type='light', instance=8)])\n",
       "  ElecMeter(instance=33, building=1, dataset='UK-DALE', appliances=[Appliance(type='light', instance=9)])\n",
       "  ElecMeter(instance=35, building=1, dataset='UK-DALE', appliances=[Appliance(type='light', instance=10)])\n",
       "  ElecMeter(instance=44, building=1, dataset='UK-DALE', appliances=[Appliance(type='light', instance=11)])\n",
       "  ElecMeter(instance=45, building=1, dataset='UK-DALE', appliances=[Appliance(type='light', instance=12)])\n",
       "  ElecMeter(instance=48, building=1, dataset='UK-DALE', appliances=[Appliance(type='light', instance=13)])\n",
       "  ElecMeter(instance=49, building=1, dataset='UK-DALE', appliances=[Appliance(type='light', instance=14)])\n",
       "  ElecMeter(instance=50, building=1, dataset='UK-DALE', appliances=[Appliance(type='light', instance=15)])\n",
       "  ElecMeter(instance=10, building=1, dataset='UK-DALE', appliances=[Appliance(type='kettle', instance=1), Appliance(type='food processor', instance=1), Appliance(type='toasted sandwich maker', instance=1)])\n",
       "  ElecMeter(instance=11, building=1, dataset='UK-DALE', appliances=[Appliance(type='toaster', instance=1), Appliance(type='kitchen aid', instance=1), Appliance(type='food processor', instance=2)])\n",
       ")"
      ]
     },
     "execution_count": 26,
     "metadata": {},
     "output_type": "execute_result"
    }
   ],
   "source": [
    "house.select_using_appliances(type=['light', 'kettle', 'toaster'])"
   ]
  },
  {
   "cell_type": "code",
   "execution_count": 27,
   "id": "7e523b9e",
   "metadata": {
    "hidden": true
   },
   "outputs": [
    {
     "data": {
      "text/plain": [
       "MeterGroup(meters=\n",
       "  ElecMeter(instance=2, building=1, dataset='UK-DALE', appliances=[Appliance(type='boiler', instance=1)])\n",
       "  ElecMeter(instance=3, building=1, dataset='UK-DALE', appliances=[Appliance(type='solar thermal pumping station', instance=1)])\n",
       "  ElecMeter(instance=54, building=1, dataset='UK-DALE', site_meter, appliances=[Appliance(type='immersion heater', instance=1), Appliance(type='water pump', instance=1), Appliance(type='security alarm', instance=1), Appliance(type='fan', instance=2), Appliance(type='drill', instance=1), Appliance(type='laptop computer', instance=2)])\n",
       ")"
      ]
     },
     "execution_count": 27,
     "metadata": {},
     "output_type": "execute_result"
    }
   ],
   "source": [
    "house.select_using_appliances(room='bathroom')"
   ]
  },
  {
   "cell_type": "code",
   "execution_count": 28,
   "id": "e4bc6dee",
   "metadata": {
    "hidden": true
   },
   "outputs": [
    {
     "data": {
      "text/plain": [
       "MeterGroup(meters=\n",
       "  ElecMeter(instance=8, building=1, dataset='UK-DALE', appliances=[Appliance(type='light', instance=1), Appliance(type='light', instance=2)])\n",
       "  ElecMeter(instance=19, building=1, dataset='UK-DALE', appliances=[Appliance(type='light', instance=3), Appliance(type='bouncy castle pump', instance=1)])\n",
       "  ElecMeter(instance=23, building=1, dataset='UK-DALE', appliances=[Appliance(type='light', instance=4)])\n",
       "  ElecMeter(instance=24, building=1, dataset='UK-DALE', appliances=[Appliance(type='light', instance=5)])\n",
       "  ElecMeter(instance=25, building=1, dataset='UK-DALE', appliances=[Appliance(type='light', instance=16)])\n",
       "  ElecMeter(instance=26, building=1, dataset='UK-DALE', appliances=[Appliance(type='light', instance=6)])\n",
       "  ElecMeter(instance=29, building=1, dataset='UK-DALE', appliances=[Appliance(type='light', instance=7)])\n",
       "  ElecMeter(instance=31, building=1, dataset='UK-DALE', appliances=[Appliance(type='light', instance=8)])\n",
       "  ElecMeter(instance=33, building=1, dataset='UK-DALE', appliances=[Appliance(type='light', instance=9)])\n",
       "  ElecMeter(instance=35, building=1, dataset='UK-DALE', appliances=[Appliance(type='light', instance=10)])\n",
       "  ElecMeter(instance=44, building=1, dataset='UK-DALE', appliances=[Appliance(type='light', instance=11)])\n",
       "  ElecMeter(instance=45, building=1, dataset='UK-DALE', appliances=[Appliance(type='light', instance=12)])\n",
       "  ElecMeter(instance=48, building=1, dataset='UK-DALE', appliances=[Appliance(type='light', instance=13)])\n",
       "  ElecMeter(instance=49, building=1, dataset='UK-DALE', appliances=[Appliance(type='light', instance=14)])\n",
       "  ElecMeter(instance=50, building=1, dataset='UK-DALE', appliances=[Appliance(type='light', instance=15)])\n",
       ")"
      ]
     },
     "execution_count": 28,
     "metadata": {},
     "output_type": "execute_result"
    }
   ],
   "source": [
    "house.select_using_appliances(category='lighting')"
   ]
  },
  {
   "cell_type": "code",
   "execution_count": 29,
   "id": "55ce9dbf",
   "metadata": {
    "hidden": true
   },
   "outputs": [
    {
     "name": "stdout",
     "output_type": "stream",
     "text": [
      "<class 'nilmtk.metergroup.MeterGroup'>\n"
     ]
    }
   ],
   "source": [
    "print(type(ds.buildings[1].elec))"
   ]
  },
  {
   "cell_type": "code",
   "execution_count": 30,
   "id": "245fbcef",
   "metadata": {
    "hidden": true
   },
   "outputs": [
    {
     "data": {
      "text/plain": [
       "ElecMeter(instance=11, building=1, dataset='UK-DALE', appliances=[Appliance(type='toaster', instance=1), Appliance(type='kitchen aid', instance=1), Appliance(type='food processor', instance=2)])"
      ]
     },
     "execution_count": 30,
     "metadata": {},
     "output_type": "execute_result"
    }
   ],
   "source": [
    "house.__getitem__('toaster')"
   ]
  },
  {
   "cell_type": "markdown",
   "id": "bc63ab5d",
   "metadata": {
    "heading_collapsed": true
   },
   "source": [
    "# Workout & Findings\n",
    "\n",
    "After the completion this notebook, prepare a simple presentation slide to express your summary and new discovery information from here."
   ]
  },
  {
   "cell_type": "code",
   "execution_count": null,
   "id": "a92439f1-a0f9-419e-b7fa-15a7d8f4e82c",
   "metadata": {},
   "outputs": [],
   "source": []
  }
 ],
 "metadata": {
  "kernelspec": {
   "display_name": "Python 3 (ipykernel)",
   "language": "python",
   "name": "python3"
  },
  "language_info": {
   "codemirror_mode": {
    "name": "ipython",
    "version": 3
   },
   "file_extension": ".py",
   "mimetype": "text/x-python",
   "name": "python",
   "nbconvert_exporter": "python",
   "pygments_lexer": "ipython3",
   "version": "3.8.17"
  },
  "toc": {
   "base_numbering": 1,
   "nav_menu": {},
   "number_sections": true,
   "sideBar": true,
   "skip_h1_title": false,
   "title_cell": "Table of Contents",
   "title_sidebar": "Contents",
   "toc_cell": false,
   "toc_position": {},
   "toc_section_display": true,
   "toc_window_display": false
  }
 },
 "nbformat": 4,
 "nbformat_minor": 5
}
